{
 "cells": [
  {
   "cell_type": "code",
   "execution_count": 1,
   "metadata": {
    "execution": {
     "iopub.execute_input": "2024-12-01T13:24:25.643664Z",
     "iopub.status.busy": "2024-12-01T13:24:25.643242Z",
     "iopub.status.idle": "2024-12-01T13:24:32.591717Z",
     "shell.execute_reply": "2024-12-01T13:24:32.590483Z",
     "shell.execute_reply.started": "2024-12-01T13:24:25.643616Z"
    },
    "trusted": true
   },
   "outputs": [],
   "source": [
    "import numpy as np\n",
    "import pandas as pd\n",
    "import seaborn as sns\n",
    "import matplotlib.pyplot as plt\n",
    "\n",
    "from pandas.plotting import scatter_matrix\n",
    "from sklearn.preprocessing import LabelEncoder, OneHotEncoder, StandardScaler\n",
    "from sklearn.model_selection import train_test_split\n",
    "\n",
    "import torch\n",
    "import torch.nn as nn\n",
    "import torch.optim as optim"
   ]
  },
  {
   "cell_type": "markdown",
   "metadata": {},
   "source": [
    "# Data"
   ]
  },
  {
   "cell_type": "code",
   "execution_count": 2,
   "metadata": {
    "execution": {
     "iopub.execute_input": "2024-12-01T13:24:32.594110Z",
     "iopub.status.busy": "2024-12-01T13:24:32.593590Z",
     "iopub.status.idle": "2024-12-01T13:24:32.795037Z",
     "shell.execute_reply": "2024-12-01T13:24:32.794078Z",
     "shell.execute_reply.started": "2024-12-01T13:24:32.594074Z"
    },
    "trusted": true
   },
   "outputs": [],
   "source": [
    "# data_path = \"/kaggle/input/traffic/data.csv\"\n",
    "data_path = \"data.csv\"\n",
    "\n",
    "df = pd.read_csv(data_path)\n"
   ]
  },
  {
   "cell_type": "code",
   "execution_count": 3,
   "metadata": {
    "execution": {
     "iopub.execute_input": "2024-12-01T13:24:32.796530Z",
     "iopub.status.busy": "2024-12-01T13:24:32.796232Z",
     "iopub.status.idle": "2024-12-01T13:24:32.858424Z",
     "shell.execute_reply": "2024-12-01T13:24:32.857242Z",
     "shell.execute_reply.started": "2024-12-01T13:24:32.796501Z"
    },
    "trusted": true
   },
   "outputs": [],
   "source": [
    "df = df[df['Dst Port'] != 'Dst Port']\n",
    "\n",
    "df['Dst Port'] = df['Dst Port'].astype(int)\n",
    "df['Protocol'] = df['Protocol'].astype(int)\n",
    "df['Flow Duration'] = df['Flow Duration'].astype(int)\n",
    "df['Tot Fwd Pkts'] = df['Tot Fwd Pkts'].astype(int)\n",
    "df['Tot Bwd Pkts'] = df['Tot Bwd Pkts'].astype(int)\n",
    "df['TotLen Fwd Pkts'] = df['TotLen Fwd Pkts'].astype(int)\n",
    "df['TotLen Bwd Pkts'] = df['TotLen Bwd Pkts'].astype(int)\n",
    "df['Fwd Pkt Len Max'] = df['Fwd Pkt Len Max'].astype(int)\n",
    "df['Fwd Pkt Len Min'] = df['Fwd Pkt Len Min'].astype(int)\n",
    "df['Fwd Pkt Len Mean'] = df['Fwd Pkt Len Mean'].astype(float)\n",
    "df['Fwd Pkt Len Std'] = df['Fwd Pkt Len Std'].astype(float)\n",
    "df['Bwd Pkt Len Max'] = df['Bwd Pkt Len Max'].astype(int)\n",
    "df['Bwd Pkt Len Min'] = df['Bwd Pkt Len Min'].astype(int)\n",
    "df['Bwd Pkt Len Mean'] = df['Bwd Pkt Len Mean'].astype(float)\n",
    "df['Bwd Pkt Len Std'] = df['Bwd Pkt Len Std'].astype(float)\n",
    "df['Flow Byts/s'] = df['Flow Byts/s'].astype(float)\n",
    "df['Flow Pkts/s'] = df['Flow Pkts/s'].astype(float)\n",
    "df['Flow IAT Mean'] = df['Flow IAT Mean'].astype(float)\n",
    "df['Flow IAT Std'] = df['Flow IAT Std'].astype(float)\n",
    "df['Flow IAT Max'] = df['Flow IAT Max'].astype(int)\n",
    "df['Flow IAT Min'] = df['Flow IAT Min'].astype(int)\n",
    "df['Fwd IAT Tot'] = df['Fwd IAT Tot'].astype(int)\n",
    "df['Fwd IAT Mean'] = df['Fwd IAT Mean'].astype(float)\n",
    "df['Fwd IAT Std'] = df['Fwd IAT Std'].astype(float)\n",
    "df['Fwd IAT Max'] = df['Fwd IAT Max'].astype(int)\n",
    "df['Fwd IAT Min'] = df['Fwd IAT Min'].astype(int)\n",
    "df['Bwd IAT Tot'] = df['Bwd IAT Tot'].astype(int)\n",
    "df['Bwd IAT Mean'] = df['Bwd IAT Mean'].astype(float)\n",
    "df['Bwd IAT Std'] = df['Bwd IAT Std'].astype(float)\n",
    "df['Bwd IAT Max'] = df['Bwd IAT Max'].astype(int)\n",
    "df['Bwd IAT Min'] = df['Bwd IAT Min'].astype(int)\n",
    "df['Fwd PSH Flags'] = df['Fwd PSH Flags'].astype(int)\n",
    "df['Bwd PSH Flags'] = df['Bwd PSH Flags'].astype(int)\n",
    "df['Fwd URG Flags'] = df['Fwd URG Flags'].astype(int)\n",
    "df['Bwd URG Flags'] = df['Bwd URG Flags'].astype(int)\n",
    "df['Fwd Header Len'] = df['Fwd Header Len'].astype(int)\n",
    "df['Bwd Header Len'] = df['Bwd Header Len'].astype(int)\n",
    "df['Fwd Pkts/s'] = df['Fwd Pkts/s'].astype(float)\n",
    "df['Bwd Pkts/s'] = df['Bwd Pkts/s'].astype(float)\n",
    "df['Pkt Len Min'] = df['Pkt Len Min'].astype(int)\n",
    "df['Pkt Len Max'] = df['Pkt Len Max'].astype(int)\n",
    "df['Pkt Len Mean'] = df['Pkt Len Mean'].astype(float)\n",
    "df['Pkt Len Std'] = df['Pkt Len Std'].astype(float)\n",
    "df['Pkt Len Var'] = df['Pkt Len Var'].astype(float)\n",
    "df['FIN Flag Cnt'] = df['FIN Flag Cnt'].astype(int)\n",
    "df['SYN Flag Cnt'] = df['SYN Flag Cnt'].astype(int)\n",
    "df['RST Flag Cnt'] = df['RST Flag Cnt'].astype(int)\n",
    "df['PSH Flag Cnt'] = df['PSH Flag Cnt'].astype(int)\n",
    "df['ACK Flag Cnt'] = df['ACK Flag Cnt'].astype(int)\n",
    "df['URG Flag Cnt'] = df['URG Flag Cnt'].astype(int)\n",
    "df['CWE Flag Count'] = df['CWE Flag Count'].astype(int)\n",
    "df['ECE Flag Cnt'] = df['ECE Flag Cnt'].astype(int)\n",
    "df['Down/Up Ratio'] = df['Down/Up Ratio'].astype(int)\n",
    "df['Pkt Size Avg'] = df['Pkt Size Avg'].astype(float)\n",
    "df['Fwd Seg Size Avg'] = df['Fwd Seg Size Avg'].astype(float)\n",
    "df['Bwd Seg Size Avg'] = df['Bwd Seg Size Avg'].astype(float)\n",
    "df['Fwd Byts/b Avg'] = df['Fwd Byts/b Avg'].astype(int)\n",
    "df['Fwd Pkts/b Avg'] = df['Fwd Pkts/b Avg'].astype(int)\n",
    "df['Fwd Blk Rate Avg'] = df['Fwd Blk Rate Avg'].astype(int)\n",
    "df['Bwd Byts/b Avg'] = df['Bwd Byts/b Avg'].astype(int)\n",
    "df['Bwd Pkts/b Avg'] = df['Bwd Pkts/b Avg'].astype(int)\n",
    "df['Bwd Blk Rate Avg'] = df['Bwd Blk Rate Avg'].astype(int)\n",
    "df['Subflow Fwd Pkts'] = df['Subflow Fwd Pkts'].astype(int)\n",
    "df['Subflow Fwd Byts'] = df['Subflow Fwd Byts'].astype(int)\n",
    "df['Subflow Bwd Pkts'] = df['Subflow Bwd Pkts'].astype(int)\n",
    "df['Subflow Bwd Byts'] = df['Subflow Bwd Byts'].astype(int)\n",
    "df['Init Fwd Win Byts'] = df['Init Fwd Win Byts'].astype(int)\n",
    "df['Init Bwd Win Byts'] = df['Init Bwd Win Byts'].astype(int)\n",
    "df['Fwd Act Data Pkts'] = df['Fwd Act Data Pkts'].astype(int)\n",
    "df['Fwd Seg Size Min'] = df['Fwd Seg Size Min'].astype(int)\n",
    "df['Active Mean'] = df['Active Mean'].astype(float)\n",
    "df['Active Std'] = df['Active Std'].astype(float)\n",
    "df['Active Max'] = df['Active Max'].astype(int)\n",
    "df['Active Min'] = df['Active Min'].astype(int)\n",
    "df['Idle Mean'] = df['Idle Mean'].astype(float)\n",
    "df['Idle Std'] = df['Idle Std'].astype(float)\n",
    "df['Idle Max'] = df['Idle Max'].astype(int)\n",
    "df['Idle Min'] = df['Idle Min'].astype(int)"
   ]
  },
  {
   "cell_type": "code",
   "execution_count": 4,
   "metadata": {
    "execution": {
     "iopub.execute_input": "2024-12-01T13:24:32.862541Z",
     "iopub.status.busy": "2024-12-01T13:24:32.861928Z",
     "iopub.status.idle": "2024-12-01T13:24:32.898442Z",
     "shell.execute_reply": "2024-12-01T13:24:32.897238Z",
     "shell.execute_reply.started": "2024-12-01T13:24:32.862503Z"
    },
    "trusted": true
   },
   "outputs": [],
   "source": [
    "df.drop([\"Timestamp\"], axis=1, inplace=True)\n",
    "df.drop([\"Dst Port\"], axis=1, inplace=True)\n",
    "\n",
    "df[\"Flow Byts/s\"] = df[\"Flow Byts/s\"].replace(np.inf, np.nan)\n",
    "df[\"Flow Pkts/s\"] = df[\"Flow Pkts/s\"].replace(np.inf, np.nan)\n",
    "\n",
    "df[\"Flow Pkts/s\"] = df[\"Flow Pkts/s\"].replace(np.nan, df[\"Flow Pkts/s\"].max())"
   ]
  },
  {
   "cell_type": "code",
   "execution_count": 5,
   "metadata": {
    "execution": {
     "iopub.execute_input": "2024-12-01T13:24:32.900454Z",
     "iopub.status.busy": "2024-12-01T13:24:32.899984Z",
     "iopub.status.idle": "2024-12-01T13:24:32.930524Z",
     "shell.execute_reply": "2024-12-01T13:24:32.929449Z",
     "shell.execute_reply.started": "2024-12-01T13:24:32.900406Z"
    },
    "trusted": true
   },
   "outputs": [],
   "source": [
    "df.replace([np.inf, -np.inf], np.nan, inplace=True)\n",
    "\n",
    "df.dropna(inplace=True)\n"
   ]
  },
  {
   "cell_type": "markdown",
   "metadata": {},
   "source": [
    "## Label encode"
   ]
  },
  {
   "cell_type": "code",
   "execution_count": 6,
   "metadata": {
    "execution": {
     "iopub.execute_input": "2024-12-01T13:24:32.932285Z",
     "iopub.status.busy": "2024-12-01T13:24:32.931938Z",
     "iopub.status.idle": "2024-12-01T13:24:32.940436Z",
     "shell.execute_reply": "2024-12-01T13:24:32.939218Z",
     "shell.execute_reply.started": "2024-12-01T13:24:32.932250Z"
    },
    "trusted": true
   },
   "outputs": [
    {
     "name": "stdout",
     "output_type": "stream",
     "text": [
      "135\n"
     ]
    }
   ],
   "source": [
    "df['Label'].values\n",
    "# how many rows with Label == 'DoS attacks-SynFlood'\n",
    "print(df[df['Label'] == 'DoS attacks-SynFlood'].shape[0])"
   ]
  },
  {
   "cell_type": "code",
   "execution_count": 8,
   "metadata": {
    "execution": {
     "iopub.execute_input": "2024-12-01T13:24:32.941864Z",
     "iopub.status.busy": "2024-12-01T13:24:32.941551Z",
     "iopub.status.idle": "2024-12-01T13:24:32.957880Z",
     "shell.execute_reply": "2024-12-01T13:24:32.956544Z",
     "shell.execute_reply.started": "2024-12-01T13:24:32.941816Z"
    },
    "trusted": true
   },
   "outputs": [
    {
     "data": {
      "text/plain": [
       "15"
      ]
     },
     "execution_count": 8,
     "metadata": {},
     "output_type": "execute_result"
    }
   ],
   "source": [
    "vec_len = len(df['Label'].unique())\n",
    "vec_len"
   ]
  },
  {
   "cell_type": "code",
   "execution_count": 9,
   "metadata": {
    "execution": {
     "iopub.execute_input": "2024-12-01T13:24:32.959562Z",
     "iopub.status.busy": "2024-12-01T13:24:32.959231Z",
     "iopub.status.idle": "2024-12-01T13:24:32.991131Z",
     "shell.execute_reply": "2024-12-01T13:24:32.990218Z",
     "shell.execute_reply.started": "2024-12-01T13:24:32.959532Z"
    },
    "trusted": true
   },
   "outputs": [],
   "source": [
    "ohe = OneHotEncoder(sparse_output=False)\n",
    "labels_onehot = ohe.fit_transform(df['Label'].values.reshape(-1, 1))\n",
    "\n",
    "onehot_df = pd.DataFrame(labels_onehot, columns=ohe.categories_[0], index=df.index)\n",
    "\n",
    "df = pd.concat([df.drop(columns=['Label']), onehot_df], axis=1)"
   ]
  },
  {
   "cell_type": "code",
   "execution_count": 10,
   "metadata": {
    "execution": {
     "iopub.execute_input": "2024-12-01T13:24:32.992562Z",
     "iopub.status.busy": "2024-12-01T13:24:32.992233Z",
     "iopub.status.idle": "2024-12-01T13:24:33.023368Z",
     "shell.execute_reply": "2024-12-01T13:24:33.022196Z",
     "shell.execute_reply.started": "2024-12-01T13:24:32.992530Z"
    },
    "trusted": true
   },
   "outputs": [
    {
     "data": {
      "text/html": [
       "<div>\n",
       "<style scoped>\n",
       "    .dataframe tbody tr th:only-of-type {\n",
       "        vertical-align: middle;\n",
       "    }\n",
       "\n",
       "    .dataframe tbody tr th {\n",
       "        vertical-align: top;\n",
       "    }\n",
       "\n",
       "    .dataframe thead th {\n",
       "        text-align: right;\n",
       "    }\n",
       "</style>\n",
       "<table border=\"1\" class=\"dataframe\">\n",
       "  <thead>\n",
       "    <tr style=\"text-align: right;\">\n",
       "      <th></th>\n",
       "      <th>Protocol</th>\n",
       "      <th>Flow Duration</th>\n",
       "      <th>Tot Fwd Pkts</th>\n",
       "      <th>Tot Bwd Pkts</th>\n",
       "      <th>TotLen Fwd Pkts</th>\n",
       "      <th>TotLen Bwd Pkts</th>\n",
       "      <th>Fwd Pkt Len Max</th>\n",
       "      <th>Fwd Pkt Len Min</th>\n",
       "      <th>Fwd Pkt Len Mean</th>\n",
       "      <th>Fwd Pkt Len Std</th>\n",
       "      <th>...</th>\n",
       "      <th>DDOS attack-LOIC-UDP</th>\n",
       "      <th>DoS attacks-GoldenEye</th>\n",
       "      <th>DoS attacks-Hulk</th>\n",
       "      <th>DoS attacks-SlowHTTPTest</th>\n",
       "      <th>DoS attacks-Slowloris</th>\n",
       "      <th>DoS attacks-SynFlood</th>\n",
       "      <th>FTP-BruteForce</th>\n",
       "      <th>Infilteration</th>\n",
       "      <th>SQL Injection</th>\n",
       "      <th>SSH-Bruteforce</th>\n",
       "    </tr>\n",
       "  </thead>\n",
       "  <tbody>\n",
       "    <tr>\n",
       "      <th>0</th>\n",
       "      <td>6</td>\n",
       "      <td>165</td>\n",
       "      <td>2</td>\n",
       "      <td>0</td>\n",
       "      <td>0</td>\n",
       "      <td>0</td>\n",
       "      <td>0</td>\n",
       "      <td>0</td>\n",
       "      <td>0.00</td>\n",
       "      <td>0.000000</td>\n",
       "      <td>...</td>\n",
       "      <td>0.0</td>\n",
       "      <td>0.0</td>\n",
       "      <td>0.0</td>\n",
       "      <td>0.0</td>\n",
       "      <td>0.0</td>\n",
       "      <td>0.0</td>\n",
       "      <td>0.0</td>\n",
       "      <td>0.0</td>\n",
       "      <td>0.0</td>\n",
       "      <td>0.0</td>\n",
       "    </tr>\n",
       "    <tr>\n",
       "      <th>1</th>\n",
       "      <td>6</td>\n",
       "      <td>5727100</td>\n",
       "      <td>4</td>\n",
       "      <td>4</td>\n",
       "      <td>97</td>\n",
       "      <td>231</td>\n",
       "      <td>97</td>\n",
       "      <td>0</td>\n",
       "      <td>24.25</td>\n",
       "      <td>48.500000</td>\n",
       "      <td>...</td>\n",
       "      <td>0.0</td>\n",
       "      <td>0.0</td>\n",
       "      <td>0.0</td>\n",
       "      <td>0.0</td>\n",
       "      <td>0.0</td>\n",
       "      <td>0.0</td>\n",
       "      <td>0.0</td>\n",
       "      <td>0.0</td>\n",
       "      <td>0.0</td>\n",
       "      <td>0.0</td>\n",
       "    </tr>\n",
       "    <tr>\n",
       "      <th>2</th>\n",
       "      <td>6</td>\n",
       "      <td>4053796</td>\n",
       "      <td>14</td>\n",
       "      <td>8</td>\n",
       "      <td>1456</td>\n",
       "      <td>1731</td>\n",
       "      <td>741</td>\n",
       "      <td>0</td>\n",
       "      <td>104.00</td>\n",
       "      <td>195.013609</td>\n",
       "      <td>...</td>\n",
       "      <td>0.0</td>\n",
       "      <td>0.0</td>\n",
       "      <td>0.0</td>\n",
       "      <td>0.0</td>\n",
       "      <td>0.0</td>\n",
       "      <td>0.0</td>\n",
       "      <td>0.0</td>\n",
       "      <td>0.0</td>\n",
       "      <td>0.0</td>\n",
       "      <td>0.0</td>\n",
       "    </tr>\n",
       "    <tr>\n",
       "      <th>3</th>\n",
       "      <td>6</td>\n",
       "      <td>833502</td>\n",
       "      <td>7</td>\n",
       "      <td>5</td>\n",
       "      <td>364</td>\n",
       "      <td>582</td>\n",
       "      <td>103</td>\n",
       "      <td>0</td>\n",
       "      <td>52.00</td>\n",
       "      <td>49.217206</td>\n",
       "      <td>...</td>\n",
       "      <td>0.0</td>\n",
       "      <td>0.0</td>\n",
       "      <td>0.0</td>\n",
       "      <td>0.0</td>\n",
       "      <td>0.0</td>\n",
       "      <td>0.0</td>\n",
       "      <td>0.0</td>\n",
       "      <td>0.0</td>\n",
       "      <td>0.0</td>\n",
       "      <td>0.0</td>\n",
       "    </tr>\n",
       "    <tr>\n",
       "      <th>4</th>\n",
       "      <td>17</td>\n",
       "      <td>601</td>\n",
       "      <td>1</td>\n",
       "      <td>1</td>\n",
       "      <td>53</td>\n",
       "      <td>85</td>\n",
       "      <td>53</td>\n",
       "      <td>53</td>\n",
       "      <td>53.00</td>\n",
       "      <td>0.000000</td>\n",
       "      <td>...</td>\n",
       "      <td>0.0</td>\n",
       "      <td>0.0</td>\n",
       "      <td>0.0</td>\n",
       "      <td>0.0</td>\n",
       "      <td>0.0</td>\n",
       "      <td>0.0</td>\n",
       "      <td>0.0</td>\n",
       "      <td>0.0</td>\n",
       "      <td>0.0</td>\n",
       "      <td>0.0</td>\n",
       "    </tr>\n",
       "  </tbody>\n",
       "</table>\n",
       "<p>5 rows × 92 columns</p>\n",
       "</div>"
      ],
      "text/plain": [
       "   Protocol  Flow Duration  Tot Fwd Pkts  Tot Bwd Pkts  TotLen Fwd Pkts  \\\n",
       "0         6            165             2             0                0   \n",
       "1         6        5727100             4             4               97   \n",
       "2         6        4053796            14             8             1456   \n",
       "3         6         833502             7             5              364   \n",
       "4        17            601             1             1               53   \n",
       "\n",
       "   TotLen Bwd Pkts  Fwd Pkt Len Max  Fwd Pkt Len Min  Fwd Pkt Len Mean  \\\n",
       "0                0                0                0              0.00   \n",
       "1              231               97                0             24.25   \n",
       "2             1731              741                0            104.00   \n",
       "3              582              103                0             52.00   \n",
       "4               85               53               53             53.00   \n",
       "\n",
       "   Fwd Pkt Len Std  ...  DDOS attack-LOIC-UDP  DoS attacks-GoldenEye  \\\n",
       "0         0.000000  ...                   0.0                    0.0   \n",
       "1        48.500000  ...                   0.0                    0.0   \n",
       "2       195.013609  ...                   0.0                    0.0   \n",
       "3        49.217206  ...                   0.0                    0.0   \n",
       "4         0.000000  ...                   0.0                    0.0   \n",
       "\n",
       "   DoS attacks-Hulk  DoS attacks-SlowHTTPTest  DoS attacks-Slowloris  \\\n",
       "0               0.0                       0.0                    0.0   \n",
       "1               0.0                       0.0                    0.0   \n",
       "2               0.0                       0.0                    0.0   \n",
       "3               0.0                       0.0                    0.0   \n",
       "4               0.0                       0.0                    0.0   \n",
       "\n",
       "   DoS attacks-SynFlood  FTP-BruteForce  Infilteration  SQL Injection  \\\n",
       "0                   0.0             0.0            0.0            0.0   \n",
       "1                   0.0             0.0            0.0            0.0   \n",
       "2                   0.0             0.0            0.0            0.0   \n",
       "3                   0.0             0.0            0.0            0.0   \n",
       "4                   0.0             0.0            0.0            0.0   \n",
       "\n",
       "   SSH-Bruteforce  \n",
       "0             0.0  \n",
       "1             0.0  \n",
       "2             0.0  \n",
       "3             0.0  \n",
       "4             0.0  \n",
       "\n",
       "[5 rows x 92 columns]"
      ]
     },
     "execution_count": 10,
     "metadata": {},
     "output_type": "execute_result"
    }
   ],
   "source": [
    "df.head()"
   ]
  },
  {
   "cell_type": "code",
   "execution_count": 11,
   "metadata": {
    "execution": {
     "iopub.execute_input": "2024-12-01T13:24:33.026729Z",
     "iopub.status.busy": "2024-12-01T13:24:33.026369Z",
     "iopub.status.idle": "2024-12-01T13:24:33.033740Z",
     "shell.execute_reply": "2024-12-01T13:24:33.032419Z",
     "shell.execute_reply.started": "2024-12-01T13:24:33.026694Z"
    },
    "trusted": true
   },
   "outputs": [
    {
     "name": "stdout",
     "output_type": "stream",
     "text": [
      "[[1. 0. 0. ... 0. 0. 0.]\n",
      " [1. 0. 0. ... 0. 0. 0.]\n",
      " [1. 0. 0. ... 0. 0. 0.]\n",
      " ...\n",
      " [0. 0. 0. ... 0. 0. 0.]\n",
      " [0. 0. 0. ... 0. 0. 0.]\n",
      " [0. 0. 0. ... 0. 0. 0.]]\n"
     ]
    }
   ],
   "source": [
    "print(labels_onehot)"
   ]
  },
  {
   "cell_type": "code",
   "execution_count": 12,
   "metadata": {},
   "outputs": [
    {
     "data": {
      "image/png": "[encoded data removed]",
      "text/plain": [
       "<Figure size 1000x600 with 1 Axes>"
      ]
     },
     "metadata": {},
     "output_type": "display_data"
    }
   ],
   "source": [
    "# Sum the one-hot encoded labels along the rows to get the count of each label\n",
    "label_counts = labels_onehot.sum(axis=0)\n",
    "\n",
    "# Plot the histogram\n",
    "plt.figure(figsize=(10, 6))\n",
    "plt.bar(ohe.categories_[0], label_counts)\n",
    "plt.xlabel('Labels')\n",
    "plt.ylabel('Count')\n",
    "plt.title('Distribution of Labels')\n",
    "plt.xticks(rotation=90)\n",
    "plt.show()"
   ]
  },
  {
   "cell_type": "markdown",
   "metadata": {},
   "source": [
    "## Drop low corr with Label"
   ]
  },
  {
   "cell_type": "code",
   "execution_count": 13,
   "metadata": {
    "execution": {
     "iopub.execute_input": "2024-12-01T13:24:33.035878Z",
     "iopub.status.busy": "2024-12-01T13:24:33.035510Z",
     "iopub.status.idle": "2024-12-01T13:24:33.317248Z",
     "shell.execute_reply": "2024-12-01T13:24:33.316120Z",
     "shell.execute_reply.started": "2024-12-01T13:24:33.035812Z"
    },
    "trusted": true
   },
   "outputs": [
    {
     "name": "stdout",
     "output_type": "stream",
     "text": [
      "Subflow Fwd Pkts      Fwd Act Data Pkts       1.000000\n",
      "Fwd Act Data Pkts     Subflow Fwd Pkts        1.000000\n",
      "Tot Fwd Pkts          Fwd Act Data Pkts       1.000000\n",
      "Fwd Act Data Pkts     Tot Fwd Pkts            1.000000\n",
      "Tot Fwd Pkts          Fwd Header Len          0.999998\n",
      "Fwd Header Len        Tot Fwd Pkts            0.999998\n",
      "Subflow Fwd Pkts      Fwd Header Len          0.999998\n",
      "Fwd Header Len        Subflow Fwd Pkts        0.999998\n",
      "Fwd Act Data Pkts     Fwd Header Len          0.999996\n",
      "Fwd Header Len        Fwd Act Data Pkts       0.999996\n",
      "                      Subflow Fwd Byts        0.999948\n",
      "                      TotLen Fwd Pkts         0.999948\n",
      "TotLen Fwd Pkts       Fwd Header Len          0.999948\n",
      "Subflow Fwd Byts      Fwd Header Len          0.999948\n",
      "TotLen Fwd Pkts       Tot Fwd Pkts            0.999929\n",
      "Tot Fwd Pkts          TotLen Fwd Pkts         0.999929\n",
      "Subflow Fwd Pkts      Subflow Fwd Byts        0.999929\n",
      "Subflow Fwd Byts      Tot Fwd Pkts            0.999929\n",
      "Subflow Fwd Pkts      TotLen Fwd Pkts         0.999929\n",
      "Subflow Fwd Byts      Subflow Fwd Pkts        0.999929\n",
      "Tot Fwd Pkts          Subflow Fwd Byts        0.999929\n",
      "TotLen Fwd Pkts       Subflow Fwd Pkts        0.999929\n",
      "Fwd Act Data Pkts     TotLen Fwd Pkts         0.999922\n",
      "Subflow Fwd Byts      Fwd Act Data Pkts       0.999922\n",
      "Fwd Act Data Pkts     Subflow Fwd Byts        0.999922\n",
      "TotLen Fwd Pkts       Fwd Act Data Pkts       0.999922\n",
      "Tot Bwd Pkts          Bwd Header Len          0.999654\n",
      "Bwd Header Len        Tot Bwd Pkts            0.999654\n",
      "Subflow Bwd Pkts      Bwd Header Len          0.999654\n",
      "Bwd Header Len        Subflow Bwd Pkts        0.999654\n",
      "Fwd IAT Tot           Flow Duration           0.996923\n",
      "Flow Duration         Fwd IAT Tot             0.996923\n",
      "Pkt Size Avg          Pkt Len Mean            0.995362\n",
      "Pkt Len Mean          Pkt Size Avg            0.995362\n",
      "Fwd IAT Max           Flow IAT Max            0.992160\n",
      "Flow IAT Max          Fwd IAT Max             0.992160\n",
      "Fwd IAT Min           Fwd IAT Mean            0.988161\n",
      "Fwd IAT Mean          Fwd IAT Min             0.988161\n",
      "Subflow Bwd Byts      Tot Bwd Pkts            0.988151\n",
      "Subflow Bwd Pkts      Subflow Bwd Byts        0.988151\n",
      "Tot Bwd Pkts          TotLen Bwd Pkts         0.988151\n",
      "Subflow Bwd Byts      Subflow Bwd Pkts        0.988151\n",
      "Tot Bwd Pkts          Subflow Bwd Byts        0.988151\n",
      "TotLen Bwd Pkts       Tot Bwd Pkts            0.988151\n",
      "                      Subflow Bwd Pkts        0.988151\n",
      "Subflow Bwd Pkts      TotLen Bwd Pkts         0.988151\n",
      "Subflow Bwd Byts      Bwd Header Len          0.986876\n",
      "Bwd Header Len        Subflow Bwd Byts        0.986876\n",
      "TotLen Bwd Pkts       Bwd Header Len          0.986876\n",
      "Bwd Header Len        TotLen Bwd Pkts         0.986876\n",
      "Idle Min              Idle Mean               0.986684\n",
      "Idle Mean             Idle Min                0.986684\n",
      "                      Idle Max                0.971308\n",
      "Idle Max              Idle Mean               0.971308\n",
      "Fwd Act Data Pkts     DDOS attack-LOIC-UDP    0.970993\n",
      "DDOS attack-LOIC-UDP  Fwd Act Data Pkts       0.970993\n",
      "Tot Fwd Pkts          DDOS attack-LOIC-UDP    0.970991\n",
      "Subflow Fwd Pkts      DDOS attack-LOIC-UDP    0.970991\n",
      "DDOS attack-LOIC-UDP  Subflow Fwd Pkts        0.970991\n",
      "                      Tot Fwd Pkts            0.970991\n",
      "                      Fwd Header Len          0.970979\n",
      "Fwd Header Len        DDOS attack-LOIC-UDP    0.970979\n",
      "TotLen Fwd Pkts       DDOS attack-LOIC-UDP    0.970885\n",
      "Subflow Fwd Byts      DDOS attack-LOIC-UDP    0.970885\n",
      "DDOS attack-LOIC-UDP  Subflow Fwd Byts        0.970885\n",
      "                      TotLen Fwd Pkts         0.970885\n",
      "Fwd Pkt Len Min       Pkt Len Min             0.965539\n",
      "Pkt Len Min           Fwd Pkt Len Min         0.965539\n",
      "Pkt Len Std           Pkt Len Max             0.965278\n",
      "Pkt Len Max           Pkt Len Std             0.965278\n",
      "Bwd IAT Min           Bwd IAT Mean            0.963505\n",
      "Bwd IAT Mean          Bwd IAT Min             0.963505\n",
      "Active Max            Active Mean             0.962962\n",
      "Active Mean           Active Max              0.962962\n",
      "Idle Max              Flow IAT Max            0.959351\n",
      "Flow IAT Max          Idle Max                0.959351\n",
      "Idle Max              Fwd IAT Max             0.952743\n",
      "Fwd IAT Max           Idle Max                0.952743\n",
      "Fwd Pkts/s            Flow Pkts/s             0.946772\n",
      "Flow Pkts/s           Fwd Pkts/s              0.946772\n",
      "Fwd Pkt Len Max       Fwd Pkt Len Std         0.946267\n",
      "Fwd Pkt Len Std       Fwd Pkt Len Max         0.946267\n",
      "Bwd Pkt Len Max       Pkt Len Max             0.946000\n",
      "Pkt Len Max           Bwd Pkt Len Max         0.946000\n",
      "Active Min            Active Mean             0.943886\n",
      "Active Mean           Active Min              0.943886\n",
      "Idle Mean             Flow IAT Max            0.932604\n",
      "Flow IAT Max          Idle Mean               0.932604\n",
      "Bwd Pkt Len Std       Bwd Pkt Len Max         0.932590\n",
      "Bwd Pkt Len Max       Bwd Pkt Len Std         0.932590\n",
      "Flow IAT Mean         Flow IAT Min            0.928132\n",
      "Flow IAT Min          Flow IAT Mean           0.928132\n",
      "Idle Mean             Fwd IAT Max             0.924772\n",
      "Fwd IAT Max           Idle Mean               0.924772\n",
      "Idle Min              Idle Max                0.920208\n",
      "Idle Max              Idle Min                0.920208\n",
      "RST Flag Cnt          ECE Flag Cnt            0.915164\n",
      "ECE Flag Cnt          RST Flag Cnt            0.915164\n",
      "Pkt Len Std           Bwd Pkt Len Max         0.912610\n",
      "Bwd Pkt Len Max       Pkt Len Std             0.912610\n",
      "Bwd IAT Mean          Bwd IAT Max             0.911880\n",
      "Bwd IAT Max           Bwd IAT Mean            0.911880\n",
      "Bwd Pkt Len Std       Pkt Len Max             0.910120\n",
      "Pkt Len Max           Bwd Pkt Len Std         0.910120\n",
      "Bwd Seg Size Avg      Pkt Len Var             0.901908\n",
      "Bwd Pkt Len Mean      Pkt Len Var             0.901908\n",
      "Pkt Len Var           Bwd Seg Size Avg        0.901908\n",
      "                      Bwd Pkt Len Mean        0.901908\n",
      "Flow IAT Mean         Fwd IAT Mean            0.901841\n",
      "Fwd IAT Mean          Flow IAT Mean           0.901841\n",
      "dtype: float64\n"
     ]
    }
   ],
   "source": [
    "corr_matrix = df.corr(numeric_only=True)\n",
    "corr_pairs = corr_matrix.unstack()\n",
    "threshold = 0.9\n",
    "strong_corr = corr_pairs[\n",
    "    (abs(corr_pairs) > threshold)\n",
    "    & (corr_pairs != 1)\n",
    "    & (corr_pairs.index.get_level_values(0) != corr_pairs.index.get_level_values(1))\n",
    "]\n",
    "strong_corr = strong_corr.sort_values(ascending=False)\n",
    "pd.set_option(\"display.max_rows\", None)\n",
    "\n",
    "print(strong_corr)"
   ]
  },
  {
   "cell_type": "code",
   "execution_count": 14,
   "metadata": {
    "execution": {
     "iopub.execute_input": "2024-12-01T13:24:33.319031Z",
     "iopub.status.busy": "2024-12-01T13:24:33.318656Z",
     "iopub.status.idle": "2024-12-01T13:24:33.326782Z",
     "shell.execute_reply": "2024-12-01T13:24:33.325455Z",
     "shell.execute_reply.started": "2024-12-01T13:24:33.318994Z"
    },
    "trusted": true
   },
   "outputs": [],
   "source": [
    "cols_to_drop = set()\n",
    "\n",
    "for col1, col2 in strong_corr.index:\n",
    "    if col1 not in cols_to_drop:\n",
    "        cols_to_drop.add(col2)\n",
    "\n",
    "cols_to_drop.remove('DDOS attack-LOIC-UDP')\n"
   ]
  },
  {
   "cell_type": "code",
   "execution_count": 15,
   "metadata": {
    "execution": {
     "iopub.execute_input": "2024-12-01T13:24:33.328853Z",
     "iopub.status.busy": "2024-12-01T13:24:33.328436Z",
     "iopub.status.idle": "2024-12-01T13:24:33.344063Z",
     "shell.execute_reply": "2024-12-01T13:24:33.343093Z",
     "shell.execute_reply.started": "2024-12-01T13:24:33.328797Z"
    },
    "trusted": true
   },
   "outputs": [],
   "source": [
    "df_final = df.drop(columns=cols_to_drop, axis=1)"
   ]
  },
  {
   "cell_type": "code",
   "execution_count": 16,
   "metadata": {
    "execution": {
     "iopub.execute_input": "2024-12-01T13:24:33.345708Z",
     "iopub.status.busy": "2024-12-01T13:24:33.345325Z",
     "iopub.status.idle": "2024-12-01T13:24:33.355502Z",
     "shell.execute_reply": "2024-12-01T13:24:33.354370Z",
     "shell.execute_reply.started": "2024-12-01T13:24:33.345674Z"
    },
    "trusted": true
   },
   "outputs": [
    {
     "data": {
      "text/plain": [
       "(10256, 66)"
      ]
     },
     "execution_count": 16,
     "metadata": {},
     "output_type": "execute_result"
    }
   ],
   "source": [
    "df_final.to_csv(\"model/train_data.csv\", index=False)\n",
    "df_final.shape"
   ]
  },
  {
   "cell_type": "markdown",
   "metadata": {},
   "source": [
    "## Train test split"
   ]
  },
  {
   "cell_type": "code",
   "execution_count": 18,
   "metadata": {
    "execution": {
     "iopub.execute_input": "2024-12-01T13:24:33.356985Z",
     "iopub.status.busy": "2024-12-01T13:24:33.356639Z",
     "iopub.status.idle": "2024-12-01T13:24:33.387157Z",
     "shell.execute_reply": "2024-12-01T13:24:33.386045Z",
     "shell.execute_reply.started": "2024-12-01T13:24:33.356952Z"
    },
    "trusted": true
   },
   "outputs": [
    {
     "name": "stdout",
     "output_type": "stream",
     "text": [
      "Index(['Protocol', 'TotLen Bwd Pkts', 'Fwd Pkt Len Max', 'Fwd Pkt Len Min',\n",
      "       'Fwd Pkt Len Mean', 'Bwd Pkt Len Min', 'Bwd Pkt Len Mean',\n",
      "       'Bwd Pkt Len Std', 'Flow Byts/s', 'Flow IAT Mean', 'Flow IAT Std',\n",
      "       'Fwd IAT Tot', 'Fwd IAT Std', 'Fwd IAT Min', 'Bwd IAT Tot',\n",
      "       'Bwd IAT Std', 'Bwd IAT Max', 'Bwd IAT Min', 'Fwd PSH Flags',\n",
      "       'Bwd PSH Flags', 'Fwd URG Flags', 'Bwd URG Flags', 'Fwd Pkts/s',\n",
      "       'Bwd Pkts/s', 'Pkt Len Std', 'FIN Flag Cnt', 'SYN Flag Cnt',\n",
      "       'RST Flag Cnt', 'PSH Flag Cnt', 'ACK Flag Cnt', 'URG Flag Cnt',\n",
      "       'CWE Flag Count', 'Down/Up Ratio', 'Pkt Size Avg', 'Fwd Seg Size Avg',\n",
      "       'Bwd Seg Size Avg', 'Fwd Byts/b Avg', 'Fwd Pkts/b Avg',\n",
      "       'Fwd Blk Rate Avg', 'Bwd Byts/b Avg', 'Bwd Pkts/b Avg',\n",
      "       'Bwd Blk Rate Avg', 'Subflow Fwd Pkts', 'Init Fwd Win Byts',\n",
      "       'Init Bwd Win Byts', 'Fwd Seg Size Min', 'Active Std', 'Active Max',\n",
      "       'Active Min', 'Idle Std', 'Idle Min'],\n",
      "      dtype='object')\n",
      "Index(['Benign', 'Bot', 'Brute Force -Web', 'Brute Force -XSS',\n",
      "       'DDOS attack-HOIC', 'DDOS attack-LOIC-UDP', 'DoS attacks-GoldenEye',\n",
      "       'DoS attacks-Hulk', 'DoS attacks-SlowHTTPTest', 'DoS attacks-Slowloris',\n",
      "       'DoS attacks-SynFlood', 'FTP-BruteForce', 'Infilteration',\n",
      "       'SQL Injection', 'SSH-Bruteforce'],\n",
      "      dtype='object')\n",
      "(10256, 51)\n",
      "(10256, 15)\n"
     ]
    }
   ],
   "source": [
    "X = df_final.iloc[:, :-15]\n",
    "y = df_final.iloc[:, -15:]\n",
    "\n",
    "print(X.columns)\n",
    "print(y.columns)\n",
    "print(X.shape)\n",
    "print(y.shape)"
   ]
  },
  {
   "cell_type": "code",
   "execution_count": 19,
   "metadata": {
    "execution": {
     "iopub.execute_input": "2024-12-01T13:24:33.389164Z",
     "iopub.status.busy": "2024-12-01T13:24:33.388685Z",
     "iopub.status.idle": "2024-12-01T13:24:33.665803Z",
     "shell.execute_reply": "2024-12-01T13:24:33.664199Z",
     "shell.execute_reply.started": "2024-12-01T13:24:33.389115Z"
    },
    "trusted": true
   },
   "outputs": [
    {
     "name": "stdout",
     "output_type": "stream",
     "text": [
      "torch.Size([8204, 51])\n",
      "torch.Size([8204, 15])\n"
     ]
    }
   ],
   "source": [
    "# perform stratified sampling\n",
    "X_train, X_test, y_train, y_test = train_test_split(X, y, test_size=0.2, random_state=42, stratify=y)\n",
    "\n",
    "scaler = StandardScaler()\n",
    "X_train = scaler.fit_transform(X_train)\n",
    "X_test = scaler.transform(X_test)\n",
    "\n",
    "y_train = y_train.to_numpy()  # Convert to numpy\n",
    "y_test = y_test.to_numpy()    # Convert to numpy\n",
    "\n",
    "# Convert to PyTorch tensors\n",
    "X_train_tensor = torch.tensor(X_train, dtype=torch.float32)\n",
    "X_test_tensor = torch.tensor(X_test, dtype=torch.float32)\n",
    "y_train_tensor = torch.tensor(y_train, dtype=torch.float32)\n",
    "y_test_tensor = torch.tensor(y_test, dtype=torch.float32)\n",
    "\n",
    "print(X_train_tensor.shape)\n",
    "print(y_train_tensor.shape)"
   ]
  },
  {
   "cell_type": "markdown",
   "metadata": {},
   "source": [
    "# Model"
   ]
  },
  {
   "cell_type": "code",
   "execution_count": 31,
   "metadata": {
    "execution": {
     "iopub.status.busy": "2024-12-01T13:24:33.667029Z",
     "iopub.status.idle": "2024-12-01T13:24:33.667396Z",
     "shell.execute_reply": "2024-12-01T13:24:33.667242Z",
     "shell.execute_reply.started": "2024-12-01T13:24:33.667225Z"
    },
    "trusted": true
   },
   "outputs": [],
   "source": [
    "from torch.nn import functional as F \n",
    "class Classifier(nn.Module):\n",
    "    def __init__(self, input_dim, output_dim, mapper, learning_rate):\n",
    "        super(Classifier, self).__init__()\n",
    "        self.fc1 = nn.Linear(input_dim, 128)\n",
    "        self.fc2 = nn.Linear(128, 64)\n",
    "        self.fc3 = nn.Linear(64, 32)\n",
    "        self.output = nn.Linear(32, output_dim)\n",
    "\n",
    "        self.mapper = mapper\n",
    "        self.criterion = nn.CrossEntropyLoss()\n",
    "        self.learning_rate = learning_rate\n",
    "        self.output_dim = output_dim\n",
    "\n",
    "    def forward(self, x):\n",
    "        x = F.relu(self.fc1(x))\n",
    "        x = F.relu(self.fc2(x))\n",
    "        x = F.relu(self.fc3(x))\n",
    "\n",
    "        return self.output(x)\n",
    "\n",
    "model = Classifier(X_train_tensor.shape[1], y_train_tensor.shape[1], mapper={}, learning_rate=0.001)"
   ]
  },
  {
   "cell_type": "code",
   "execution_count": 28,
   "metadata": {
    "execution": {
     "iopub.status.busy": "2024-12-01T13:24:33.668687Z",
     "iopub.status.idle": "2024-12-01T13:24:33.669255Z",
     "shell.execute_reply": "2024-12-01T13:24:33.669007Z",
     "shell.execute_reply.started": "2024-12-01T13:24:33.668976Z"
    },
    "trusted": true
   },
   "outputs": [
    {
     "data": {
      "text/plain": [
       "Classifier(\n",
       "  (fc1): Linear(in_features=51, out_features=128, bias=True)\n",
       "  (fc2): Linear(in_features=128, out_features=64, bias=True)\n",
       "  (fc3): Linear(in_features=64, out_features=32, bias=True)\n",
       "  (output): Linear(in_features=32, out_features=15, bias=True)\n",
       "  (criterion): CrossEntropyLoss()\n",
       ")"
      ]
     },
     "execution_count": 28,
     "metadata": {},
     "output_type": "execute_result"
    }
   ],
   "source": [
    "model"
   ]
  },
  {
   "cell_type": "code",
   "execution_count": 32,
   "metadata": {
    "execution": {
     "iopub.status.busy": "2024-12-01T13:24:33.670278Z",
     "iopub.status.idle": "2024-12-01T13:24:33.670826Z",
     "shell.execute_reply": "2024-12-01T13:24:33.670584Z",
     "shell.execute_reply.started": "2024-12-01T13:24:33.670557Z"
    },
    "trusted": true
   },
   "outputs": [],
   "source": [
    "loss_fn = nn.CrossEntropyLoss()\n",
    "\n",
    "optimizer = torch.optim.AdamW(model.parameters(), lr=0.0001)"
   ]
  },
  {
   "cell_type": "code",
   "execution_count": 33,
   "metadata": {
    "execution": {
     "iopub.status.busy": "2024-12-01T13:24:33.672559Z",
     "iopub.status.idle": "2024-12-01T13:24:33.673021Z",
     "shell.execute_reply": "2024-12-01T13:24:33.672810Z",
     "shell.execute_reply.started": "2024-12-01T13:24:33.672790Z"
    },
    "trusted": true
   },
   "outputs": [
    {
     "name": "stdout",
     "output_type": "stream",
     "text": [
      "Epoch 1/200, Loss: 624.1343\n",
      "Epoch 2/200, Loss: 417.5836\n",
      "Epoch 3/200, Loss: 323.9073\n",
      "Epoch 4/200, Loss: 259.4730\n",
      "Epoch 5/200, Loss: 215.2539\n",
      "Epoch 6/200, Loss: 183.8241\n",
      "Epoch 7/200, Loss: 161.1714\n",
      "Epoch 8/200, Loss: 144.9605\n",
      "Epoch 9/200, Loss: 133.6222\n",
      "Epoch 10/200, Loss: 125.9776\n",
      "Epoch 11/200, Loss: 120.3033\n",
      "Epoch 12/200, Loss: 116.2897\n",
      "Epoch 13/200, Loss: 112.4163\n",
      "Epoch 14/200, Loss: 109.4376\n",
      "Epoch 15/200, Loss: 107.2571\n",
      "Epoch 16/200, Loss: 105.1233\n",
      "Epoch 17/200, Loss: 103.3901\n",
      "Epoch 18/200, Loss: 101.8059\n",
      "Epoch 19/200, Loss: 100.4048\n",
      "Epoch 20/200, Loss: 98.8794\n",
      "Epoch 21/200, Loss: 97.8889\n",
      "Epoch 22/200, Loss: 96.9286\n",
      "Epoch 23/200, Loss: 95.7629\n",
      "Epoch 24/200, Loss: 94.9171\n",
      "Epoch 25/200, Loss: 94.0480\n",
      "Epoch 26/200, Loss: 93.2671\n",
      "Epoch 27/200, Loss: 92.3664\n",
      "Epoch 28/200, Loss: 91.8644\n",
      "Epoch 29/200, Loss: 90.8603\n",
      "Epoch 30/200, Loss: 90.0278\n",
      "Epoch 31/200, Loss: 89.7023\n",
      "Epoch 32/200, Loss: 88.9668\n",
      "Epoch 33/200, Loss: 88.1562\n",
      "Epoch 34/200, Loss: 87.3612\n",
      "Epoch 35/200, Loss: 87.1213\n",
      "Epoch 36/200, Loss: 86.2485\n",
      "Epoch 37/200, Loss: 85.6265\n",
      "Epoch 38/200, Loss: 85.1866\n",
      "Epoch 39/200, Loss: 84.4609\n",
      "Epoch 40/200, Loss: 83.8973\n",
      "Epoch 41/200, Loss: 83.5814\n",
      "Epoch 42/200, Loss: 83.1403\n",
      "Epoch 43/200, Loss: 82.7042\n",
      "Epoch 44/200, Loss: 82.2107\n",
      "Epoch 45/200, Loss: 81.5217\n",
      "Epoch 46/200, Loss: 81.0930\n",
      "Epoch 47/200, Loss: 80.9910\n",
      "Epoch 48/200, Loss: 80.3178\n",
      "Epoch 49/200, Loss: 80.0354\n",
      "Epoch 50/200, Loss: 79.5785\n",
      "Epoch 51/200, Loss: 79.2005\n",
      "Epoch 52/200, Loss: 78.6992\n",
      "Epoch 53/200, Loss: 78.5919\n",
      "Epoch 54/200, Loss: 78.1943\n",
      "Epoch 55/200, Loss: 77.6946\n",
      "Epoch 56/200, Loss: 77.6636\n",
      "Epoch 57/200, Loss: 77.4018\n",
      "Epoch 58/200, Loss: 76.7391\n",
      "Epoch 59/200, Loss: 76.6880\n",
      "Epoch 60/200, Loss: 76.3212\n",
      "Epoch 61/200, Loss: 76.1478\n",
      "Epoch 62/200, Loss: 75.5712\n",
      "Epoch 63/200, Loss: 75.4449\n",
      "Epoch 64/200, Loss: 75.2657\n",
      "Epoch 65/200, Loss: 74.8102\n",
      "Epoch 66/200, Loss: 74.5529\n",
      "Epoch 67/200, Loss: 74.3405\n",
      "Epoch 68/200, Loss: 74.1370\n",
      "Epoch 69/200, Loss: 73.5803\n",
      "Epoch 70/200, Loss: 73.5252\n",
      "Epoch 71/200, Loss: 73.6054\n",
      "Epoch 72/200, Loss: 73.0517\n",
      "Epoch 73/200, Loss: 72.6561\n",
      "Epoch 74/200, Loss: 72.4381\n",
      "Epoch 75/200, Loss: 72.3171\n",
      "Epoch 76/200, Loss: 72.3631\n",
      "Epoch 77/200, Loss: 72.1003\n",
      "Epoch 78/200, Loss: 71.9585\n",
      "Epoch 79/200, Loss: 71.6173\n",
      "Epoch 80/200, Loss: 71.2041\n",
      "Epoch 81/200, Loss: 70.7634\n",
      "Epoch 82/200, Loss: 70.8627\n",
      "Epoch 83/200, Loss: 70.4797\n",
      "Epoch 84/200, Loss: 70.3095\n",
      "Epoch 85/200, Loss: 70.1811\n",
      "Epoch 86/200, Loss: 70.2319\n",
      "Epoch 87/200, Loss: 69.9934\n",
      "Epoch 88/200, Loss: 69.5076\n",
      "Epoch 89/200, Loss: 69.2276\n",
      "Epoch 90/200, Loss: 69.4250\n",
      "Epoch 91/200, Loss: 69.0223\n",
      "Epoch 92/200, Loss: 68.8401\n",
      "Epoch 93/200, Loss: 68.2718\n",
      "Epoch 94/200, Loss: 68.6679\n",
      "Epoch 95/200, Loss: 68.3684\n",
      "Epoch 96/200, Loss: 68.1347\n",
      "Epoch 97/200, Loss: 67.6248\n",
      "Epoch 98/200, Loss: 67.5117\n",
      "Epoch 99/200, Loss: 67.3410\n",
      "Epoch 100/200, Loss: 67.4281\n",
      "Epoch 101/200, Loss: 67.1877\n",
      "Epoch 102/200, Loss: 67.3603\n",
      "Epoch 103/200, Loss: 66.8014\n",
      "Epoch 104/200, Loss: 66.5188\n",
      "Epoch 105/200, Loss: 66.3576\n",
      "Epoch 106/200, Loss: 66.4184\n",
      "Epoch 107/200, Loss: 66.2888\n",
      "Epoch 108/200, Loss: 65.9595\n",
      "Epoch 109/200, Loss: 65.9736\n",
      "Epoch 110/200, Loss: 65.6380\n",
      "Epoch 111/200, Loss: 65.6585\n",
      "Epoch 112/200, Loss: 65.5960\n",
      "Epoch 113/200, Loss: 65.3029\n",
      "Epoch 114/200, Loss: 65.3258\n",
      "Epoch 115/200, Loss: 64.5942\n",
      "Epoch 116/200, Loss: 64.9387\n",
      "Epoch 117/200, Loss: 64.9391\n",
      "Epoch 118/200, Loss: 64.7697\n",
      "Epoch 119/200, Loss: 64.5422\n",
      "Epoch 120/200, Loss: 64.6294\n",
      "Epoch 121/200, Loss: 64.0764\n",
      "Epoch 122/200, Loss: 64.3014\n",
      "Epoch 123/200, Loss: 64.1908\n",
      "Epoch 124/200, Loss: 64.4088\n",
      "Epoch 125/200, Loss: 64.1881\n",
      "Epoch 126/200, Loss: 63.7036\n",
      "Epoch 127/200, Loss: 63.7265\n",
      "Epoch 128/200, Loss: 63.5217\n",
      "Epoch 129/200, Loss: 63.9753\n",
      "Epoch 130/200, Loss: 63.4344\n",
      "Epoch 131/200, Loss: 63.1869\n",
      "Epoch 132/200, Loss: 63.1143\n",
      "Epoch 133/200, Loss: 63.1776\n",
      "Epoch 134/200, Loss: 63.0578\n",
      "Epoch 135/200, Loss: 63.1272\n",
      "Epoch 136/200, Loss: 62.7108\n",
      "Epoch 137/200, Loss: 62.5385\n",
      "Epoch 138/200, Loss: 62.7281\n",
      "Epoch 139/200, Loss: 62.5868\n",
      "Epoch 140/200, Loss: 62.4104\n",
      "Epoch 141/200, Loss: 62.5026\n",
      "Epoch 142/200, Loss: 62.6048\n",
      "Epoch 143/200, Loss: 62.3160\n",
      "Epoch 144/200, Loss: 62.0982\n",
      "Epoch 145/200, Loss: 61.8994\n",
      "Epoch 146/200, Loss: 61.6113\n",
      "Epoch 147/200, Loss: 62.1069\n",
      "Epoch 148/200, Loss: 61.9433\n",
      "Epoch 149/200, Loss: 61.9065\n",
      "Epoch 150/200, Loss: 61.8268\n",
      "Epoch 151/200, Loss: 61.9027\n",
      "Epoch 152/200, Loss: 61.6190\n",
      "Epoch 153/200, Loss: 61.0847\n",
      "Epoch 154/200, Loss: 61.5381\n",
      "Epoch 155/200, Loss: 61.4474\n",
      "Epoch 156/200, Loss: 61.1683\n",
      "Epoch 157/200, Loss: 61.4987\n",
      "Epoch 158/200, Loss: 61.1758\n",
      "Epoch 159/200, Loss: 61.0576\n",
      "Epoch 160/200, Loss: 61.0963\n",
      "Epoch 161/200, Loss: 61.2829\n",
      "Epoch 162/200, Loss: 60.8817\n",
      "Epoch 163/200, Loss: 60.9085\n",
      "Epoch 164/200, Loss: 60.8335\n",
      "Epoch 165/200, Loss: 60.9663\n",
      "Epoch 166/200, Loss: 60.7387\n",
      "Epoch 167/200, Loss: 60.6342\n",
      "Epoch 168/200, Loss: 60.7109\n",
      "Epoch 169/200, Loss: 60.7382\n",
      "Epoch 170/200, Loss: 60.3839\n",
      "Epoch 171/200, Loss: 60.0888\n",
      "Epoch 172/200, Loss: 60.4823\n",
      "Epoch 173/200, Loss: 60.3587\n",
      "Epoch 174/200, Loss: 60.4263\n",
      "Epoch 175/200, Loss: 60.2999\n",
      "Epoch 176/200, Loss: 60.5574\n",
      "Epoch 177/200, Loss: 60.2736\n",
      "Epoch 178/200, Loss: 60.5553\n",
      "Epoch 179/200, Loss: 60.2776\n",
      "Epoch 180/200, Loss: 60.0442\n",
      "Epoch 181/200, Loss: 60.2478\n",
      "Epoch 182/200, Loss: 60.3464\n",
      "Epoch 183/200, Loss: 59.9814\n",
      "Epoch 184/200, Loss: 59.8961\n",
      "Epoch 185/200, Loss: 59.8549\n",
      "Epoch 186/200, Loss: 59.7975\n",
      "Epoch 187/200, Loss: 59.5127\n",
      "Epoch 188/200, Loss: 59.5334\n",
      "Epoch 189/200, Loss: 59.8603\n",
      "Epoch 190/200, Loss: 59.6083\n",
      "Epoch 191/200, Loss: 59.8370\n",
      "Epoch 192/200, Loss: 59.4880\n",
      "Epoch 193/200, Loss: 59.4499\n",
      "Epoch 194/200, Loss: 59.4550\n",
      "Epoch 195/200, Loss: 59.3863\n",
      "Epoch 196/200, Loss: 59.5518\n",
      "Epoch 197/200, Loss: 59.2315\n",
      "Epoch 198/200, Loss: 59.3506\n",
      "Epoch 199/200, Loss: 59.3723\n",
      "Epoch 200/200, Loss: 59.2990\n"
     ]
    }
   ],
   "source": [
    "epochs = 200\n",
    "batch_size = 32\n",
    "\n",
    "train_data = torch.utils.data.TensorDataset(X_train_tensor, y_train_tensor)\n",
    "train_loader = torch.utils.data.DataLoader(train_data, batch_size=batch_size, shuffle=True)\n",
    "\n",
    "\n",
    "for epoch in range(epochs):\n",
    "    model.train()\n",
    "    epoch_loss = 0\n",
    "    \n",
    "    for batch_X, batch_y in train_loader:\n",
    "        # print(\"batch_y\", batch_y)\n",
    "        optimizer.zero_grad()\n",
    "        predictions = model(batch_X)\n",
    "        # print(\"predictions\", predictions.shape)\n",
    "        loss = loss_fn(predictions, batch_y)\n",
    "        loss.backward()\n",
    "        optimizer.step()\n",
    "        \n",
    "        epoch_loss += loss.item()\n",
    "    \n",
    "        # print(predictions)\n",
    "        # print(batch_y)\n",
    "    print(f\"Epoch {epoch+1}/{epochs}, Loss: {epoch_loss:.4f}\")\n"
   ]
  },
  {
   "cell_type": "code",
   "execution_count": 34,
   "metadata": {
    "execution": {
     "iopub.status.busy": "2024-12-01T13:24:33.674737Z",
     "iopub.status.idle": "2024-12-01T13:24:33.675141Z",
     "shell.execute_reply": "2024-12-01T13:24:33.674978Z",
     "shell.execute_reply.started": "2024-12-01T13:24:33.674960Z"
    },
    "trusted": true
   },
   "outputs": [
    {
     "name": "stdout",
     "output_type": "stream",
     "text": [
      "tensor([[ 11.6177,  -6.8892, -16.1563,  ...,   9.4880, -10.0162, -12.1330],\n",
      "        [  9.3483, -20.6178, -30.9198,  ...,   8.6782, -22.8476,  -4.3965],\n",
      "        [-24.3499, -31.7274, -12.8525,  ..., -20.6478, -29.5648, -66.6610],\n",
      "        ...,\n",
      "        [ -1.8177, -42.0580, -11.1744,  ...,  -8.3677, -26.1744, -11.7104],\n",
      "        [ -3.9421,  -8.0254, -10.8569,  ...,  -7.0727, -15.0934, -11.9113],\n",
      "        [ -7.0064, -25.5571, -14.9779,  ...,  -6.9012, -20.0571, -29.6058]])\n",
      "Test Accuracy: 0.9387\n",
      "tensor([0, 0, 9,  ..., 6, 7, 9])\n",
      "{0: 1136, 1: 83, 2: 119, 3: 20, 4: 81, 5: 60, 6: 172, 7: 76, 8: 129, 9: 130, 10: 1, 14: 45}\n"
     ]
    }
   ],
   "source": [
    "model.eval()\n",
    "with torch.no_grad():\n",
    "    test_predictions = model(X_test_tensor)\n",
    "    print(test_predictions)\n",
    "    test_predictions = (test_predictions >= 0.5).float()\n",
    "\n",
    "    correct_per_sample = test_predictions.eq(y_test_tensor).sum(dim=1) \n",
    "    total_labels_per_sample = y_test_tensor.size(1)\n",
    "    accuracy_per_sample = correct_per_sample / total_labels_per_sample\n",
    "    accuracy = accuracy_per_sample.mean().item()\n",
    "    \n",
    "    print(f\"Test Accuracy: {accuracy:.4f}\")\n",
    "    \n",
    "# print(probabilities)\n",
    "class_idx = torch.argmax(test_predictions, dim=1)\n",
    "print(class_idx)\n",
    "\n",
    "unique_classes, counts = torch.unique(class_idx, return_counts=True)\n",
    "value_counts = {int(cls): int(count) for cls, count in zip(unique_classes, counts)}\n",
    "print(value_counts)\n",
    "\n"
   ]
  },
  {
   "cell_type": "code",
   "execution_count": 35,
   "metadata": {},
   "outputs": [
    {
     "name": "stdout",
     "output_type": "stream",
     "text": [
      "Precision: [0.89597001 0.59770115 0.68674699 0.23529412 0.98765432 0.15957447\n",
      " 0.99447514 0.62809917 0.46511628 0.80152672 0.96428571 0.53488372\n",
      " 0.07464213 0.11904762 0.97826087]\n",
      "Recall: [0.97850563 0.9122807  0.93442623 0.43478261 1.         1.\n",
      " 1.         0.95       1.         0.82677165 1.         0.98571429\n",
      " 0.92405063 0.58823529 0.64285714]\n",
      "F1 Score: [0.93542074 0.72222222 0.79166667 0.30534351 0.99378882 0.27522936\n",
      " 0.99722992 0.75621891 0.63492063 0.81395349 0.98181818 0.69346734\n",
      " 0.13812677 0.1980198  0.77586207]\n",
      "F2 Score: [0.9608040201005026, 0.8253968253968254, 0.8715596330275229, 0.3717472118959108, 0.9975062344139651, 0.487012987012987, 0.9988901220865705, 0.8616780045351473, 0.8130081300813009, 0.8215962441314553, 0.9926470588235292, 0.843520782396088, 0.2820710973724884, 0.3289473684210526, 0.6901840490797547]\n"
     ]
    }
   ],
   "source": [
    "from sklearn.metrics import precision_score, recall_score, f1_score\n",
    "\n",
    "# Giả định `test_predictions` và `y_test_tensor` đã được định nghĩa\n",
    "test_predictions = (test_predictions >= 0.5).float()\n",
    "\n",
    "# Precision, Recall và F1 tính cho từng lớp\n",
    "precision = precision_score(y_test_tensor.numpy(), test_predictions.numpy(), average=None)\n",
    "recall = recall_score(y_test_tensor.numpy(), test_predictions.numpy(), average=None)\n",
    "f1 = f1_score(y_test_tensor.numpy(), test_predictions.numpy(), average=None)\n",
    "\n",
    "# F2 score\n",
    "beta = 2\n",
    "f2 = [\n",
    "    (1 + beta ** 2) * (p * r) / ((beta ** 2 * p) + r)\n",
    "    for p, r in zip(precision, recall)\n",
    "]\n",
    "\n",
    "# In kết quả\n",
    "print(\"Precision:\", precision)\n",
    "print(\"Recall:\", recall)\n",
    "print(\"F1 Score:\", f1)\n",
    "print(\"F2 Score:\", f2)\n"
   ]
  },
  {
   "cell_type": "code",
   "execution_count": 23,
   "metadata": {},
   "outputs": [
    {
     "name": "stdout",
     "output_type": "stream",
     "text": [
      "{1: 'benign', 2: 'bot', 3: 'brute force -web', 4: 'brute force -xss', 5: 'ddos attack-hoic', 6: 'ddos attack-loic-udp', 7: 'dos attacks-goldeneye', 8: 'dos attacks-hulk', 9: 'dos attacks-slowhttptest', 10: 'dos attacks-slowloris', 11: 'dos attacks-synflood', 12: 'ftp-bruteforce', 13: 'infilteration', 14: 'sql injection', 15: 'ssh-bruteforce'}\n"
     ]
    }
   ],
   "source": [
    "class_labels = ['Benign', 'Bot', 'Brute Force -Web', 'Brute Force -XSS',\n",
    "       'DDOS attack-HOIC', 'DDOS attack-LOIC-UDP', 'DoS attacks-GoldenEye',\n",
    "       'DoS attacks-Hulk', 'DoS attacks-SlowHTTPTest', 'DoS attacks-Slowloris','DoS attacks-SynFlood',\n",
    "       'FTP-BruteForce', 'Infilteration', 'SQL Injection', 'SSH-Bruteforce']\n",
    "\n",
    "# Create mapper\n",
    "mapper = {index + 1: label.lower() for index, label in enumerate(class_labels)}\n",
    "print(mapper)\n"
   ]
  },
  {
   "cell_type": "code",
   "execution_count": 24,
   "metadata": {},
   "outputs": [
    {
     "name": "stdout",
     "output_type": "stream",
     "text": [
      "['ddos attack-hoic', 'dos attacks-hulk', 'benign', 'benign', 'benign', 'dos attacks-goldeneye', 'ssh-bruteforce', 'benign', 'benign', 'ssh-bruteforce', 'benign', 'benign', 'dos attacks-slowhttptest', 'benign', 'benign', 'benign', 'ddos attack-hoic', 'ddos attack-loic-udp', 'benign', 'ssh-bruteforce', 'benign', 'benign', 'dos attacks-slowloris', 'benign', 'dos attacks-slowhttptest', 'dos attacks-goldeneye', 'dos attacks-goldeneye', 'benign', 'benign', 'benign', 'benign', 'dos attacks-slowhttptest', 'benign', 'dos attacks-goldeneye', 'ddos attack-hoic', 'benign', 'dos attacks-slowloris', 'benign', 'benign', 'benign', 'benign', 'benign', 'benign', 'benign', 'benign', 'benign', 'benign', 'benign', 'benign', 'dos attacks-slowloris', 'ddos attack-hoic', 'benign', 'benign', 'benign', 'benign', 'ddos attack-loic-udp', 'dos attacks-slowhttptest', 'benign', 'dos attacks-slowloris', 'dos attacks-slowloris', 'brute force -web', 'benign', 'ddos attack-hoic', 'benign', 'benign', 'dos attacks-hulk', 'ssh-bruteforce', 'benign', 'benign', 'ftp-bruteforce', 'benign', 'benign', 'benign', 'benign', 'dos attacks-slowhttptest', 'benign', 'brute force -web', 'benign', 'benign', 'benign', 'dos attacks-goldeneye', 'benign', 'ssh-bruteforce', 'dos attacks-slowloris', 'benign', 'dos attacks-slowloris', 'benign', 'benign', 'benign', 'benign', 'dos attacks-hulk', 'dos attacks-slowloris', 'benign', 'benign', 'benign', 'dos attacks-goldeneye', 'benign', 'benign', 'ssh-bruteforce', 'ddos attack-hoic', 'benign', 'benign', 'benign', 'dos attacks-slowhttptest', 'ftp-bruteforce', 'ftp-bruteforce', 'dos attacks-goldeneye', 'dos attacks-slowloris', 'benign', 'benign', 'ftp-bruteforce', 'benign', 'benign', 'dos attacks-goldeneye', 'benign', 'benign', 'benign', 'benign', 'benign', 'benign', 'dos attacks-hulk', 'dos attacks-slowhttptest', 'dos attacks-goldeneye', 'benign', 'benign', 'benign', 'benign', 'benign', 'dos attacks-goldeneye', 'dos attacks-goldeneye', 'ddos attack-hoic', 'benign', 'benign', 'benign', 'dos attacks-goldeneye', 'ssh-bruteforce', 'dos attacks-synflood', 'benign', 'benign', 'dos attacks-goldeneye', 'benign', 'benign', 'dos attacks-hulk', 'benign', 'dos attacks-goldeneye', 'dos attacks-slowloris', 'benign', 'benign', 'dos attacks-slowloris', 'benign', 'benign', 'dos attacks-slowloris', 'ddos attack-loic-udp', 'benign', 'dos attacks-goldeneye', 'benign', 'benign', 'benign', 'ddos attack-hoic', 'dos attacks-slowloris', 'dos attacks-goldeneye', 'dos attacks-goldeneye', 'ssh-bruteforce', 'benign', 'benign', 'ddos attack-loic-udp', 'benign', 'benign', 'dos attacks-goldeneye', 'benign', 'benign', 'benign', 'benign', 'benign', 'benign', 'ddos attack-loic-udp', 'benign', 'benign', 'benign', 'benign', 'dos attacks-slowloris', 'dos attacks-slowhttptest', 'benign', 'benign', 'dos attacks-goldeneye', 'dos attacks-goldeneye', 'benign', 'benign', 'benign', 'benign', 'benign', 'ddos attack-hoic', 'benign', 'benign', 'benign', 'benign', 'benign', 'benign', 'benign', 'benign', 'ssh-bruteforce', 'ftp-bruteforce', 'benign', 'benign', 'ftp-bruteforce', 'benign', 'dos attacks-goldeneye', 'benign', 'benign', 'benign', 'ftp-bruteforce', 'benign', 'dos attacks-slowloris', 'benign', 'benign', 'benign', 'ssh-bruteforce', 'benign', 'benign', 'benign', 'benign', 'benign', 'benign', 'benign', 'benign', 'dos attacks-synflood', 'benign', 'benign', 'benign', 'benign', 'benign', 'dos attacks-hulk', 'benign', 'benign', 'benign', 'benign', 'brute force -web', 'benign', 'benign', 'benign', 'brute force -web', 'ssh-bruteforce', 'dos attacks-goldeneye', 'dos attacks-slowloris', 'dos attacks-goldeneye', 'benign', 'dos attacks-goldeneye', 'dos attacks-slowloris', 'dos attacks-slowloris', 'ssh-bruteforce', 'dos attacks-slowloris', 'dos attacks-hulk', 'benign', 'brute force -web', 'benign', 'benign', 'benign', 'dos attacks-slowhttptest', 'dos attacks-slowloris', 'benign', 'dos attacks-hulk', 'ssh-bruteforce', 'dos attacks-slowhttptest', 'ssh-bruteforce', 'benign', 'benign', 'benign', 'benign', 'benign', 'ddos attack-hoic', 'benign', 'benign', 'dos attacks-slowhttptest', 'benign', 'dos attacks-goldeneye', 'benign', 'benign', 'dos attacks-hulk', 'ddos attack-loic-udp', 'dos attacks-goldeneye', 'benign', 'benign', 'dos attacks-goldeneye', 'dos attacks-goldeneye', 'benign', 'ftp-bruteforce', 'benign', 'dos attacks-slowloris', 'dos attacks-goldeneye', 'benign', 'dos attacks-slowhttptest', 'benign', 'benign', 'benign', 'benign', 'benign', 'dos attacks-hulk', 'benign', 'benign', 'dos attacks-goldeneye', 'dos attacks-goldeneye', 'benign', 'dos attacks-hulk', 'benign', 'dos attacks-slowhttptest', 'ddos attack-hoic', 'ddos attack-hoic', 'benign', 'benign', 'benign', 'benign', 'benign', 'dos attacks-hulk', 'benign', 'benign', 'ddos attack-hoic', 'benign', 'benign', 'dos attacks-goldeneye', 'dos attacks-goldeneye', 'dos attacks-slowloris', 'dos attacks-slowhttptest', 'benign', 'benign', 'benign', 'ddos attack-hoic', 'benign', 'dos attacks-hulk', 'benign', 'ddos attack-hoic', 'dos attacks-slowloris', 'dos attacks-slowloris', 'brute force -web', 'dos attacks-synflood', 'benign', 'benign', 'dos attacks-hulk', 'benign', 'dos attacks-slowloris', 'benign', 'benign', 'dos attacks-hulk', 'benign', 'benign', 'dos attacks-hulk', 'benign', 'dos attacks-slowloris', 'benign', 'dos attacks-slowloris', 'benign', 'benign', 'benign', 'dos attacks-synflood', 'benign', 'benign', 'dos attacks-slowhttptest', 'dos attacks-slowloris', 'benign', 'dos attacks-slowloris', 'benign', 'dos attacks-synflood', 'benign', 'dos attacks-slowloris', 'benign', 'dos attacks-goldeneye', 'benign', 'benign', 'benign', 'benign', 'benign', 'benign', 'dos attacks-slowhttptest', 'benign', 'dos attacks-hulk', 'ddos attack-hoic', 'benign', 'benign', 'benign', 'benign', 'benign', 'benign', 'benign', 'benign', 'benign', 'benign', 'benign', 'benign', 'ssh-bruteforce', 'dos attacks-goldeneye', 'benign', 'benign', 'dos attacks-slowloris', 'dos attacks-slowhttptest', 'benign', 'ftp-bruteforce', 'ddos attack-loic-udp', 'benign', 'benign', 'benign', 'benign', 'benign', 'benign', 'ddos attack-hoic', 'dos attacks-synflood', 'benign', 'benign', 'benign', 'benign', 'ftp-bruteforce', 'ftp-bruteforce', 'ddos attack-hoic', 'benign', 'dos attacks-slowloris', 'benign', 'benign', 'benign', 'dos attacks-goldeneye', 'ddos attack-loic-udp', 'benign', 'dos attacks-hulk', 'benign', 'benign', 'benign', 'benign', 'benign', 'ddos attack-loic-udp', 'ddos attack-loic-udp', 'benign', 'dos attacks-hulk', 'benign', 'benign', 'ssh-bruteforce', 'dos attacks-goldeneye', 'benign', 'ddos attack-hoic', 'benign', 'benign', 'dos attacks-hulk', 'benign', 'ssh-bruteforce', 'dos attacks-slowloris', 'dos attacks-slowhttptest', 'benign', 'benign', 'benign', 'benign', 'benign', 'benign', 'benign', 'benign', 'ddos attack-hoic', 'dos attacks-slowloris', 'benign', 'benign', 'benign', 'ssh-bruteforce', 'dos attacks-slowloris', 'benign', 'dos attacks-goldeneye', 'benign', 'ftp-bruteforce', 'benign', 'brute force -web', 'dos attacks-hulk', 'benign', 'benign', 'dos attacks-goldeneye', 'dos attacks-slowhttptest', 'dos attacks-slowloris', 'benign', 'benign', 'benign', 'benign', 'dos attacks-slowhttptest', 'benign', 'ddos attack-hoic', 'benign', 'benign', 'ssh-bruteforce', 'benign', 'benign', 'benign', 'benign', 'benign', 'benign', 'ddos attack-loic-udp', 'benign', 'dos attacks-hulk', 'benign', 'benign', 'dos attacks-synflood', 'benign', 'benign', 'benign', 'dos attacks-slowloris', 'dos attacks-slowloris', 'benign', 'benign', 'brute force -web', 'benign', 'ddos attack-loic-udp', 'benign', 'benign', 'benign', 'benign', 'ssh-bruteforce', 'benign', 'benign', 'benign', 'benign', 'benign', 'benign', 'ddos attack-hoic', 'benign', 'benign', 'dos attacks-slowloris', 'ddos attack-loic-udp', 'ddos attack-hoic', 'benign', 'benign', 'benign', 'benign', 'benign', 'ddos attack-hoic', 'ddos attack-hoic', 'benign', 'ssh-bruteforce', 'benign', 'ddos attack-loic-udp', 'dos attacks-slowhttptest', 'benign', 'benign', 'ddos attack-loic-udp', 'benign', 'dos attacks-slowloris', 'dos attacks-goldeneye', 'benign', 'benign', 'dos attacks-slowhttptest', 'ddos attack-hoic', 'benign', 'benign', 'dos attacks-slowloris', 'dos attacks-slowloris', 'benign', 'benign', 'benign', 'dos attacks-slowhttptest', 'benign', 'benign', 'benign', 'benign', 'ddos attack-loic-udp', 'benign', 'benign', 'benign', 'benign', 'benign', 'benign', 'benign', 'benign', 'benign', 'dos attacks-synflood', 'benign', 'benign', 'dos attacks-slowhttptest', 'dos attacks-slowhttptest', 'dos attacks-goldeneye', 'dos attacks-slowloris', 'benign', 'benign', 'dos attacks-slowloris', 'dos attacks-slowloris', 'benign', 'dos attacks-goldeneye', 'benign', 'dos attacks-synflood', 'benign', 'benign', 'ddos attack-hoic', 'dos attacks-goldeneye', 'benign', 'benign', 'benign', 'benign', 'benign', 'benign', 'benign', 'dos attacks-hulk', 'dos attacks-goldeneye', 'ddos attack-loic-udp', 'ssh-bruteforce', 'benign', 'dos attacks-slowhttptest', 'benign', 'benign', 'benign', 'benign', 'benign', 'dos attacks-slowloris', 'benign', 'benign', 'dos attacks-goldeneye', 'benign', 'benign', 'benign', 'benign', 'benign', 'dos attacks-slowhttptest', 'benign', 'ddos attack-loic-udp', 'dos attacks-slowloris', 'benign', 'ftp-bruteforce', 'benign', 'benign', 'benign', 'benign', 'ftp-bruteforce', 'benign', 'dos attacks-slowhttptest', 'ssh-bruteforce', 'dos attacks-synflood', 'benign', 'benign', 'dos attacks-goldeneye', 'dos attacks-slowhttptest', 'benign', 'benign', 'ddos attack-loic-udp', 'ddos attack-hoic', 'benign', 'brute force -web', 'benign', 'benign', 'dos attacks-hulk', 'benign', 'benign', 'ddos attack-hoic', 'benign', 'benign', 'dos attacks-slowloris', 'benign', 'ddos attack-hoic', 'dos attacks-goldeneye', 'ddos attack-hoic', 'dos attacks-goldeneye', 'benign', 'benign', 'benign', 'benign', 'benign', 'benign', 'benign', 'benign', 'dos attacks-goldeneye', 'ddos attack-loic-udp', 'ddos attack-loic-udp', 'benign', 'benign', 'benign', 'dos attacks-slowloris', 'benign', 'ssh-bruteforce', 'benign', 'benign', 'benign', 'benign', 'ssh-bruteforce', 'ddos attack-hoic', 'dos attacks-goldeneye', 'benign', 'benign', 'dos attacks-slowhttptest', 'benign', 'benign', 'benign', 'ddos attack-hoic', 'dos attacks-goldeneye', 'ssh-bruteforce', 'benign', 'dos attacks-hulk', 'benign', 'benign', 'ddos attack-hoic', 'benign', 'benign', 'benign', 'benign', 'benign', 'benign', 'benign', 'benign', 'benign', 'benign', 'benign', 'dos attacks-goldeneye', 'dos attacks-synflood', 'dos attacks-slowhttptest', 'brute force -web', 'ssh-bruteforce', 'benign', 'ftp-bruteforce', 'benign', 'dos attacks-synflood', 'dos attacks-slowloris', 'benign', 'benign', 'benign', 'dos attacks-slowloris', 'benign', 'benign', 'dos attacks-slowloris', 'benign', 'dos attacks-slowhttptest', 'benign', 'ddos attack-hoic', 'benign', 'benign', 'ddos attack-hoic', 'benign', 'benign', 'benign', 'benign', 'benign', 'dos attacks-synflood', 'benign', 'dos attacks-slowloris', 'benign', 'benign', 'benign', 'ddos attack-hoic', 'dos attacks-hulk', 'benign', 'brute force -web', 'benign', 'dos attacks-hulk', 'benign', 'benign', 'dos attacks-goldeneye', 'benign', 'benign', 'benign', 'benign', 'dos attacks-slowhttptest', 'dos attacks-slowloris', 'dos attacks-slowloris', 'benign', 'dos attacks-slowhttptest', 'benign', 'dos attacks-slowhttptest', 'benign', 'benign', 'benign', 'benign', 'benign', 'benign', 'ddos attack-loic-udp', 'ssh-bruteforce', 'benign', 'dos attacks-slowhttptest', 'dos attacks-hulk', 'benign', 'benign', 'benign', 'benign', 'benign', 'benign', 'dos attacks-goldeneye', 'benign', 'ftp-bruteforce', 'benign', 'dos attacks-slowhttptest', 'dos attacks-slowloris', 'benign', 'dos attacks-goldeneye', 'benign', 'benign', 'dos attacks-hulk', 'benign', 'dos attacks-goldeneye', 'benign', 'benign', 'benign', 'benign', 'ssh-bruteforce', 'dos attacks-hulk', 'benign', 'benign', 'benign', 'benign', 'dos attacks-goldeneye', 'ftp-bruteforce', 'benign', 'dos attacks-slowloris', 'benign', 'benign', 'dos attacks-slowloris', 'benign', 'benign', 'ddos attack-hoic', 'benign', 'benign', 'benign', 'dos attacks-slowloris', 'benign', 'benign', 'benign', 'benign', 'ssh-bruteforce', 'benign', 'dos attacks-goldeneye', 'benign', 'benign', 'benign', 'ssh-bruteforce', 'dos attacks-slowhttptest', 'ssh-bruteforce', 'benign', 'benign', 'benign', 'dos attacks-goldeneye', 'benign', 'benign', 'benign', 'dos attacks-goldeneye', 'benign', 'dos attacks-goldeneye', 'benign', 'ddos attack-loic-udp', 'benign', 'benign', 'dos attacks-hulk', 'benign', 'benign', 'benign', 'dos attacks-hulk', 'benign', 'benign', 'benign', 'dos attacks-slowhttptest', 'dos attacks-goldeneye', 'benign', 'benign', 'benign', 'dos attacks-slowhttptest', 'benign', 'dos attacks-slowloris', 'dos attacks-slowloris', 'dos attacks-slowloris', 'ftp-bruteforce', 'dos attacks-synflood', 'benign', 'benign', 'ddos attack-loic-udp', 'benign', 'dos attacks-slowhttptest', 'benign', 'benign', 'brute force -web', 'benign', 'benign', 'dos attacks-synflood', 'ddos attack-hoic', 'benign', 'dos attacks-slowloris', 'dos attacks-slowloris', 'benign', 'benign', 'benign', 'benign', 'benign', 'benign', 'benign', 'benign', 'dos attacks-goldeneye', 'ftp-bruteforce', 'ssh-bruteforce', 'benign', 'benign', 'benign', 'dos attacks-goldeneye', 'ddos attack-hoic', 'benign', 'benign', 'benign', 'benign', 'dos attacks-goldeneye', 'benign', 'ddos attack-hoic', 'benign', 'benign', 'benign', 'benign', 'benign', 'dos attacks-goldeneye', 'benign', 'dos attacks-goldeneye', 'benign', 'benign', 'brute force -web', 'benign', 'benign', 'dos attacks-goldeneye', 'dos attacks-goldeneye', 'dos attacks-goldeneye', 'benign', 'benign', 'benign', 'benign', 'benign', 'benign', 'benign', 'dos attacks-goldeneye', 'benign', 'dos attacks-slowloris', 'benign', 'ddos attack-loic-udp', 'benign', 'dos attacks-slowhttptest', 'ssh-bruteforce', 'benign', 'benign', 'dos attacks-slowhttptest', 'benign', 'benign', 'benign', 'benign', 'benign', 'ftp-bruteforce', 'benign', 'benign', 'benign', 'benign', 'benign', 'dos attacks-slowhttptest', 'benign', 'benign', 'dos attacks-goldeneye', 'dos attacks-slowloris', 'benign', 'ddos attack-hoic', 'benign', 'dos attacks-goldeneye', 'dos attacks-slowloris', 'dos attacks-slowloris', 'benign', 'dos attacks-slowloris', 'benign', 'benign', 'benign', 'benign', 'ddos attack-hoic', 'dos attacks-goldeneye', 'benign', 'benign', 'dos attacks-slowloris', 'benign', 'dos attacks-slowhttptest', 'dos attacks-goldeneye', 'benign', 'benign', 'dos attacks-goldeneye', 'benign', 'benign', 'benign', 'benign', 'dos attacks-slowhttptest', 'dos attacks-slowloris', 'dos attacks-hulk', 'dos attacks-goldeneye', 'benign', 'dos attacks-goldeneye', 'benign', 'benign', 'benign', 'dos attacks-hulk', 'benign', 'ddos attack-loic-udp', 'benign', 'benign', 'benign', 'benign', 'benign', 'benign', 'dos attacks-goldeneye', 'dos attacks-slowloris', 'benign', 'benign', 'benign', 'dos attacks-slowloris', 'ddos attack-hoic', 'dos attacks-synflood', 'dos attacks-goldeneye', 'benign', 'benign', 'ddos attack-loic-udp', 'benign', 'benign', 'benign', 'benign', 'benign', 'benign', 'benign', 'benign', 'benign', 'benign', 'dos attacks-goldeneye', 'ssh-bruteforce', 'benign', 'dos attacks-synflood', 'benign', 'benign', 'dos attacks-slowloris', 'benign', 'benign', 'benign', 'benign', 'dos attacks-synflood', 'dos attacks-slowloris', 'dos attacks-slowhttptest', 'benign', 'dos attacks-slowloris', 'benign', 'dos attacks-slowloris', 'benign', 'benign', 'benign', 'benign', 'benign', 'dos attacks-goldeneye', 'dos attacks-slowhttptest', 'benign', 'dos attacks-goldeneye', 'dos attacks-slowhttptest', 'dos attacks-synflood', 'benign', 'benign', 'benign', 'dos attacks-goldeneye', 'benign', 'benign', 'ddos attack-loic-udp', 'dos attacks-slowhttptest', 'benign', 'benign', 'dos attacks-slowhttptest', 'dos attacks-synflood', 'benign', 'benign', 'benign', 'dos attacks-goldeneye', 'brute force -web', 'benign', 'benign', 'benign', 'ftp-bruteforce', 'benign', 'benign', 'benign', 'dos attacks-hulk', 'benign', 'ssh-bruteforce', 'benign', 'ssh-bruteforce', 'dos attacks-goldeneye', 'benign', 'benign', 'dos attacks-slowloris', 'ssh-bruteforce', 'benign', 'benign', 'benign', 'benign', 'ddos attack-loic-udp', 'dos attacks-goldeneye', 'benign', 'benign', 'benign', 'benign', 'benign', 'benign', 'benign', 'dos attacks-hulk', 'dos attacks-slowloris', 'benign', 'benign', 'benign', 'dos attacks-goldeneye', 'benign', 'benign', 'dos attacks-synflood', 'benign', 'dos attacks-hulk', 'benign', 'dos attacks-synflood', 'benign', 'dos attacks-goldeneye', 'benign', 'dos attacks-goldeneye', 'benign', 'benign', 'dos attacks-slowloris', 'benign', 'benign', 'dos attacks-goldeneye', 'dos attacks-synflood', 'dos attacks-hulk', 'dos attacks-hulk', 'benign', 'dos attacks-goldeneye', 'ssh-bruteforce', 'ssh-bruteforce', 'benign', 'dos attacks-goldeneye', 'benign', 'benign', 'benign', 'benign', 'benign', 'benign', 'dos attacks-goldeneye', 'benign', 'benign', 'dos attacks-goldeneye', 'benign', 'dos attacks-slowloris', 'benign', 'benign', 'benign', 'benign', 'benign', 'benign', 'dos attacks-slowhttptest', 'dos attacks-hulk', 'dos attacks-slowhttptest', 'benign', 'benign', 'benign', 'benign', 'benign', 'dos attacks-slowloris', 'benign', 'benign', 'benign', 'benign', 'dos attacks-goldeneye', 'dos attacks-goldeneye', 'dos attacks-slowloris', 'benign', 'ddos attack-hoic', 'benign', 'dos attacks-slowloris', 'benign', 'ftp-bruteforce', 'benign', 'ddos attack-hoic', 'dos attacks-synflood', 'benign', 'dos attacks-slowhttptest', 'benign', 'benign', 'dos attacks-slowloris', 'benign', 'benign', 'benign', 'benign', 'benign', 'dos attacks-goldeneye', 'benign', 'ddos attack-hoic', 'benign', 'dos attacks-slowloris', 'benign', 'benign', 'dos attacks-synflood', 'benign', 'benign', 'ddos attack-loic-udp', 'benign', 'dos attacks-synflood', 'dos attacks-goldeneye', 'dos attacks-slowloris', 'dos attacks-goldeneye', 'benign', 'dos attacks-slowloris', 'benign', 'benign', 'benign', 'benign', 'dos attacks-slowloris', 'benign', 'ssh-bruteforce', 'benign', 'dos attacks-hulk', 'ddos attack-hoic', 'benign', 'dos attacks-hulk', 'benign', 'dos attacks-goldeneye', 'benign', 'dos attacks-goldeneye', 'dos attacks-slowhttptest', 'dos attacks-goldeneye', 'benign', 'benign', 'dos attacks-hulk', 'benign', 'dos attacks-goldeneye', 'dos attacks-slowhttptest', 'benign', 'benign', 'benign', 'benign', 'benign', 'dos attacks-goldeneye', 'dos attacks-slowhttptest', 'benign', 'dos attacks-slowhttptest', 'ftp-bruteforce', 'dos attacks-goldeneye', 'benign', 'benign', 'benign', 'dos attacks-slowhttptest', 'ssh-bruteforce', 'ddos attack-loic-udp', 'benign', 'benign', 'benign', 'ddos attack-loic-udp', 'ssh-bruteforce', 'benign', 'benign', 'dos attacks-goldeneye', 'benign', 'dos attacks-synflood', 'benign', 'benign', 'benign', 'ddos attack-hoic', 'benign', 'benign', 'benign', 'benign', 'dos attacks-goldeneye', 'dos attacks-hulk', 'benign', 'benign', 'benign', 'benign', 'benign', 'benign', 'benign', 'benign', 'benign', 'dos attacks-slowloris', 'dos attacks-slowhttptest', 'benign', 'benign', 'benign', 'dos attacks-goldeneye', 'benign', 'dos attacks-slowhttptest', 'ddos attack-hoic', 'ddos attack-hoic', 'dos attacks-slowhttptest', 'ddos attack-hoic', 'benign', 'benign', 'dos attacks-hulk', 'benign', 'benign', 'dos attacks-slowhttptest', 'benign', 'benign', 'benign', 'benign', 'dos attacks-hulk', 'benign', 'benign', 'ddos attack-loic-udp', 'dos attacks-goldeneye', 'ddos attack-loic-udp', 'benign', 'benign', 'benign', 'benign', 'benign', 'benign', 'dos attacks-goldeneye', 'benign', 'benign', 'benign', 'dos attacks-slowhttptest', 'benign', 'dos attacks-goldeneye', 'benign', 'benign', 'dos attacks-synflood', 'ssh-bruteforce', 'benign', 'dos attacks-goldeneye', 'dos attacks-slowloris', 'benign', 'benign', 'brute force -web', 'dos attacks-goldeneye', 'benign', 'benign', 'dos attacks-slowloris', 'benign', 'dos attacks-goldeneye', 'benign', 'benign', 'benign', 'benign', 'benign', 'brute force -web', 'dos attacks-goldeneye', 'benign', 'benign', 'benign', 'benign', 'dos attacks-slowhttptest', 'dos attacks-slowloris', 'dos attacks-goldeneye', 'benign', 'benign', 'dos attacks-slowhttptest', 'benign', 'benign', 'benign', 'dos attacks-slowloris', 'ftp-bruteforce', 'dos attacks-hulk', 'benign', 'dos attacks-slowloris', 'benign', 'benign', 'benign', 'benign', 'benign', 'dos attacks-goldeneye', 'benign', 'ssh-bruteforce', 'benign', 'dos attacks-goldeneye', 'benign', 'dos attacks-slowloris', 'benign', 'ssh-bruteforce', 'benign', 'benign', 'benign', 'benign', 'dos attacks-hulk', 'dos attacks-hulk', 'benign', 'benign', 'benign', 'benign', 'dos attacks-slowloris', 'benign', 'dos attacks-hulk', 'benign', 'dos attacks-goldeneye', 'dos attacks-synflood', 'benign', 'dos attacks-slowhttptest', 'dos attacks-goldeneye', 'benign', 'benign', 'benign', 'benign', 'ddos attack-hoic', 'ftp-bruteforce', 'brute force -web', 'ddos attack-hoic', 'benign', 'benign', 'dos attacks-slowloris', 'benign', 'benign', 'dos attacks-goldeneye', 'benign', 'ddos attack-hoic', 'dos attacks-goldeneye', 'benign', 'dos attacks-slowloris', 'dos attacks-hulk', 'benign', 'dos attacks-slowhttptest', 'benign', 'benign', 'benign', 'dos attacks-slowloris', 'benign', 'dos attacks-goldeneye', 'benign', 'benign', 'ssh-bruteforce', 'benign', 'benign', 'dos attacks-goldeneye', 'dos attacks-slowloris', 'benign', 'benign', 'benign', 'dos attacks-goldeneye', 'dos attacks-goldeneye', 'dos attacks-slowhttptest', 'benign', 'dos attacks-slowhttptest', 'ssh-bruteforce', 'ddos attack-loic-udp', 'dos attacks-slowloris', 'benign', 'benign', 'dos attacks-synflood', 'benign', 'dos attacks-slowhttptest', 'benign', 'dos attacks-slowloris', 'dos attacks-slowhttptest', 'benign', 'dos attacks-goldeneye', 'benign', 'benign', 'benign', 'benign', 'ftp-bruteforce', 'dos attacks-hulk', 'dos attacks-slowloris', 'benign', 'benign', 'ssh-bruteforce', 'dos attacks-slowloris', 'benign', 'dos attacks-slowloris', 'benign', 'benign', 'ddos attack-loic-udp', 'benign', 'ftp-bruteforce', 'benign', 'dos attacks-slowloris', 'dos attacks-synflood', 'benign', 'benign', 'benign', 'benign', 'ssh-bruteforce', 'benign', 'benign', 'benign', 'dos attacks-goldeneye', 'benign', 'benign', 'dos attacks-goldeneye', 'ssh-bruteforce', 'ssh-bruteforce', 'benign', 'benign', 'benign', 'benign', 'benign', 'dos attacks-slowhttptest', 'benign', 'benign', 'benign', 'dos attacks-goldeneye', 'benign', 'benign', 'ddos attack-loic-udp', 'benign', 'benign', 'benign', 'benign', 'benign', 'benign', 'benign', 'benign', 'ddos attack-loic-udp', 'benign', 'brute force -web', 'ddos attack-hoic', 'benign', 'dos attacks-slowhttptest', 'ddos attack-loic-udp', 'benign', 'dos attacks-hulk', 'ftp-bruteforce', 'benign', 'dos attacks-slowloris', 'benign', 'benign', 'benign', 'benign', 'benign', 'ssh-bruteforce', 'dos attacks-goldeneye', 'benign', 'benign', 'ssh-bruteforce', 'benign', 'ddos attack-hoic', 'benign', 'ddos attack-loic-udp', 'benign', 'benign', 'dos attacks-slowhttptest', 'benign', 'benign', 'benign', 'benign', 'benign', 'dos attacks-slowloris', 'dos attacks-slowhttptest', 'benign', 'benign', 'ddos attack-loic-udp', 'benign', 'benign', 'benign', 'benign', 'benign', 'benign', 'dos attacks-goldeneye', 'benign', 'dos attacks-slowloris', 'brute force -web', 'benign', 'benign', 'benign', 'dos attacks-slowloris', 'dos attacks-goldeneye', 'dos attacks-slowloris', 'benign', 'dos attacks-hulk', 'dos attacks-goldeneye', 'dos attacks-slowloris', 'benign', 'dos attacks-slowloris', 'ssh-bruteforce', 'benign', 'benign', 'ddos attack-loic-udp', 'brute force -web', 'dos attacks-synflood', 'dos attacks-goldeneye', 'dos attacks-goldeneye', 'benign', 'dos attacks-synflood', 'dos attacks-slowhttptest', 'benign', 'dos attacks-slowloris', 'dos attacks-goldeneye', 'ddos attack-hoic', 'benign', 'benign', 'benign', 'dos attacks-slowhttptest', 'benign', 'dos attacks-hulk', 'benign', 'ddos attack-loic-udp', 'dos attacks-goldeneye', 'benign', 'benign', 'benign', 'benign', 'dos attacks-synflood', 'ddos attack-loic-udp', 'benign', 'benign', 'ddos attack-loic-udp', 'benign', 'benign', 'benign', 'benign', 'dos attacks-goldeneye', 'benign', 'dos attacks-slowloris', 'dos attacks-hulk', 'benign', 'dos attacks-slowloris', 'benign', 'dos attacks-hulk', 'benign', 'dos attacks-slowhttptest', 'ddos attack-loic-udp', 'benign', 'benign', 'benign', 'benign', 'benign', 'benign', 'benign', 'dos attacks-slowhttptest', 'benign', 'benign', 'dos attacks-slowloris', 'dos attacks-hulk', 'benign', 'benign', 'benign', 'ftp-bruteforce', 'benign', 'ddos attack-loic-udp', 'benign', 'benign', 'dos attacks-slowloris', 'benign', 'dos attacks-hulk', 'benign', 'benign', 'benign', 'benign', 'dos attacks-goldeneye', 'dos attacks-synflood', 'dos attacks-goldeneye', 'ftp-bruteforce', 'ssh-bruteforce', 'brute force -web', 'dos attacks-hulk', 'benign', 'dos attacks-slowloris', 'dos attacks-slowloris', 'brute force -web', 'dos attacks-hulk', 'dos attacks-slowloris', 'dos attacks-slowhttptest', 'dos attacks-slowhttptest', 'benign', 'benign', 'benign', 'benign', 'benign', 'ddos attack-loic-udp', 'dos attacks-slowloris', 'dos attacks-slowhttptest', 'benign', 'benign', 'dos attacks-synflood', 'ssh-bruteforce', 'benign', 'benign', 'benign', 'benign', 'benign', 'benign', 'ddos attack-loic-udp', 'benign', 'dos attacks-slowloris', 'dos attacks-slowloris', 'benign', 'benign', 'dos attacks-synflood', 'benign', 'benign', 'dos attacks-slowloris', 'benign', 'dos attacks-slowloris', 'benign', 'dos attacks-slowloris', 'benign', 'dos attacks-slowloris', 'benign', 'ssh-bruteforce', 'ftp-bruteforce', 'dos attacks-goldeneye', 'dos attacks-slowloris', 'benign', 'benign', 'benign', 'dos attacks-goldeneye', 'benign', 'ftp-bruteforce', 'benign', 'dos attacks-hulk', 'benign', 'benign', 'benign', 'benign', 'benign', 'benign', 'benign', 'dos attacks-slowloris', 'dos attacks-slowhttptest', 'benign', 'dos attacks-goldeneye', 'benign', 'benign', 'dos attacks-slowloris', 'dos attacks-slowloris', 'benign', 'benign', 'benign', 'benign', 'benign', 'ddos attack-hoic', 'benign', 'dos attacks-slowloris', 'ddos attack-hoic', 'benign', 'benign', 'dos attacks-goldeneye', 'benign', 'ssh-bruteforce', 'benign', 'dos attacks-hulk', 'dos attacks-goldeneye', 'dos attacks-goldeneye', 'benign', 'benign', 'dos attacks-synflood', 'benign', 'dos attacks-goldeneye', 'benign', 'dos attacks-goldeneye', 'benign', 'benign', 'dos attacks-slowhttptest', 'dos attacks-goldeneye', 'dos attacks-hulk', 'benign', 'dos attacks-goldeneye', 'benign', 'dos attacks-hulk', 'benign', 'benign', 'benign', 'dos attacks-goldeneye', 'ddos attack-loic-udp', 'dos attacks-goldeneye', 'benign', 'benign', 'dos attacks-synflood', 'dos attacks-goldeneye', 'dos attacks-slowloris', 'benign', 'benign', 'benign', 'benign', 'benign', 'dos attacks-slowloris', 'dos attacks-synflood', 'benign', 'benign', 'benign', 'benign', 'ddos attack-loic-udp', 'benign', 'benign', 'benign', 'dos attacks-hulk', 'benign', 'benign', 'benign', 'benign', 'benign', 'benign', 'dos attacks-hulk', 'benign', 'dos attacks-goldeneye', 'dos attacks-synflood', 'dos attacks-slowloris', 'benign', 'benign', 'benign', 'benign', 'benign', 'dos attacks-goldeneye', 'benign', 'benign', 'benign', 'benign', 'benign', 'ddos attack-hoic', 'dos attacks-hulk', 'benign', 'benign', 'benign', 'benign', 'benign', 'benign', 'dos attacks-slowloris', 'benign', 'benign', 'benign', 'dos attacks-hulk', 'benign', 'benign', 'benign', 'benign', 'benign', 'benign', 'benign', 'benign', 'dos attacks-slowloris', 'benign', 'dos attacks-goldeneye', 'dos attacks-slowloris', 'benign', 'benign', 'benign', 'benign', 'dos attacks-synflood', 'benign', 'benign', 'benign', 'ssh-bruteforce', 'brute force -web', 'ddos attack-hoic', 'benign', 'benign', 'benign', 'benign', 'dos attacks-slowhttptest', 'benign', 'dos attacks-goldeneye', 'dos attacks-goldeneye', 'ssh-bruteforce', 'dos attacks-slowhttptest', 'benign', 'dos attacks-hulk', 'benign', 'benign', 'benign', 'benign', 'dos attacks-slowhttptest', 'benign', 'benign', 'benign', 'benign', 'benign', 'benign', 'ddos attack-loic-udp', 'ssh-bruteforce', 'ddos attack-hoic', 'benign', 'dos attacks-goldeneye', 'benign', 'benign', 'benign', 'benign', 'ddos attack-hoic', 'benign', 'dos attacks-hulk', 'dos attacks-slowhttptest', 'dos attacks-hulk', 'benign', 'benign', 'dos attacks-slowloris', 'ddos attack-hoic', 'benign', 'benign', 'ddos attack-loic-udp', 'dos attacks-synflood', 'ftp-bruteforce', 'dos attacks-goldeneye', 'benign', 'benign', 'benign', 'ssh-bruteforce', 'ddos attack-loic-udp', 'dos attacks-goldeneye', 'dos attacks-goldeneye', 'benign', 'benign', 'dos attacks-goldeneye', 'ddos attack-hoic', 'dos attacks-slowhttptest', 'benign', 'benign', 'ddos attack-hoic', 'benign', 'benign', 'benign', 'benign', 'dos attacks-hulk', 'dos attacks-slowloris', 'ssh-bruteforce', 'benign', 'benign', 'benign', 'dos attacks-synflood', 'benign', 'dos attacks-synflood', 'dos attacks-slowhttptest', 'benign', 'ddos attack-hoic', 'benign', 'benign', 'benign', 'benign', 'dos attacks-slowloris', 'benign', 'dos attacks-slowloris', 'dos attacks-slowhttptest', 'benign', 'dos attacks-slowloris', 'dos attacks-synflood', 'dos attacks-synflood', 'benign', 'benign', 'benign', 'dos attacks-goldeneye', 'benign', 'benign', 'benign', 'dos attacks-synflood', 'dos attacks-slowloris', 'brute force -web', 'dos attacks-goldeneye', 'dos attacks-slowloris', 'ddos attack-hoic', 'benign', 'benign', 'benign', 'benign', 'benign', 'dos attacks-slowhttptest', 'ddos attack-hoic', 'brute force -web', 'benign', 'benign', 'dos attacks-goldeneye', 'benign', 'ddos attack-hoic', 'benign', 'ddos attack-loic-udp', 'benign', 'dos attacks-slowloris', 'benign', 'dos attacks-slowhttptest', 'ddos attack-loic-udp', 'ssh-bruteforce', 'benign', 'dos attacks-goldeneye', 'benign', 'benign', 'dos attacks-synflood', 'benign', 'benign', 'benign', 'benign', 'benign', 'benign', 'benign', 'dos attacks-slowhttptest', 'dos attacks-goldeneye', 'benign', 'benign', 'benign', 'dos attacks-goldeneye', 'dos attacks-slowloris', 'dos attacks-goldeneye', 'benign', 'ddos attack-hoic', 'benign', 'benign', 'ddos attack-hoic', 'dos attacks-goldeneye', 'dos attacks-goldeneye', 'benign', 'dos attacks-goldeneye', 'dos attacks-goldeneye', 'benign', 'ddos attack-loic-udp', 'dos attacks-slowhttptest', 'benign', 'benign', 'ddos attack-hoic', 'benign', 'benign', 'benign', 'dos attacks-goldeneye', 'dos attacks-slowhttptest', 'benign', 'dos attacks-slowhttptest', 'benign', 'benign', 'benign', 'benign', 'dos attacks-slowloris', 'benign', 'benign', 'ddos attack-hoic', 'dos attacks-slowhttptest', 'ddos attack-hoic', 'benign', 'dos attacks-slowhttptest', 'benign', 'ddos attack-hoic', 'benign', 'benign', 'benign', 'benign', 'benign', 'benign', 'benign', 'benign', 'benign', 'benign', 'benign', 'dos attacks-goldeneye', 'benign', 'benign', 'benign', 'dos attacks-goldeneye', 'benign', 'ddos attack-hoic', 'dos attacks-slowhttptest', 'benign', 'ssh-bruteforce', 'ddos attack-hoic', 'benign', 'brute force -web', 'benign', 'benign', 'benign', 'benign', 'benign', 'benign', 'dos attacks-synflood', 'benign', 'benign', 'dos attacks-goldeneye', 'benign', 'benign', 'benign', 'benign', 'benign', 'benign', 'benign', 'benign', 'benign', 'benign', 'dos attacks-slowloris', 'benign', 'benign', 'benign', 'benign', 'ddos attack-hoic', 'ssh-bruteforce', 'dos attacks-hulk', 'benign', 'benign', 'dos attacks-goldeneye', 'dos attacks-goldeneye', 'dos attacks-slowloris', 'benign', 'benign', 'benign', 'benign', 'benign', 'benign', 'dos attacks-goldeneye', 'benign', 'benign', 'benign', 'brute force -web', 'benign', 'benign', 'benign', 'benign', 'benign', 'benign', 'benign', 'benign', 'benign', 'dos attacks-hulk', 'ssh-bruteforce', 'benign', 'dos attacks-slowloris', 'dos attacks-synflood', 'dos attacks-synflood', 'dos attacks-goldeneye', 'benign', 'dos attacks-synflood', 'benign', 'benign', 'benign', 'benign', 'benign', 'benign', 'ddos attack-loic-udp', 'dos attacks-slowloris', 'dos attacks-synflood', 'benign', 'benign', 'benign', 'benign', 'dos attacks-slowloris', 'ddos attack-loic-udp', 'ssh-bruteforce', 'benign', 'dos attacks-goldeneye', 'ssh-bruteforce', 'benign', 'benign', 'benign', 'benign', 'benign']\n"
     ]
    }
   ],
   "source": [
    "class_name = [mapper[index.item()+1] for index in class_idx]\n",
    "print(class_name)"
   ]
  },
  {
   "cell_type": "code",
   "execution_count": 36,
   "metadata": {},
   "outputs": [],
   "source": [
    "import os\n",
    "\n",
    "\n",
    "save_path = os.path.join('./model/model.pth')\n",
    "\n",
    "torch.save(\n",
    "                {\n",
    "                    'model_state_dict': model.state_dict(),\n",
    "                    'optimizer_state_dict': optimizer.state_dict(),\n",
    "                }\n",
    "                , save_path)"
   ]
  }
 ],
 "metadata": {
  "kaggle": {
   "accelerator": "none",
   "dataSources": [
    {
     "datasetId": 902298,
     "sourceId": 1530359,
     "sourceType": "datasetVersion"
    },
    {
     "datasetId": 6195988,
     "sourceId": 10055420,
     "sourceType": "datasetVersion"
    }
   ],
   "dockerImageVersionId": 30786,
   "isGpuEnabled": false,
   "isInternetEnabled": false,
   "language": "python",
   "sourceType": "notebook"
  },
  "kernelspec": {
   "display_name": "conda_venv",
   "language": "python",
   "name": "python3"
  },
  "language_info": {
   "codemirror_mode": {
    "name": "ipython",
    "version": 3
   },
   "file_extension": ".py",
   "mimetype": "text/x-python",
   "name": "python",
   "nbconvert_exporter": "python",
   "pygments_lexer": "ipython3",
   "version": "3.12.2"
  }
 },
 "nbformat": 4,
 "nbformat_minor": 4
}
