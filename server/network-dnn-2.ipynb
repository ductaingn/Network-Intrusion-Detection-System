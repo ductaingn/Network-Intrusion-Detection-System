{
 "cells": [
  {
   "cell_type": "code",
   "execution_count": 1,
   "metadata": {
    "execution": {
     "iopub.execute_input": "2024-12-01T13:24:25.643664Z",
     "iopub.status.busy": "2024-12-01T13:24:25.643242Z",
     "iopub.status.idle": "2024-12-01T13:24:32.591717Z",
     "shell.execute_reply": "2024-12-01T13:24:32.590483Z",
     "shell.execute_reply.started": "2024-12-01T13:24:25.643616Z"
    },
    "trusted": true
   },
   "outputs": [],
   "source": [
    "import numpy as np\n",
    "import pandas as pd\n",
    "import seaborn as sns\n",
    "import matplotlib.pyplot as plt\n",
    "\n",
    "from pandas.plotting import scatter_matrix\n",
    "from sklearn.preprocessing import LabelEncoder, OneHotEncoder, StandardScaler\n",
    "from sklearn.model_selection import train_test_split\n",
    "\n",
    "import torch\n",
    "import torch.nn as nn\n",
    "import torch.optim as optim"
   ]
  },
  {
   "cell_type": "markdown",
   "metadata": {},
   "source": [
    "# Data"
   ]
  },
  {
   "cell_type": "code",
   "execution_count": 2,
   "metadata": {
    "execution": {
     "iopub.execute_input": "2024-12-01T13:24:32.594110Z",
     "iopub.status.busy": "2024-12-01T13:24:32.593590Z",
     "iopub.status.idle": "2024-12-01T13:24:32.795037Z",
     "shell.execute_reply": "2024-12-01T13:24:32.794078Z",
     "shell.execute_reply.started": "2024-12-01T13:24:32.594074Z"
    },
    "trusted": true
   },
   "outputs": [],
   "source": [
    "# data_path = \"/kaggle/input/traffic/data.csv\"\n",
    "data_path = \"data.csv\"\n",
    "\n",
    "df = pd.read_csv(data_path)\n"
   ]
  },
  {
   "cell_type": "code",
   "execution_count": 3,
   "metadata": {
    "execution": {
     "iopub.execute_input": "2024-12-01T13:24:32.796530Z",
     "iopub.status.busy": "2024-12-01T13:24:32.796232Z",
     "iopub.status.idle": "2024-12-01T13:24:32.858424Z",
     "shell.execute_reply": "2024-12-01T13:24:32.857242Z",
     "shell.execute_reply.started": "2024-12-01T13:24:32.796501Z"
    },
    "trusted": true
   },
   "outputs": [],
   "source": [
    "df = df[df['Dst Port'] != 'Dst Port']\n",
    "\n",
    "df['Dst Port'] = df['Dst Port'].astype(int)\n",
    "df['Protocol'] = df['Protocol'].astype(int)\n",
    "df['Flow Duration'] = df['Flow Duration'].astype(int)\n",
    "df['Tot Fwd Pkts'] = df['Tot Fwd Pkts'].astype(int)\n",
    "df['Tot Bwd Pkts'] = df['Tot Bwd Pkts'].astype(int)\n",
    "df['TotLen Fwd Pkts'] = df['TotLen Fwd Pkts'].astype(int)\n",
    "df['TotLen Bwd Pkts'] = df['TotLen Bwd Pkts'].astype(int)\n",
    "df['Fwd Pkt Len Max'] = df['Fwd Pkt Len Max'].astype(int)\n",
    "df['Fwd Pkt Len Min'] = df['Fwd Pkt Len Min'].astype(int)\n",
    "df['Fwd Pkt Len Mean'] = df['Fwd Pkt Len Mean'].astype(float)\n",
    "df['Fwd Pkt Len Std'] = df['Fwd Pkt Len Std'].astype(float)\n",
    "df['Bwd Pkt Len Max'] = df['Bwd Pkt Len Max'].astype(int)\n",
    "df['Bwd Pkt Len Min'] = df['Bwd Pkt Len Min'].astype(int)\n",
    "df['Bwd Pkt Len Mean'] = df['Bwd Pkt Len Mean'].astype(float)\n",
    "df['Bwd Pkt Len Std'] = df['Bwd Pkt Len Std'].astype(float)\n",
    "df['Flow Byts/s'] = df['Flow Byts/s'].astype(float)\n",
    "df['Flow Pkts/s'] = df['Flow Pkts/s'].astype(float)\n",
    "df['Flow IAT Mean'] = df['Flow IAT Mean'].astype(float)\n",
    "df['Flow IAT Std'] = df['Flow IAT Std'].astype(float)\n",
    "df['Flow IAT Max'] = df['Flow IAT Max'].astype(int)\n",
    "df['Flow IAT Min'] = df['Flow IAT Min'].astype(int)\n",
    "df['Fwd IAT Tot'] = df['Fwd IAT Tot'].astype(int)\n",
    "df['Fwd IAT Mean'] = df['Fwd IAT Mean'].astype(float)\n",
    "df['Fwd IAT Std'] = df['Fwd IAT Std'].astype(float)\n",
    "df['Fwd IAT Max'] = df['Fwd IAT Max'].astype(int)\n",
    "df['Fwd IAT Min'] = df['Fwd IAT Min'].astype(int)\n",
    "df['Bwd IAT Tot'] = df['Bwd IAT Tot'].astype(int)\n",
    "df['Bwd IAT Mean'] = df['Bwd IAT Mean'].astype(float)\n",
    "df['Bwd IAT Std'] = df['Bwd IAT Std'].astype(float)\n",
    "df['Bwd IAT Max'] = df['Bwd IAT Max'].astype(int)\n",
    "df['Bwd IAT Min'] = df['Bwd IAT Min'].astype(int)\n",
    "df['Fwd PSH Flags'] = df['Fwd PSH Flags'].astype(int)\n",
    "df['Bwd PSH Flags'] = df['Bwd PSH Flags'].astype(int)\n",
    "df['Fwd URG Flags'] = df['Fwd URG Flags'].astype(int)\n",
    "df['Bwd URG Flags'] = df['Bwd URG Flags'].astype(int)\n",
    "df['Fwd Header Len'] = df['Fwd Header Len'].astype(int)\n",
    "df['Bwd Header Len'] = df['Bwd Header Len'].astype(int)\n",
    "df['Fwd Pkts/s'] = df['Fwd Pkts/s'].astype(float)\n",
    "df['Bwd Pkts/s'] = df['Bwd Pkts/s'].astype(float)\n",
    "df['Pkt Len Min'] = df['Pkt Len Min'].astype(int)\n",
    "df['Pkt Len Max'] = df['Pkt Len Max'].astype(int)\n",
    "df['Pkt Len Mean'] = df['Pkt Len Mean'].astype(float)\n",
    "df['Pkt Len Std'] = df['Pkt Len Std'].astype(float)\n",
    "df['Pkt Len Var'] = df['Pkt Len Var'].astype(float)\n",
    "df['FIN Flag Cnt'] = df['FIN Flag Cnt'].astype(int)\n",
    "df['SYN Flag Cnt'] = df['SYN Flag Cnt'].astype(int)\n",
    "df['RST Flag Cnt'] = df['RST Flag Cnt'].astype(int)\n",
    "df['PSH Flag Cnt'] = df['PSH Flag Cnt'].astype(int)\n",
    "df['ACK Flag Cnt'] = df['ACK Flag Cnt'].astype(int)\n",
    "df['URG Flag Cnt'] = df['URG Flag Cnt'].astype(int)\n",
    "df['CWE Flag Count'] = df['CWE Flag Count'].astype(int)\n",
    "df['ECE Flag Cnt'] = df['ECE Flag Cnt'].astype(int)\n",
    "df['Down/Up Ratio'] = df['Down/Up Ratio'].astype(int)\n",
    "df['Pkt Size Avg'] = df['Pkt Size Avg'].astype(float)\n",
    "df['Fwd Seg Size Avg'] = df['Fwd Seg Size Avg'].astype(float)\n",
    "df['Bwd Seg Size Avg'] = df['Bwd Seg Size Avg'].astype(float)\n",
    "df['Fwd Byts/b Avg'] = df['Fwd Byts/b Avg'].astype(int)\n",
    "df['Fwd Pkts/b Avg'] = df['Fwd Pkts/b Avg'].astype(int)\n",
    "df['Fwd Blk Rate Avg'] = df['Fwd Blk Rate Avg'].astype(int)\n",
    "df['Bwd Byts/b Avg'] = df['Bwd Byts/b Avg'].astype(int)\n",
    "df['Bwd Pkts/b Avg'] = df['Bwd Pkts/b Avg'].astype(int)\n",
    "df['Bwd Blk Rate Avg'] = df['Bwd Blk Rate Avg'].astype(int)\n",
    "df['Subflow Fwd Pkts'] = df['Subflow Fwd Pkts'].astype(int)\n",
    "df['Subflow Fwd Byts'] = df['Subflow Fwd Byts'].astype(int)\n",
    "df['Subflow Bwd Pkts'] = df['Subflow Bwd Pkts'].astype(int)\n",
    "df['Subflow Bwd Byts'] = df['Subflow Bwd Byts'].astype(int)\n",
    "df['Init Fwd Win Byts'] = df['Init Fwd Win Byts'].astype(int)\n",
    "df['Init Bwd Win Byts'] = df['Init Bwd Win Byts'].astype(int)\n",
    "df['Fwd Act Data Pkts'] = df['Fwd Act Data Pkts'].astype(int)\n",
    "df['Fwd Seg Size Min'] = df['Fwd Seg Size Min'].astype(int)\n",
    "df['Active Mean'] = df['Active Mean'].astype(float)\n",
    "df['Active Std'] = df['Active Std'].astype(float)\n",
    "df['Active Max'] = df['Active Max'].astype(int)\n",
    "df['Active Min'] = df['Active Min'].astype(int)\n",
    "df['Idle Mean'] = df['Idle Mean'].astype(float)\n",
    "df['Idle Std'] = df['Idle Std'].astype(float)\n",
    "df['Idle Max'] = df['Idle Max'].astype(int)\n",
    "df['Idle Min'] = df['Idle Min'].astype(int)"
   ]
  },
  {
   "cell_type": "code",
   "execution_count": 4,
   "metadata": {
    "execution": {
     "iopub.execute_input": "2024-12-01T13:24:32.862541Z",
     "iopub.status.busy": "2024-12-01T13:24:32.861928Z",
     "iopub.status.idle": "2024-12-01T13:24:32.898442Z",
     "shell.execute_reply": "2024-12-01T13:24:32.897238Z",
     "shell.execute_reply.started": "2024-12-01T13:24:32.862503Z"
    },
    "trusted": true
   },
   "outputs": [],
   "source": [
    "df.drop([\"Timestamp\"], axis=1, inplace=True)\n",
    "df.drop([\"Dst Port\"], axis=1, inplace=True)\n",
    "\n",
    "df[\"Flow Byts/s\"] = df[\"Flow Byts/s\"].replace(np.inf, np.nan)\n",
    "df[\"Flow Pkts/s\"] = df[\"Flow Pkts/s\"].replace(np.inf, np.nan)\n",
    "\n",
    "df[\"Flow Pkts/s\"] = df[\"Flow Pkts/s\"].replace(np.nan, df[\"Flow Pkts/s\"].max())"
   ]
  },
  {
   "cell_type": "code",
   "execution_count": 5,
   "metadata": {
    "execution": {
     "iopub.execute_input": "2024-12-01T13:24:32.900454Z",
     "iopub.status.busy": "2024-12-01T13:24:32.899984Z",
     "iopub.status.idle": "2024-12-01T13:24:32.930524Z",
     "shell.execute_reply": "2024-12-01T13:24:32.929449Z",
     "shell.execute_reply.started": "2024-12-01T13:24:32.900406Z"
    },
    "trusted": true
   },
   "outputs": [],
   "source": [
    "df.replace([np.inf, -np.inf], np.nan, inplace=True)\n",
    "\n",
    "df.dropna(inplace=True)\n"
   ]
  },
  {
   "cell_type": "markdown",
   "metadata": {},
   "source": [
    "## Label encode"
   ]
  },
  {
   "cell_type": "code",
   "execution_count": 6,
   "metadata": {
    "execution": {
     "iopub.execute_input": "2024-12-01T13:24:32.932285Z",
     "iopub.status.busy": "2024-12-01T13:24:32.931938Z",
     "iopub.status.idle": "2024-12-01T13:24:32.940436Z",
     "shell.execute_reply": "2024-12-01T13:24:32.939218Z",
     "shell.execute_reply.started": "2024-12-01T13:24:32.932250Z"
    },
    "trusted": true
   },
   "outputs": [
    {
     "name": "stdout",
     "output_type": "stream",
     "text": [
      "270\n"
     ]
    }
   ],
   "source": [
    "df['Label'].values\n",
    "# how many rows with Label == 'DoS attacks-SynFlood'\n",
    "print(df[df['Label'] == 'DoS attacks-SynFlood'].shape[0])"
   ]
  },
  {
   "cell_type": "code",
   "execution_count": 7,
   "metadata": {
    "execution": {
     "iopub.execute_input": "2024-12-01T13:24:32.941864Z",
     "iopub.status.busy": "2024-12-01T13:24:32.941551Z",
     "iopub.status.idle": "2024-12-01T13:24:32.957880Z",
     "shell.execute_reply": "2024-12-01T13:24:32.956544Z",
     "shell.execute_reply.started": "2024-12-01T13:24:32.941816Z"
    },
    "trusted": true
   },
   "outputs": [],
   "source": [
    "vec_len = len(df['Label'].unique())"
   ]
  },
  {
   "cell_type": "code",
   "execution_count": 8,
   "metadata": {
    "execution": {
     "iopub.execute_input": "2024-12-01T13:24:32.959562Z",
     "iopub.status.busy": "2024-12-01T13:24:32.959231Z",
     "iopub.status.idle": "2024-12-01T13:24:32.991131Z",
     "shell.execute_reply": "2024-12-01T13:24:32.990218Z",
     "shell.execute_reply.started": "2024-12-01T13:24:32.959532Z"
    },
    "trusted": true
   },
   "outputs": [],
   "source": [
    "ohe = OneHotEncoder(sparse_output=False)\n",
    "labels_onehot = ohe.fit_transform(df['Label'].values.reshape(-1, 1))\n",
    "\n",
    "onehot_df = pd.DataFrame(labels_onehot, columns=ohe.categories_[0], index=df.index)\n",
    "\n",
    "df = pd.concat([df.drop(columns=['Label']), onehot_df], axis=1)"
   ]
  },
  {
   "cell_type": "code",
   "execution_count": 9,
   "metadata": {
    "execution": {
     "iopub.execute_input": "2024-12-01T13:24:32.992562Z",
     "iopub.status.busy": "2024-12-01T13:24:32.992233Z",
     "iopub.status.idle": "2024-12-01T13:24:33.023368Z",
     "shell.execute_reply": "2024-12-01T13:24:33.022196Z",
     "shell.execute_reply.started": "2024-12-01T13:24:32.992530Z"
    },
    "trusted": true
   },
   "outputs": [
    {
     "data": {
      "text/html": [
       "<div>\n",
       "<style scoped>\n",
       "    .dataframe tbody tr th:only-of-type {\n",
       "        vertical-align: middle;\n",
       "    }\n",
       "\n",
       "    .dataframe tbody tr th {\n",
       "        vertical-align: top;\n",
       "    }\n",
       "\n",
       "    .dataframe thead th {\n",
       "        text-align: right;\n",
       "    }\n",
       "</style>\n",
       "<table border=\"1\" class=\"dataframe\">\n",
       "  <thead>\n",
       "    <tr style=\"text-align: right;\">\n",
       "      <th></th>\n",
       "      <th>Protocol</th>\n",
       "      <th>Flow Duration</th>\n",
       "      <th>Tot Fwd Pkts</th>\n",
       "      <th>Tot Bwd Pkts</th>\n",
       "      <th>TotLen Fwd Pkts</th>\n",
       "      <th>TotLen Bwd Pkts</th>\n",
       "      <th>Fwd Pkt Len Max</th>\n",
       "      <th>Fwd Pkt Len Min</th>\n",
       "      <th>Fwd Pkt Len Mean</th>\n",
       "      <th>Fwd Pkt Len Std</th>\n",
       "      <th>...</th>\n",
       "      <th>DDOS attack-LOIC-UDP</th>\n",
       "      <th>DoS attacks-GoldenEye</th>\n",
       "      <th>DoS attacks-Hulk</th>\n",
       "      <th>DoS attacks-SlowHTTPTest</th>\n",
       "      <th>DoS attacks-Slowloris</th>\n",
       "      <th>DoS attacks-SynFlood</th>\n",
       "      <th>FTP-BruteForce</th>\n",
       "      <th>Infilteration</th>\n",
       "      <th>SQL Injection</th>\n",
       "      <th>SSH-Bruteforce</th>\n",
       "    </tr>\n",
       "  </thead>\n",
       "  <tbody>\n",
       "    <tr>\n",
       "      <th>0</th>\n",
       "      <td>6</td>\n",
       "      <td>165</td>\n",
       "      <td>2</td>\n",
       "      <td>0</td>\n",
       "      <td>0</td>\n",
       "      <td>0</td>\n",
       "      <td>0</td>\n",
       "      <td>0</td>\n",
       "      <td>0.00</td>\n",
       "      <td>0.000000</td>\n",
       "      <td>...</td>\n",
       "      <td>0.0</td>\n",
       "      <td>0.0</td>\n",
       "      <td>0.0</td>\n",
       "      <td>0.0</td>\n",
       "      <td>0.0</td>\n",
       "      <td>0.0</td>\n",
       "      <td>0.0</td>\n",
       "      <td>0.0</td>\n",
       "      <td>0.0</td>\n",
       "      <td>0.0</td>\n",
       "    </tr>\n",
       "    <tr>\n",
       "      <th>1</th>\n",
       "      <td>6</td>\n",
       "      <td>5727100</td>\n",
       "      <td>4</td>\n",
       "      <td>4</td>\n",
       "      <td>97</td>\n",
       "      <td>231</td>\n",
       "      <td>97</td>\n",
       "      <td>0</td>\n",
       "      <td>24.25</td>\n",
       "      <td>48.500000</td>\n",
       "      <td>...</td>\n",
       "      <td>0.0</td>\n",
       "      <td>0.0</td>\n",
       "      <td>0.0</td>\n",
       "      <td>0.0</td>\n",
       "      <td>0.0</td>\n",
       "      <td>0.0</td>\n",
       "      <td>0.0</td>\n",
       "      <td>0.0</td>\n",
       "      <td>0.0</td>\n",
       "      <td>0.0</td>\n",
       "    </tr>\n",
       "    <tr>\n",
       "      <th>2</th>\n",
       "      <td>6</td>\n",
       "      <td>4053796</td>\n",
       "      <td>14</td>\n",
       "      <td>8</td>\n",
       "      <td>1456</td>\n",
       "      <td>1731</td>\n",
       "      <td>741</td>\n",
       "      <td>0</td>\n",
       "      <td>104.00</td>\n",
       "      <td>195.013609</td>\n",
       "      <td>...</td>\n",
       "      <td>0.0</td>\n",
       "      <td>0.0</td>\n",
       "      <td>0.0</td>\n",
       "      <td>0.0</td>\n",
       "      <td>0.0</td>\n",
       "      <td>0.0</td>\n",
       "      <td>0.0</td>\n",
       "      <td>0.0</td>\n",
       "      <td>0.0</td>\n",
       "      <td>0.0</td>\n",
       "    </tr>\n",
       "    <tr>\n",
       "      <th>3</th>\n",
       "      <td>6</td>\n",
       "      <td>833502</td>\n",
       "      <td>7</td>\n",
       "      <td>5</td>\n",
       "      <td>364</td>\n",
       "      <td>582</td>\n",
       "      <td>103</td>\n",
       "      <td>0</td>\n",
       "      <td>52.00</td>\n",
       "      <td>49.217206</td>\n",
       "      <td>...</td>\n",
       "      <td>0.0</td>\n",
       "      <td>0.0</td>\n",
       "      <td>0.0</td>\n",
       "      <td>0.0</td>\n",
       "      <td>0.0</td>\n",
       "      <td>0.0</td>\n",
       "      <td>0.0</td>\n",
       "      <td>0.0</td>\n",
       "      <td>0.0</td>\n",
       "      <td>0.0</td>\n",
       "    </tr>\n",
       "    <tr>\n",
       "      <th>4</th>\n",
       "      <td>17</td>\n",
       "      <td>601</td>\n",
       "      <td>1</td>\n",
       "      <td>1</td>\n",
       "      <td>53</td>\n",
       "      <td>85</td>\n",
       "      <td>53</td>\n",
       "      <td>53</td>\n",
       "      <td>53.00</td>\n",
       "      <td>0.000000</td>\n",
       "      <td>...</td>\n",
       "      <td>0.0</td>\n",
       "      <td>0.0</td>\n",
       "      <td>0.0</td>\n",
       "      <td>0.0</td>\n",
       "      <td>0.0</td>\n",
       "      <td>0.0</td>\n",
       "      <td>0.0</td>\n",
       "      <td>0.0</td>\n",
       "      <td>0.0</td>\n",
       "      <td>0.0</td>\n",
       "    </tr>\n",
       "  </tbody>\n",
       "</table>\n",
       "<p>5 rows × 92 columns</p>\n",
       "</div>"
      ],
      "text/plain": [
       "   Protocol  Flow Duration  Tot Fwd Pkts  Tot Bwd Pkts  TotLen Fwd Pkts  \\\n",
       "0         6            165             2             0                0   \n",
       "1         6        5727100             4             4               97   \n",
       "2         6        4053796            14             8             1456   \n",
       "3         6         833502             7             5              364   \n",
       "4        17            601             1             1               53   \n",
       "\n",
       "   TotLen Bwd Pkts  Fwd Pkt Len Max  Fwd Pkt Len Min  Fwd Pkt Len Mean  \\\n",
       "0                0                0                0              0.00   \n",
       "1              231               97                0             24.25   \n",
       "2             1731              741                0            104.00   \n",
       "3              582              103                0             52.00   \n",
       "4               85               53               53             53.00   \n",
       "\n",
       "   Fwd Pkt Len Std  ...  DDOS attack-LOIC-UDP  DoS attacks-GoldenEye  \\\n",
       "0         0.000000  ...                   0.0                    0.0   \n",
       "1        48.500000  ...                   0.0                    0.0   \n",
       "2       195.013609  ...                   0.0                    0.0   \n",
       "3        49.217206  ...                   0.0                    0.0   \n",
       "4         0.000000  ...                   0.0                    0.0   \n",
       "\n",
       "   DoS attacks-Hulk  DoS attacks-SlowHTTPTest  DoS attacks-Slowloris  \\\n",
       "0               0.0                       0.0                    0.0   \n",
       "1               0.0                       0.0                    0.0   \n",
       "2               0.0                       0.0                    0.0   \n",
       "3               0.0                       0.0                    0.0   \n",
       "4               0.0                       0.0                    0.0   \n",
       "\n",
       "   DoS attacks-SynFlood  FTP-BruteForce  Infilteration  SQL Injection  \\\n",
       "0                   0.0             0.0            0.0            0.0   \n",
       "1                   0.0             0.0            0.0            0.0   \n",
       "2                   0.0             0.0            0.0            0.0   \n",
       "3                   0.0             0.0            0.0            0.0   \n",
       "4                   0.0             0.0            0.0            0.0   \n",
       "\n",
       "   SSH-Bruteforce  \n",
       "0             0.0  \n",
       "1             0.0  \n",
       "2             0.0  \n",
       "3             0.0  \n",
       "4             0.0  \n",
       "\n",
       "[5 rows x 92 columns]"
      ]
     },
     "execution_count": 9,
     "metadata": {},
     "output_type": "execute_result"
    }
   ],
   "source": [
    "df.head()"
   ]
  },
  {
   "cell_type": "code",
   "execution_count": 10,
   "metadata": {
    "execution": {
     "iopub.execute_input": "2024-12-01T13:24:33.026729Z",
     "iopub.status.busy": "2024-12-01T13:24:33.026369Z",
     "iopub.status.idle": "2024-12-01T13:24:33.033740Z",
     "shell.execute_reply": "2024-12-01T13:24:33.032419Z",
     "shell.execute_reply.started": "2024-12-01T13:24:33.026694Z"
    },
    "trusted": true
   },
   "outputs": [
    {
     "name": "stdout",
     "output_type": "stream",
     "text": [
      "[[1. 0. 0. ... 0. 0. 0.]\n",
      " [1. 0. 0. ... 0. 0. 0.]\n",
      " [1. 0. 0. ... 0. 0. 0.]\n",
      " ...\n",
      " [0. 0. 0. ... 0. 0. 0.]\n",
      " [0. 0. 0. ... 0. 0. 0.]\n",
      " [0. 0. 0. ... 0. 0. 0.]]\n"
     ]
    }
   ],
   "source": [
    "print(labels_onehot)"
   ]
  },
  {
   "cell_type": "markdown",
   "metadata": {},
   "source": [
    "## Drop low corr with Label"
   ]
  },
  {
   "cell_type": "code",
   "execution_count": 11,
   "metadata": {
    "execution": {
     "iopub.execute_input": "2024-12-01T13:24:33.035878Z",
     "iopub.status.busy": "2024-12-01T13:24:33.035510Z",
     "iopub.status.idle": "2024-12-01T13:24:33.317248Z",
     "shell.execute_reply": "2024-12-01T13:24:33.316120Z",
     "shell.execute_reply.started": "2024-12-01T13:24:33.035812Z"
    },
    "trusted": true
   },
   "outputs": [
    {
     "name": "stdout",
     "output_type": "stream",
     "text": [
      "Fwd Act Data Pkts     Tot Fwd Pkts            1.000000\n",
      "Tot Fwd Pkts          Fwd Act Data Pkts       1.000000\n",
      "Fwd Act Data Pkts     Subflow Fwd Pkts        1.000000\n",
      "Subflow Fwd Pkts      Fwd Act Data Pkts       1.000000\n",
      "Tot Fwd Pkts          Fwd Header Len          0.999998\n",
      "Fwd Header Len        Tot Fwd Pkts            0.999998\n",
      "Subflow Fwd Pkts      Fwd Header Len          0.999998\n",
      "Fwd Header Len        Subflow Fwd Pkts        0.999998\n",
      "Fwd Act Data Pkts     Fwd Header Len          0.999996\n",
      "Fwd Header Len        Fwd Act Data Pkts       0.999996\n",
      "                      Subflow Fwd Byts        0.999948\n",
      "                      TotLen Fwd Pkts         0.999948\n",
      "TotLen Fwd Pkts       Fwd Header Len          0.999948\n",
      "Subflow Fwd Byts      Fwd Header Len          0.999948\n",
      "TotLen Fwd Pkts       Tot Fwd Pkts            0.999929\n",
      "Subflow Fwd Byts      Tot Fwd Pkts            0.999929\n",
      "                      Subflow Fwd Pkts        0.999929\n",
      "Tot Fwd Pkts          TotLen Fwd Pkts         0.999929\n",
      "Subflow Fwd Pkts      TotLen Fwd Pkts         0.999929\n",
      "                      Subflow Fwd Byts        0.999929\n",
      "Tot Fwd Pkts          Subflow Fwd Byts        0.999929\n",
      "TotLen Fwd Pkts       Subflow Fwd Pkts        0.999929\n",
      "Subflow Fwd Byts      Fwd Act Data Pkts       0.999922\n",
      "Fwd Act Data Pkts     TotLen Fwd Pkts         0.999922\n",
      "                      Subflow Fwd Byts        0.999922\n",
      "TotLen Fwd Pkts       Fwd Act Data Pkts       0.999922\n",
      "Tot Bwd Pkts          Bwd Header Len          0.999654\n",
      "Subflow Bwd Pkts      Bwd Header Len          0.999654\n",
      "Bwd Header Len        Tot Bwd Pkts            0.999654\n",
      "                      Subflow Bwd Pkts        0.999654\n",
      "Fwd IAT Tot           Flow Duration           0.996931\n",
      "Flow Duration         Fwd IAT Tot             0.996931\n",
      "Pkt Size Avg          Pkt Len Mean            0.995303\n",
      "Pkt Len Mean          Pkt Size Avg            0.995303\n",
      "Fwd IAT Max           Flow IAT Max            0.992184\n",
      "Flow IAT Max          Fwd IAT Max             0.992184\n",
      "Subflow Bwd Pkts      Subflow Bwd Byts        0.988147\n",
      "Subflow Bwd Byts      Tot Bwd Pkts            0.988147\n",
      "Tot Bwd Pkts          TotLen Bwd Pkts         0.988147\n",
      "                      Subflow Bwd Byts        0.988147\n",
      "Subflow Bwd Byts      Subflow Bwd Pkts        0.988147\n",
      "TotLen Bwd Pkts       Tot Bwd Pkts            0.988147\n",
      "                      Subflow Bwd Pkts        0.988147\n",
      "Subflow Bwd Pkts      TotLen Bwd Pkts         0.988147\n",
      "Fwd IAT Min           Fwd IAT Mean            0.987745\n",
      "Fwd IAT Mean          Fwd IAT Min             0.987745\n",
      "Bwd Header Len        Subflow Bwd Byts        0.986869\n",
      "Subflow Bwd Byts      Bwd Header Len          0.986869\n",
      "TotLen Bwd Pkts       Bwd Header Len          0.986869\n",
      "Bwd Header Len        TotLen Bwd Pkts         0.986869\n",
      "Idle Mean             Idle Min                0.986295\n",
      "Idle Min              Idle Mean               0.986295\n",
      "Fwd Act Data Pkts     DDOS attack-LOIC-UDP    0.971015\n",
      "DDOS attack-LOIC-UDP  Fwd Act Data Pkts       0.971015\n",
      "Subflow Fwd Pkts      DDOS attack-LOIC-UDP    0.971012\n",
      "DDOS attack-LOIC-UDP  Subflow Fwd Pkts        0.971012\n",
      "                      Tot Fwd Pkts            0.971012\n",
      "Tot Fwd Pkts          DDOS attack-LOIC-UDP    0.971012\n",
      "Fwd Header Len        DDOS attack-LOIC-UDP    0.971000\n",
      "DDOS attack-LOIC-UDP  Fwd Header Len          0.971000\n",
      "                      Subflow Fwd Byts        0.970907\n",
      "Subflow Fwd Byts      DDOS attack-LOIC-UDP    0.970907\n",
      "TotLen Fwd Pkts       DDOS attack-LOIC-UDP    0.970907\n",
      "DDOS attack-LOIC-UDP  TotLen Fwd Pkts         0.970907\n",
      "Idle Mean             Idle Max                0.970434\n",
      "Idle Max              Idle Mean               0.970434\n",
      "Fwd Pkt Len Min       Pkt Len Min             0.965798\n",
      "Pkt Len Min           Fwd Pkt Len Min         0.965798\n",
      "Pkt Len Std           Pkt Len Max             0.965427\n",
      "Pkt Len Max           Pkt Len Std             0.965427\n",
      "Active Max            Active Mean             0.962939\n",
      "Active Mean           Active Max              0.962939\n",
      "Bwd IAT Min           Bwd IAT Mean            0.962769\n",
      "Bwd IAT Mean          Bwd IAT Min             0.962769\n",
      "Idle Max              Flow IAT Max            0.959446\n",
      "Flow IAT Max          Idle Max                0.959446\n",
      "Idle Max              Fwd IAT Max             0.952876\n",
      "Fwd IAT Max           Idle Max                0.952876\n",
      "Fwd Pkts/s            Flow Pkts/s             0.946818\n",
      "Flow Pkts/s           Fwd Pkts/s              0.946818\n",
      "Fwd Pkt Len Std       Fwd Pkt Len Max         0.946636\n",
      "Fwd Pkt Len Max       Fwd Pkt Len Std         0.946636\n",
      "Bwd Pkt Len Max       Pkt Len Max             0.945205\n",
      "Pkt Len Max           Bwd Pkt Len Max         0.945205\n",
      "Active Mean           Active Min              0.943797\n",
      "Active Min            Active Mean             0.943797\n",
      "Bwd Pkt Len Std       Bwd Pkt Len Max         0.933024\n",
      "Bwd Pkt Len Max       Bwd Pkt Len Std         0.933024\n",
      "Flow IAT Max          Idle Mean               0.931985\n",
      "Idle Mean             Flow IAT Max            0.931985\n",
      "Flow IAT Mean         Flow IAT Min            0.928098\n",
      "Flow IAT Min          Flow IAT Mean           0.928098\n",
      "Fwd IAT Max           Idle Mean               0.924119\n",
      "Idle Mean             Fwd IAT Max             0.924119\n",
      "Idle Min              Idle Max                0.917904\n",
      "Idle Max              Idle Min                0.917904\n",
      "Bwd Pkt Len Max       Pkt Len Std             0.911948\n",
      "Pkt Len Std           Bwd Pkt Len Max         0.911948\n",
      "Bwd IAT Mean          Bwd IAT Max             0.911182\n",
      "Bwd IAT Max           Bwd IAT Mean            0.911182\n",
      "Pkt Len Max           Bwd Pkt Len Std         0.909456\n",
      "Bwd Pkt Len Std       Pkt Len Max             0.909456\n",
      "Fwd IAT Mean          Flow IAT Mean           0.901826\n",
      "Flow IAT Mean         Fwd IAT Mean            0.901826\n",
      "Pkt Len Var           Bwd Seg Size Avg        0.900918\n",
      "                      Bwd Pkt Len Mean        0.900918\n",
      "Bwd Seg Size Avg      Pkt Len Var             0.900918\n",
      "Bwd Pkt Len Mean      Pkt Len Var             0.900918\n",
      "dtype: float64\n"
     ]
    }
   ],
   "source": [
    "corr_matrix = df.corr(numeric_only=True)\n",
    "corr_pairs = corr_matrix.unstack()\n",
    "threshold = 0.9\n",
    "strong_corr = corr_pairs[\n",
    "    (abs(corr_pairs) > threshold)\n",
    "    & (corr_pairs != 1)\n",
    "    & (corr_pairs.index.get_level_values(0) != corr_pairs.index.get_level_values(1))\n",
    "]\n",
    "strong_corr = strong_corr.sort_values(ascending=False)\n",
    "pd.set_option(\"display.max_rows\", None)\n",
    "\n",
    "print(strong_corr)"
   ]
  },
  {
   "cell_type": "code",
   "execution_count": 12,
   "metadata": {
    "execution": {
     "iopub.execute_input": "2024-12-01T13:24:33.319031Z",
     "iopub.status.busy": "2024-12-01T13:24:33.318656Z",
     "iopub.status.idle": "2024-12-01T13:24:33.326782Z",
     "shell.execute_reply": "2024-12-01T13:24:33.325455Z",
     "shell.execute_reply.started": "2024-12-01T13:24:33.318994Z"
    },
    "trusted": true
   },
   "outputs": [],
   "source": [
    "cols_to_drop = set()\n",
    "\n",
    "for col1, col2 in strong_corr.index:\n",
    "    if col1 not in cols_to_drop:\n",
    "        cols_to_drop.add(col2)\n",
    "\n",
    "cols_to_drop.remove('DDOS attack-LOIC-UDP')\n"
   ]
  },
  {
   "cell_type": "code",
   "execution_count": 13,
   "metadata": {
    "execution": {
     "iopub.execute_input": "2024-12-01T13:24:33.328853Z",
     "iopub.status.busy": "2024-12-01T13:24:33.328436Z",
     "iopub.status.idle": "2024-12-01T13:24:33.344063Z",
     "shell.execute_reply": "2024-12-01T13:24:33.343093Z",
     "shell.execute_reply.started": "2024-12-01T13:24:33.328797Z"
    },
    "trusted": true
   },
   "outputs": [],
   "source": [
    "df_final = df.drop(columns=cols_to_drop, axis=1)"
   ]
  },
  {
   "cell_type": "code",
   "execution_count": 14,
   "metadata": {
    "execution": {
     "iopub.execute_input": "2024-12-01T13:24:33.345708Z",
     "iopub.status.busy": "2024-12-01T13:24:33.345325Z",
     "iopub.status.idle": "2024-12-01T13:24:33.355502Z",
     "shell.execute_reply": "2024-12-01T13:24:33.354370Z",
     "shell.execute_reply.started": "2024-12-01T13:24:33.345674Z"
    },
    "trusted": true
   },
   "outputs": [
    {
     "data": {
      "text/plain": [
       "(10526, 67)"
      ]
     },
     "execution_count": 14,
     "metadata": {},
     "output_type": "execute_result"
    }
   ],
   "source": [
    "df_final.to_csv(\"model/train_data.csv\", index=False)\n",
    "df_final.shape"
   ]
  },
  {
   "cell_type": "markdown",
   "metadata": {},
   "source": [
    "## Train test split"
   ]
  },
  {
   "cell_type": "code",
   "execution_count": 15,
   "metadata": {
    "execution": {
     "iopub.execute_input": "2024-12-01T13:24:33.356985Z",
     "iopub.status.busy": "2024-12-01T13:24:33.356639Z",
     "iopub.status.idle": "2024-12-01T13:24:33.387157Z",
     "shell.execute_reply": "2024-12-01T13:24:33.386045Z",
     "shell.execute_reply.started": "2024-12-01T13:24:33.356952Z"
    },
    "trusted": true
   },
   "outputs": [
    {
     "name": "stdout",
     "output_type": "stream",
     "text": [
      "Index(['Protocol', 'Tot Bwd Pkts', 'TotLen Fwd Pkts', 'Fwd Pkt Len Min',\n",
      "       'Fwd Pkt Len Mean', 'Fwd Pkt Len Std', 'Bwd Pkt Len Min',\n",
      "       'Bwd Pkt Len Std', 'Flow Byts/s', 'Flow IAT Mean', 'Flow IAT Std',\n",
      "       'Fwd IAT Tot', 'Fwd IAT Std', 'Fwd IAT Max', 'Fwd IAT Min',\n",
      "       'Bwd IAT Tot', 'Bwd IAT Std', 'Bwd IAT Max', 'Bwd IAT Min',\n",
      "       'Fwd PSH Flags', 'Bwd PSH Flags', 'Fwd URG Flags', 'Bwd URG Flags',\n",
      "       'Fwd Pkts/s', 'Bwd Pkts/s', 'Pkt Len Std', 'Pkt Len Var',\n",
      "       'FIN Flag Cnt', 'SYN Flag Cnt', 'RST Flag Cnt', 'PSH Flag Cnt',\n",
      "       'ACK Flag Cnt', 'URG Flag Cnt', 'CWE Flag Count', 'ECE Flag Cnt',\n",
      "       'Down/Up Ratio', 'Pkt Size Avg', 'Fwd Seg Size Avg', 'Fwd Byts/b Avg',\n",
      "       'Fwd Pkts/b Avg', 'Fwd Blk Rate Avg', 'Bwd Byts/b Avg',\n",
      "       'Bwd Pkts/b Avg', 'Bwd Blk Rate Avg', 'Subflow Bwd Pkts',\n",
      "       'Init Fwd Win Byts', 'Init Bwd Win Byts', 'Fwd Seg Size Min',\n",
      "       'Active Std', 'Active Max', 'Active Min', 'Idle Std'],\n",
      "      dtype='object')\n",
      "Index(['Benign', 'Bot', 'Brute Force -Web', 'Brute Force -XSS',\n",
      "       'DDOS attack-HOIC', 'DDOS attack-LOIC-UDP', 'DoS attacks-GoldenEye',\n",
      "       'DoS attacks-Hulk', 'DoS attacks-SlowHTTPTest', 'DoS attacks-Slowloris',\n",
      "       'DoS attacks-SynFlood', 'FTP-BruteForce', 'Infilteration',\n",
      "       'SQL Injection', 'SSH-Bruteforce'],\n",
      "      dtype='object')\n",
      "(10526, 52)\n",
      "(10526, 15)\n"
     ]
    }
   ],
   "source": [
    "X = df_final.iloc[:, :-15]\n",
    "y = df_final.iloc[:, -15:]\n",
    "\n",
    "print(X.columns)\n",
    "print(y.columns)\n",
    "print(X.shape)\n",
    "print(y.shape)"
   ]
  },
  {
   "cell_type": "code",
   "execution_count": 16,
   "metadata": {
    "execution": {
     "iopub.execute_input": "2024-12-01T13:24:33.389164Z",
     "iopub.status.busy": "2024-12-01T13:24:33.388685Z",
     "iopub.status.idle": "2024-12-01T13:24:33.665803Z",
     "shell.execute_reply": "2024-12-01T13:24:33.664199Z",
     "shell.execute_reply.started": "2024-12-01T13:24:33.389115Z"
    },
    "trusted": true
   },
   "outputs": [
    {
     "name": "stdout",
     "output_type": "stream",
     "text": [
      "torch.Size([8420, 52])\n",
      "torch.Size([8420, 15])\n"
     ]
    }
   ],
   "source": [
    "# perform stratified sampling\n",
    "X_train, X_test, y_train, y_test = train_test_split(X, y, test_size=0.2, random_state=42, stratify=y)\n",
    "\n",
    "scaler = StandardScaler()\n",
    "X_train = scaler.fit_transform(X_train)\n",
    "X_test = scaler.transform(X_test)\n",
    "\n",
    "y_train = y_train.to_numpy()  # Convert to numpy\n",
    "y_test = y_test.to_numpy()    # Convert to numpy\n",
    "\n",
    "# Convert to PyTorch tensors\n",
    "X_train_tensor = torch.tensor(X_train, dtype=torch.float32)\n",
    "X_test_tensor = torch.tensor(X_test, dtype=torch.float32)\n",
    "y_train_tensor = torch.tensor(y_train, dtype=torch.float32)\n",
    "y_test_tensor = torch.tensor(y_test, dtype=torch.float32)\n",
    "\n",
    "print(X_train_tensor.shape)\n",
    "print(y_train_tensor.shape)"
   ]
  },
  {
   "cell_type": "markdown",
   "metadata": {},
   "source": [
    "# Model"
   ]
  },
  {
   "cell_type": "code",
   "execution_count": 17,
   "metadata": {
    "execution": {
     "iopub.status.busy": "2024-12-01T13:24:33.667029Z",
     "iopub.status.idle": "2024-12-01T13:24:33.667396Z",
     "shell.execute_reply": "2024-12-01T13:24:33.667242Z",
     "shell.execute_reply.started": "2024-12-01T13:24:33.667225Z"
    },
    "trusted": true
   },
   "outputs": [],
   "source": [
    "class DNN(nn.Module):\n",
    "    def __init__(self, input_dim, num_classes):\n",
    "        super(DNN, self).__init__()\n",
    "        self.fc1 = nn.Linear(input_dim, 64)\n",
    "        self.fc2 = nn.Linear(64, 32)\n",
    "        self.fc3 = nn.Linear(32, 16)\n",
    "        self.output = nn.Linear(16, num_classes)\n",
    "\n",
    "    def forward(self, x):\n",
    "        x = torch.relu(self.fc1(x))\n",
    "        x = torch.relu(self.fc2(x))\n",
    "        x = torch.relu(self.fc3(x))\n",
    "        x = torch.softmax(self.output(x), dim=1)\n",
    "        return x"
   ]
  },
  {
   "cell_type": "code",
   "execution_count": 18,
   "metadata": {
    "execution": {
     "iopub.status.busy": "2024-12-01T13:24:33.668687Z",
     "iopub.status.idle": "2024-12-01T13:24:33.669255Z",
     "shell.execute_reply": "2024-12-01T13:24:33.669007Z",
     "shell.execute_reply.started": "2024-12-01T13:24:33.668976Z"
    },
    "trusted": true
   },
   "outputs": [
    {
     "name": "stdout",
     "output_type": "stream",
     "text": [
      "DNN(\n",
      "  (fc1): Linear(in_features=52, out_features=64, bias=True)\n",
      "  (fc2): Linear(in_features=64, out_features=32, bias=True)\n",
      "  (fc3): Linear(in_features=32, out_features=16, bias=True)\n",
      "  (output): Linear(in_features=16, out_features=15, bias=True)\n",
      ")\n"
     ]
    }
   ],
   "source": [
    "input_dim = X.shape[1]\n",
    "output_dim = y.shape[1]\n",
    "model = DNN(input_dim, output_dim)\n",
    "print(model)"
   ]
  },
  {
   "cell_type": "code",
   "execution_count": 19,
   "metadata": {
    "execution": {
     "iopub.status.busy": "2024-12-01T13:24:33.670278Z",
     "iopub.status.idle": "2024-12-01T13:24:33.670826Z",
     "shell.execute_reply": "2024-12-01T13:24:33.670584Z",
     "shell.execute_reply.started": "2024-12-01T13:24:33.670557Z"
    },
    "trusted": true
   },
   "outputs": [],
   "source": [
    "loss_fn = nn.BCEWithLogitsLoss()\n",
    "\n",
    "optimizer = torch.optim.Adam(model.parameters(), lr=0.001)\n"
   ]
  },
  {
   "cell_type": "code",
   "execution_count": 20,
   "metadata": {
    "execution": {
     "iopub.status.busy": "2024-12-01T13:24:33.672559Z",
     "iopub.status.idle": "2024-12-01T13:24:33.673021Z",
     "shell.execute_reply": "2024-12-01T13:24:33.672810Z",
     "shell.execute_reply.started": "2024-12-01T13:24:33.672790Z"
    },
    "trusted": true
   },
   "outputs": [
    {
     "name": "stdout",
     "output_type": "stream",
     "text": [
      "Epoch 1/50, Loss: 185.7463\n",
      "Epoch 2/50, Loss: 182.1045\n",
      "Epoch 3/50, Loss: 181.0117\n",
      "Epoch 4/50, Loss: 180.8121\n",
      "Epoch 5/50, Loss: 180.5228\n",
      "Epoch 6/50, Loss: 180.1609\n",
      "Epoch 7/50, Loss: 180.1321\n",
      "Epoch 8/50, Loss: 180.1210\n",
      "Epoch 9/50, Loss: 180.0978\n",
      "Epoch 10/50, Loss: 179.9838\n",
      "Epoch 11/50, Loss: 179.9098\n",
      "Epoch 12/50, Loss: 179.9201\n",
      "Epoch 13/50, Loss: 179.9027\n",
      "Epoch 14/50, Loss: 179.9379\n",
      "Epoch 15/50, Loss: 179.9367\n",
      "Epoch 16/50, Loss: 179.9114\n",
      "Epoch 17/50, Loss: 179.9246\n",
      "Epoch 18/50, Loss: 179.8934\n",
      "Epoch 19/50, Loss: 179.8802\n",
      "Epoch 20/50, Loss: 179.7183\n",
      "Epoch 21/50, Loss: 179.4227\n",
      "Epoch 22/50, Loss: 179.2665\n",
      "Epoch 23/50, Loss: 179.3025\n",
      "Epoch 24/50, Loss: 179.2732\n",
      "Epoch 25/50, Loss: 179.2573\n",
      "Epoch 26/50, Loss: 179.2857\n",
      "Epoch 27/50, Loss: 179.2367\n",
      "Epoch 28/50, Loss: 179.2447\n",
      "Epoch 29/50, Loss: 179.2950\n",
      "Epoch 30/50, Loss: 179.3099\n",
      "Epoch 31/50, Loss: 179.2674\n",
      "Epoch 32/50, Loss: 179.2393\n",
      "Epoch 33/50, Loss: 179.2543\n",
      "Epoch 34/50, Loss: 179.2339\n",
      "Epoch 35/50, Loss: 179.2293\n",
      "Epoch 36/50, Loss: 179.2970\n",
      "Epoch 37/50, Loss: 179.2746\n",
      "Epoch 38/50, Loss: 179.2878\n",
      "Epoch 39/50, Loss: 179.2949\n",
      "Epoch 40/50, Loss: 179.2491\n",
      "Epoch 41/50, Loss: 179.2557\n",
      "Epoch 42/50, Loss: 179.2577\n",
      "Epoch 43/50, Loss: 179.2690\n",
      "Epoch 44/50, Loss: 179.3029\n",
      "Epoch 45/50, Loss: 179.2707\n",
      "Epoch 46/50, Loss: 179.2467\n",
      "Epoch 47/50, Loss: 179.2837\n",
      "Epoch 48/50, Loss: 179.2707\n",
      "Epoch 49/50, Loss: 179.2871\n",
      "Epoch 50/50, Loss: 179.2866\n"
     ]
    }
   ],
   "source": [
    "epochs = 50\n",
    "batch_size = 32\n",
    "\n",
    "train_data = torch.utils.data.TensorDataset(X_train_tensor, y_train_tensor)\n",
    "train_loader = torch.utils.data.DataLoader(train_data, batch_size=batch_size, shuffle=True)\n",
    "\n",
    "\n",
    "\n",
    "for epoch in range(epochs):\n",
    "    model.train()\n",
    "    epoch_loss = 0\n",
    "    \n",
    "    for batch_X, batch_y in train_loader:\n",
    "        # print(\"batch_y\", batch_y)\n",
    "        optimizer.zero_grad()\n",
    "        predictions = model(batch_X)\n",
    "        # print(\"predictions\", predictions.shape)\n",
    "        loss = loss_fn(predictions, batch_y)\n",
    "        loss.backward()\n",
    "        optimizer.step()\n",
    "        \n",
    "        epoch_loss += loss.item()\n",
    "    \n",
    "        # print(predictions)\n",
    "        # print(batch_y)\n",
    "    print(f\"Epoch {epoch+1}/{epochs}, Loss: {epoch_loss:.4f}\")\n"
   ]
  },
  {
   "cell_type": "code",
   "execution_count": 21,
   "metadata": {
    "execution": {
     "iopub.status.busy": "2024-12-01T13:24:33.674737Z",
     "iopub.status.idle": "2024-12-01T13:24:33.675141Z",
     "shell.execute_reply": "2024-12-01T13:24:33.674978Z",
     "shell.execute_reply.started": "2024-12-01T13:24:33.674960Z"
    },
    "trusted": true
   },
   "outputs": [
    {
     "name": "stdout",
     "output_type": "stream",
     "text": [
      "tensor([[5.9222e-05, 9.5372e-10, 3.1364e-06,  ..., 1.7159e-10, 1.6697e-11,\n",
      "         5.9233e-06],\n",
      "        [8.1892e-10, 8.4952e-12, 3.5194e-13,  ..., 4.7144e-12, 2.2055e-12,\n",
      "         8.5963e-07],\n",
      "        [1.0000e+00, 1.6690e-31, 1.3440e-37,  ..., 1.9411e-28, 4.5656e-34,\n",
      "         2.2108e-20],\n",
      "        ...,\n",
      "        [1.0000e+00, 6.6337e-42, 0.0000e+00,  ..., 5.2076e-38, 0.0000e+00,\n",
      "         5.8425e-18],\n",
      "        [1.0000e+00, 1.0446e-40, 0.0000e+00,  ..., 1.6354e-36, 7.9874e-44,\n",
      "         1.5123e-25],\n",
      "        [1.0000e+00, 1.7399e-26, 4.6923e-31,  ..., 8.2437e-24, 4.2021e-28,\n",
      "         4.7836e-17]])\n",
      "Test Accuracy: 0.9777\n",
      "tensor([4, 7, 0,  ..., 0, 0, 0])\n",
      "{0: 1267, 2: 27, 4: 80, 5: 59, 6: 185, 7: 75, 8: 101, 9: 155, 10: 54, 11: 33, 14: 70}\n"
     ]
    }
   ],
   "source": [
    "model.eval()\n",
    "with torch.no_grad():\n",
    "    test_predictions = model(X_test_tensor)\n",
    "    print(test_predictions)\n",
    "    test_predictions = (test_predictions >= 0.5).float()\n",
    "\n",
    "    correct_per_sample = test_predictions.eq(y_test_tensor).sum(dim=1) \n",
    "    total_labels_per_sample = y_test_tensor.size(1)\n",
    "    accuracy_per_sample = correct_per_sample / total_labels_per_sample\n",
    "    accuracy = accuracy_per_sample.mean().item()\n",
    "    \n",
    "    print(f\"Test Accuracy: {accuracy:.4f}\")\n",
    "    \n",
    "# print(probabilities)\n",
    "class_idx = torch.argmax(test_predictions, dim=1)\n",
    "print(class_idx)\n",
    "\n",
    "unique_classes, counts = torch.unique(class_idx, return_counts=True)\n",
    "value_counts = {int(cls): int(count) for cls, count in zip(unique_classes, counts)}\n",
    "print(value_counts)\n",
    "\n"
   ]
  },
  {
   "cell_type": "code",
   "execution_count": 22,
   "metadata": {},
   "outputs": [
    {
     "name": "stdout",
     "output_type": "stream",
     "text": [
      "Precision: [0.76479874 0.         0.92592593 0.         1.         1.\n",
      " 0.97297297 0.98666667 0.59405941 0.98709677 1.         0.90909091\n",
      " 0.         0.         1.        ]\n",
      "Recall: [0.99181167 0.         0.20491803 0.         1.         0.98333333\n",
      " 1.         0.925      1.         0.99350649 1.         0.42857143\n",
      " 0.         0.         1.        ]\n",
      "F1 Score: [0.86363636 0.         0.33557047 0.         1.         0.99159664\n",
      " 0.98630137 0.95483871 0.74534161 0.99029126 1.         0.58252427\n",
      " 0.         0.         1.        ]\n",
      "F2 Score: [0.936231884057971, nan, 0.24271844660194175, nan, 1.0, 0.9866220735785952, 0.994475138121547, 0.9367088607594937, 0.8797653958944281, 0.9922178988326847, 1.0, 0.47923322683706066, nan, nan, 1.0]\n"
     ]
    },
    {
     "name": "stderr",
     "output_type": "stream",
     "text": [
      "c:\\Users\\duong\\AppData\\Local\\Programs\\Python\\Python311\\Lib\\site-packages\\sklearn\\metrics\\_classification.py:1471: UndefinedMetricWarning: Precision is ill-defined and being set to 0.0 in labels with no predicted samples. Use `zero_division` parameter to control this behavior.\n",
      "  _warn_prf(average, modifier, msg_start, len(result))\n",
      "C:\\Users\\duong\\AppData\\Local\\Temp\\ipykernel_9212\\3731498122.py:14: RuntimeWarning: invalid value encountered in scalar divide\n",
      "  (1 + beta ** 2) * (p * r) / ((beta ** 2 * p) + r)\n"
     ]
    }
   ],
   "source": [
    "from sklearn.metrics import precision_score, recall_score, f1_score\n",
    "\n",
    "# Giả định `test_predictions` và `y_test_tensor` đã được định nghĩa\n",
    "test_predictions = (test_predictions >= 0.5).float()\n",
    "\n",
    "# Precision, Recall và F1 tính cho từng lớp\n",
    "precision = precision_score(y_test_tensor.numpy(), test_predictions.numpy(), average=None)\n",
    "recall = recall_score(y_test_tensor.numpy(), test_predictions.numpy(), average=None)\n",
    "f1 = f1_score(y_test_tensor.numpy(), test_predictions.numpy(), average=None)\n",
    "\n",
    "# F2 score\n",
    "beta = 2\n",
    "f2 = [\n",
    "    (1 + beta ** 2) * (p * r) / ((beta ** 2 * p) + r)\n",
    "    for p, r in zip(precision, recall)\n",
    "]\n",
    "\n",
    "# In kết quả\n",
    "print(\"Precision:\", precision)\n",
    "print(\"Recall:\", recall)\n",
    "print(\"F1 Score:\", f1)\n",
    "print(\"F2 Score:\", f2)\n"
   ]
  },
  {
   "cell_type": "code",
   "execution_count": 23,
   "metadata": {},
   "outputs": [
    {
     "name": "stdout",
     "output_type": "stream",
     "text": [
      "{1: 'benign', 2: 'bot', 3: 'brute force -web', 4: 'brute force -xss', 5: 'ddos attack-hoic', 6: 'ddos attack-loic-udp', 7: 'dos attacks-goldeneye', 8: 'dos attacks-hulk', 9: 'dos attacks-slowhttptest', 10: 'dos attacks-slowloris', 11: 'dos attacks-synflood', 12: 'ftp-bruteforce', 13: 'infilteration', 14: 'sql injection', 15: 'ssh-bruteforce'}\n"
     ]
    }
   ],
   "source": [
    "class_labels = ['Benign', 'Bot', 'Brute Force -Web', 'Brute Force -XSS',\n",
    "       'DDOS attack-HOIC', 'DDOS attack-LOIC-UDP', 'DoS attacks-GoldenEye',\n",
    "       'DoS attacks-Hulk', 'DoS attacks-SlowHTTPTest', 'DoS attacks-Slowloris','DoS attacks-SynFlood',\n",
    "       'FTP-BruteForce', 'Infilteration', 'SQL Injection', 'SSH-Bruteforce']\n",
    "\n",
    "# Create mapper\n",
    "mapper = {index + 1: label.lower() for index, label in enumerate(class_labels)}\n",
    "print(mapper)\n"
   ]
  },
  {
   "cell_type": "code",
   "execution_count": 24,
   "metadata": {},
   "outputs": [
    {
     "name": "stdout",
     "output_type": "stream",
     "text": [
      "['ddos attack-hoic', 'dos attacks-hulk', 'benign', 'benign', 'benign', 'dos attacks-goldeneye', 'ssh-bruteforce', 'benign', 'benign', 'ssh-bruteforce', 'benign', 'benign', 'dos attacks-slowhttptest', 'benign', 'benign', 'benign', 'ddos attack-hoic', 'ddos attack-loic-udp', 'benign', 'ssh-bruteforce', 'benign', 'benign', 'dos attacks-slowloris', 'benign', 'dos attacks-slowhttptest', 'dos attacks-goldeneye', 'dos attacks-goldeneye', 'benign', 'benign', 'benign', 'benign', 'dos attacks-slowhttptest', 'benign', 'dos attacks-goldeneye', 'ddos attack-hoic', 'benign', 'dos attacks-slowloris', 'benign', 'benign', 'benign', 'benign', 'benign', 'benign', 'benign', 'benign', 'benign', 'benign', 'benign', 'benign', 'dos attacks-slowloris', 'ddos attack-hoic', 'benign', 'benign', 'benign', 'benign', 'ddos attack-loic-udp', 'dos attacks-slowhttptest', 'benign', 'dos attacks-slowloris', 'dos attacks-slowloris', 'brute force -web', 'benign', 'ddos attack-hoic', 'benign', 'benign', 'dos attacks-hulk', 'ssh-bruteforce', 'benign', 'benign', 'ftp-bruteforce', 'benign', 'benign', 'benign', 'benign', 'dos attacks-slowhttptest', 'benign', 'brute force -web', 'benign', 'benign', 'benign', 'dos attacks-goldeneye', 'benign', 'ssh-bruteforce', 'dos attacks-slowloris', 'benign', 'dos attacks-slowloris', 'benign', 'benign', 'benign', 'benign', 'dos attacks-hulk', 'dos attacks-slowloris', 'benign', 'benign', 'benign', 'dos attacks-goldeneye', 'benign', 'benign', 'ssh-bruteforce', 'ddos attack-hoic', 'benign', 'benign', 'benign', 'dos attacks-slowhttptest', 'ftp-bruteforce', 'ftp-bruteforce', 'dos attacks-goldeneye', 'dos attacks-slowloris', 'benign', 'benign', 'ftp-bruteforce', 'benign', 'benign', 'dos attacks-goldeneye', 'benign', 'benign', 'benign', 'benign', 'benign', 'benign', 'dos attacks-hulk', 'dos attacks-slowhttptest', 'dos attacks-goldeneye', 'benign', 'benign', 'benign', 'benign', 'benign', 'dos attacks-goldeneye', 'dos attacks-goldeneye', 'ddos attack-hoic', 'benign', 'benign', 'benign', 'dos attacks-goldeneye', 'ssh-bruteforce', 'dos attacks-synflood', 'benign', 'benign', 'dos attacks-goldeneye', 'benign', 'benign', 'dos attacks-hulk', 'benign', 'dos attacks-goldeneye', 'dos attacks-slowloris', 'benign', 'benign', 'dos attacks-slowloris', 'benign', 'benign', 'dos attacks-slowloris', 'ddos attack-loic-udp', 'benign', 'dos attacks-goldeneye', 'benign', 'benign', 'benign', 'ddos attack-hoic', 'dos attacks-slowloris', 'dos attacks-goldeneye', 'dos attacks-goldeneye', 'ssh-bruteforce', 'benign', 'benign', 'ddos attack-loic-udp', 'benign', 'benign', 'dos attacks-goldeneye', 'benign', 'benign', 'benign', 'benign', 'benign', 'benign', 'ddos attack-loic-udp', 'benign', 'benign', 'benign', 'benign', 'dos attacks-slowloris', 'dos attacks-slowhttptest', 'benign', 'benign', 'dos attacks-goldeneye', 'dos attacks-goldeneye', 'benign', 'benign', 'benign', 'benign', 'benign', 'ddos attack-hoic', 'benign', 'benign', 'benign', 'benign', 'benign', 'benign', 'benign', 'benign', 'ssh-bruteforce', 'ftp-bruteforce', 'benign', 'benign', 'ftp-bruteforce', 'benign', 'dos attacks-goldeneye', 'benign', 'benign', 'benign', 'ftp-bruteforce', 'benign', 'dos attacks-slowloris', 'benign', 'benign', 'benign', 'ssh-bruteforce', 'benign', 'benign', 'benign', 'benign', 'benign', 'benign', 'benign', 'benign', 'dos attacks-synflood', 'benign', 'benign', 'benign', 'benign', 'benign', 'dos attacks-hulk', 'benign', 'benign', 'benign', 'benign', 'brute force -web', 'benign', 'benign', 'benign', 'brute force -web', 'ssh-bruteforce', 'dos attacks-goldeneye', 'dos attacks-slowloris', 'dos attacks-goldeneye', 'benign', 'dos attacks-goldeneye', 'dos attacks-slowloris', 'dos attacks-slowloris', 'ssh-bruteforce', 'dos attacks-slowloris', 'dos attacks-hulk', 'benign', 'brute force -web', 'benign', 'benign', 'benign', 'dos attacks-slowhttptest', 'dos attacks-slowloris', 'benign', 'dos attacks-hulk', 'ssh-bruteforce', 'dos attacks-slowhttptest', 'ssh-bruteforce', 'benign', 'benign', 'benign', 'benign', 'benign', 'ddos attack-hoic', 'benign', 'benign', 'dos attacks-slowhttptest', 'benign', 'dos attacks-goldeneye', 'benign', 'benign', 'dos attacks-hulk', 'ddos attack-loic-udp', 'dos attacks-goldeneye', 'benign', 'benign', 'dos attacks-goldeneye', 'dos attacks-goldeneye', 'benign', 'ftp-bruteforce', 'benign', 'dos attacks-slowloris', 'dos attacks-goldeneye', 'benign', 'dos attacks-slowhttptest', 'benign', 'benign', 'benign', 'benign', 'benign', 'dos attacks-hulk', 'benign', 'benign', 'dos attacks-goldeneye', 'dos attacks-goldeneye', 'benign', 'dos attacks-hulk', 'benign', 'dos attacks-slowhttptest', 'ddos attack-hoic', 'ddos attack-hoic', 'benign', 'benign', 'benign', 'benign', 'benign', 'dos attacks-hulk', 'benign', 'benign', 'ddos attack-hoic', 'benign', 'benign', 'dos attacks-goldeneye', 'dos attacks-goldeneye', 'dos attacks-slowloris', 'dos attacks-slowhttptest', 'benign', 'benign', 'benign', 'ddos attack-hoic', 'benign', 'dos attacks-hulk', 'benign', 'ddos attack-hoic', 'dos attacks-slowloris', 'dos attacks-slowloris', 'brute force -web', 'dos attacks-synflood', 'benign', 'benign', 'dos attacks-hulk', 'benign', 'dos attacks-slowloris', 'benign', 'benign', 'dos attacks-hulk', 'benign', 'benign', 'dos attacks-hulk', 'benign', 'dos attacks-slowloris', 'benign', 'dos attacks-slowloris', 'benign', 'benign', 'benign', 'dos attacks-synflood', 'benign', 'benign', 'dos attacks-slowhttptest', 'dos attacks-slowloris', 'benign', 'dos attacks-slowloris', 'benign', 'dos attacks-synflood', 'benign', 'dos attacks-slowloris', 'benign', 'dos attacks-goldeneye', 'benign', 'benign', 'benign', 'benign', 'benign', 'benign', 'dos attacks-slowhttptest', 'benign', 'dos attacks-hulk', 'ddos attack-hoic', 'benign', 'benign', 'benign', 'benign', 'benign', 'benign', 'benign', 'benign', 'benign', 'benign', 'benign', 'benign', 'ssh-bruteforce', 'dos attacks-goldeneye', 'benign', 'benign', 'dos attacks-slowloris', 'dos attacks-slowhttptest', 'benign', 'ftp-bruteforce', 'ddos attack-loic-udp', 'benign', 'benign', 'benign', 'benign', 'benign', 'benign', 'ddos attack-hoic', 'dos attacks-synflood', 'benign', 'benign', 'benign', 'benign', 'ftp-bruteforce', 'ftp-bruteforce', 'ddos attack-hoic', 'benign', 'dos attacks-slowloris', 'benign', 'benign', 'benign', 'dos attacks-goldeneye', 'ddos attack-loic-udp', 'benign', 'dos attacks-hulk', 'benign', 'benign', 'benign', 'benign', 'benign', 'ddos attack-loic-udp', 'ddos attack-loic-udp', 'benign', 'dos attacks-hulk', 'benign', 'benign', 'ssh-bruteforce', 'dos attacks-goldeneye', 'benign', 'ddos attack-hoic', 'benign', 'benign', 'dos attacks-hulk', 'benign', 'ssh-bruteforce', 'dos attacks-slowloris', 'dos attacks-slowhttptest', 'benign', 'benign', 'benign', 'benign', 'benign', 'benign', 'benign', 'benign', 'ddos attack-hoic', 'dos attacks-slowloris', 'benign', 'benign', 'benign', 'ssh-bruteforce', 'dos attacks-slowloris', 'benign', 'dos attacks-goldeneye', 'benign', 'ftp-bruteforce', 'benign', 'brute force -web', 'dos attacks-hulk', 'benign', 'benign', 'dos attacks-goldeneye', 'dos attacks-slowhttptest', 'dos attacks-slowloris', 'benign', 'benign', 'benign', 'benign', 'dos attacks-slowhttptest', 'benign', 'ddos attack-hoic', 'benign', 'benign', 'ssh-bruteforce', 'benign', 'benign', 'benign', 'benign', 'benign', 'benign', 'ddos attack-loic-udp', 'benign', 'dos attacks-hulk', 'benign', 'benign', 'dos attacks-synflood', 'benign', 'benign', 'benign', 'dos attacks-slowloris', 'dos attacks-slowloris', 'benign', 'benign', 'brute force -web', 'benign', 'ddos attack-loic-udp', 'benign', 'benign', 'benign', 'benign', 'ssh-bruteforce', 'benign', 'benign', 'benign', 'benign', 'benign', 'benign', 'ddos attack-hoic', 'benign', 'benign', 'dos attacks-slowloris', 'ddos attack-loic-udp', 'ddos attack-hoic', 'benign', 'benign', 'benign', 'benign', 'benign', 'ddos attack-hoic', 'ddos attack-hoic', 'benign', 'ssh-bruteforce', 'benign', 'ddos attack-loic-udp', 'dos attacks-slowhttptest', 'benign', 'benign', 'ddos attack-loic-udp', 'benign', 'dos attacks-slowloris', 'dos attacks-goldeneye', 'benign', 'benign', 'dos attacks-slowhttptest', 'ddos attack-hoic', 'benign', 'benign', 'dos attacks-slowloris', 'dos attacks-slowloris', 'benign', 'benign', 'benign', 'dos attacks-slowhttptest', 'benign', 'benign', 'benign', 'benign', 'ddos attack-loic-udp', 'benign', 'benign', 'benign', 'benign', 'benign', 'benign', 'benign', 'benign', 'benign', 'dos attacks-synflood', 'benign', 'benign', 'dos attacks-slowhttptest', 'dos attacks-slowhttptest', 'dos attacks-goldeneye', 'dos attacks-slowloris', 'benign', 'benign', 'dos attacks-slowloris', 'dos attacks-slowloris', 'benign', 'dos attacks-goldeneye', 'benign', 'dos attacks-synflood', 'benign', 'benign', 'ddos attack-hoic', 'dos attacks-goldeneye', 'benign', 'benign', 'benign', 'benign', 'benign', 'benign', 'benign', 'dos attacks-hulk', 'dos attacks-goldeneye', 'ddos attack-loic-udp', 'ssh-bruteforce', 'benign', 'dos attacks-slowhttptest', 'benign', 'benign', 'benign', 'benign', 'benign', 'dos attacks-slowloris', 'benign', 'benign', 'dos attacks-goldeneye', 'benign', 'benign', 'benign', 'benign', 'benign', 'dos attacks-slowhttptest', 'benign', 'ddos attack-loic-udp', 'dos attacks-slowloris', 'benign', 'ftp-bruteforce', 'benign', 'benign', 'benign', 'benign', 'ftp-bruteforce', 'benign', 'dos attacks-slowhttptest', 'ssh-bruteforce', 'dos attacks-synflood', 'benign', 'benign', 'dos attacks-goldeneye', 'dos attacks-slowhttptest', 'benign', 'benign', 'ddos attack-loic-udp', 'ddos attack-hoic', 'benign', 'brute force -web', 'benign', 'benign', 'dos attacks-hulk', 'benign', 'benign', 'ddos attack-hoic', 'benign', 'benign', 'dos attacks-slowloris', 'benign', 'ddos attack-hoic', 'dos attacks-goldeneye', 'ddos attack-hoic', 'dos attacks-goldeneye', 'benign', 'benign', 'benign', 'benign', 'benign', 'benign', 'benign', 'benign', 'dos attacks-goldeneye', 'ddos attack-loic-udp', 'ddos attack-loic-udp', 'benign', 'benign', 'benign', 'dos attacks-slowloris', 'benign', 'ssh-bruteforce', 'benign', 'benign', 'benign', 'benign', 'ssh-bruteforce', 'ddos attack-hoic', 'dos attacks-goldeneye', 'benign', 'benign', 'dos attacks-slowhttptest', 'benign', 'benign', 'benign', 'ddos attack-hoic', 'dos attacks-goldeneye', 'ssh-bruteforce', 'benign', 'dos attacks-hulk', 'benign', 'benign', 'ddos attack-hoic', 'benign', 'benign', 'benign', 'benign', 'benign', 'benign', 'benign', 'benign', 'benign', 'benign', 'benign', 'dos attacks-goldeneye', 'dos attacks-synflood', 'dos attacks-slowhttptest', 'brute force -web', 'ssh-bruteforce', 'benign', 'ftp-bruteforce', 'benign', 'dos attacks-synflood', 'dos attacks-slowloris', 'benign', 'benign', 'benign', 'dos attacks-slowloris', 'benign', 'benign', 'dos attacks-slowloris', 'benign', 'dos attacks-slowhttptest', 'benign', 'ddos attack-hoic', 'benign', 'benign', 'ddos attack-hoic', 'benign', 'benign', 'benign', 'benign', 'benign', 'dos attacks-synflood', 'benign', 'dos attacks-slowloris', 'benign', 'benign', 'benign', 'ddos attack-hoic', 'dos attacks-hulk', 'benign', 'brute force -web', 'benign', 'dos attacks-hulk', 'benign', 'benign', 'dos attacks-goldeneye', 'benign', 'benign', 'benign', 'benign', 'dos attacks-slowhttptest', 'dos attacks-slowloris', 'dos attacks-slowloris', 'benign', 'dos attacks-slowhttptest', 'benign', 'dos attacks-slowhttptest', 'benign', 'benign', 'benign', 'benign', 'benign', 'benign', 'ddos attack-loic-udp', 'ssh-bruteforce', 'benign', 'dos attacks-slowhttptest', 'dos attacks-hulk', 'benign', 'benign', 'benign', 'benign', 'benign', 'benign', 'dos attacks-goldeneye', 'benign', 'ftp-bruteforce', 'benign', 'dos attacks-slowhttptest', 'dos attacks-slowloris', 'benign', 'dos attacks-goldeneye', 'benign', 'benign', 'dos attacks-hulk', 'benign', 'dos attacks-goldeneye', 'benign', 'benign', 'benign', 'benign', 'ssh-bruteforce', 'dos attacks-hulk', 'benign', 'benign', 'benign', 'benign', 'dos attacks-goldeneye', 'ftp-bruteforce', 'benign', 'dos attacks-slowloris', 'benign', 'benign', 'dos attacks-slowloris', 'benign', 'benign', 'ddos attack-hoic', 'benign', 'benign', 'benign', 'dos attacks-slowloris', 'benign', 'benign', 'benign', 'benign', 'ssh-bruteforce', 'benign', 'dos attacks-goldeneye', 'benign', 'benign', 'benign', 'ssh-bruteforce', 'dos attacks-slowhttptest', 'ssh-bruteforce', 'benign', 'benign', 'benign', 'dos attacks-goldeneye', 'benign', 'benign', 'benign', 'dos attacks-goldeneye', 'benign', 'dos attacks-goldeneye', 'benign', 'ddos attack-loic-udp', 'benign', 'benign', 'dos attacks-hulk', 'benign', 'benign', 'benign', 'dos attacks-hulk', 'benign', 'benign', 'benign', 'dos attacks-slowhttptest', 'dos attacks-goldeneye', 'benign', 'benign', 'benign', 'dos attacks-slowhttptest', 'benign', 'dos attacks-slowloris', 'dos attacks-slowloris', 'dos attacks-slowloris', 'ftp-bruteforce', 'dos attacks-synflood', 'benign', 'benign', 'ddos attack-loic-udp', 'benign', 'dos attacks-slowhttptest', 'benign', 'benign', 'brute force -web', 'benign', 'benign', 'dos attacks-synflood', 'ddos attack-hoic', 'benign', 'dos attacks-slowloris', 'dos attacks-slowloris', 'benign', 'benign', 'benign', 'benign', 'benign', 'benign', 'benign', 'benign', 'dos attacks-goldeneye', 'ftp-bruteforce', 'ssh-bruteforce', 'benign', 'benign', 'benign', 'dos attacks-goldeneye', 'ddos attack-hoic', 'benign', 'benign', 'benign', 'benign', 'dos attacks-goldeneye', 'benign', 'ddos attack-hoic', 'benign', 'benign', 'benign', 'benign', 'benign', 'dos attacks-goldeneye', 'benign', 'dos attacks-goldeneye', 'benign', 'benign', 'brute force -web', 'benign', 'benign', 'dos attacks-goldeneye', 'dos attacks-goldeneye', 'dos attacks-goldeneye', 'benign', 'benign', 'benign', 'benign', 'benign', 'benign', 'benign', 'dos attacks-goldeneye', 'benign', 'dos attacks-slowloris', 'benign', 'ddos attack-loic-udp', 'benign', 'dos attacks-slowhttptest', 'ssh-bruteforce', 'benign', 'benign', 'dos attacks-slowhttptest', 'benign', 'benign', 'benign', 'benign', 'benign', 'ftp-bruteforce', 'benign', 'benign', 'benign', 'benign', 'benign', 'dos attacks-slowhttptest', 'benign', 'benign', 'dos attacks-goldeneye', 'dos attacks-slowloris', 'benign', 'ddos attack-hoic', 'benign', 'dos attacks-goldeneye', 'dos attacks-slowloris', 'dos attacks-slowloris', 'benign', 'dos attacks-slowloris', 'benign', 'benign', 'benign', 'benign', 'ddos attack-hoic', 'dos attacks-goldeneye', 'benign', 'benign', 'dos attacks-slowloris', 'benign', 'dos attacks-slowhttptest', 'dos attacks-goldeneye', 'benign', 'benign', 'dos attacks-goldeneye', 'benign', 'benign', 'benign', 'benign', 'dos attacks-slowhttptest', 'dos attacks-slowloris', 'dos attacks-hulk', 'dos attacks-goldeneye', 'benign', 'dos attacks-goldeneye', 'benign', 'benign', 'benign', 'dos attacks-hulk', 'benign', 'ddos attack-loic-udp', 'benign', 'benign', 'benign', 'benign', 'benign', 'benign', 'dos attacks-goldeneye', 'dos attacks-slowloris', 'benign', 'benign', 'benign', 'dos attacks-slowloris', 'ddos attack-hoic', 'dos attacks-synflood', 'dos attacks-goldeneye', 'benign', 'benign', 'ddos attack-loic-udp', 'benign', 'benign', 'benign', 'benign', 'benign', 'benign', 'benign', 'benign', 'benign', 'benign', 'dos attacks-goldeneye', 'ssh-bruteforce', 'benign', 'dos attacks-synflood', 'benign', 'benign', 'dos attacks-slowloris', 'benign', 'benign', 'benign', 'benign', 'dos attacks-synflood', 'dos attacks-slowloris', 'dos attacks-slowhttptest', 'benign', 'dos attacks-slowloris', 'benign', 'dos attacks-slowloris', 'benign', 'benign', 'benign', 'benign', 'benign', 'dos attacks-goldeneye', 'dos attacks-slowhttptest', 'benign', 'dos attacks-goldeneye', 'dos attacks-slowhttptest', 'dos attacks-synflood', 'benign', 'benign', 'benign', 'dos attacks-goldeneye', 'benign', 'benign', 'ddos attack-loic-udp', 'dos attacks-slowhttptest', 'benign', 'benign', 'dos attacks-slowhttptest', 'dos attacks-synflood', 'benign', 'benign', 'benign', 'dos attacks-goldeneye', 'brute force -web', 'benign', 'benign', 'benign', 'ftp-bruteforce', 'benign', 'benign', 'benign', 'dos attacks-hulk', 'benign', 'ssh-bruteforce', 'benign', 'ssh-bruteforce', 'dos attacks-goldeneye', 'benign', 'benign', 'dos attacks-slowloris', 'ssh-bruteforce', 'benign', 'benign', 'benign', 'benign', 'ddos attack-loic-udp', 'dos attacks-goldeneye', 'benign', 'benign', 'benign', 'benign', 'benign', 'benign', 'benign', 'dos attacks-hulk', 'dos attacks-slowloris', 'benign', 'benign', 'benign', 'dos attacks-goldeneye', 'benign', 'benign', 'dos attacks-synflood', 'benign', 'dos attacks-hulk', 'benign', 'dos attacks-synflood', 'benign', 'dos attacks-goldeneye', 'benign', 'dos attacks-goldeneye', 'benign', 'benign', 'dos attacks-slowloris', 'benign', 'benign', 'dos attacks-goldeneye', 'dos attacks-synflood', 'dos attacks-hulk', 'dos attacks-hulk', 'benign', 'dos attacks-goldeneye', 'ssh-bruteforce', 'ssh-bruteforce', 'benign', 'dos attacks-goldeneye', 'benign', 'benign', 'benign', 'benign', 'benign', 'benign', 'dos attacks-goldeneye', 'benign', 'benign', 'dos attacks-goldeneye', 'benign', 'dos attacks-slowloris', 'benign', 'benign', 'benign', 'benign', 'benign', 'benign', 'dos attacks-slowhttptest', 'dos attacks-hulk', 'dos attacks-slowhttptest', 'benign', 'benign', 'benign', 'benign', 'benign', 'dos attacks-slowloris', 'benign', 'benign', 'benign', 'benign', 'dos attacks-goldeneye', 'dos attacks-goldeneye', 'dos attacks-slowloris', 'benign', 'ddos attack-hoic', 'benign', 'dos attacks-slowloris', 'benign', 'ftp-bruteforce', 'benign', 'ddos attack-hoic', 'dos attacks-synflood', 'benign', 'dos attacks-slowhttptest', 'benign', 'benign', 'dos attacks-slowloris', 'benign', 'benign', 'benign', 'benign', 'benign', 'dos attacks-goldeneye', 'benign', 'ddos attack-hoic', 'benign', 'dos attacks-slowloris', 'benign', 'benign', 'dos attacks-synflood', 'benign', 'benign', 'ddos attack-loic-udp', 'benign', 'dos attacks-synflood', 'dos attacks-goldeneye', 'dos attacks-slowloris', 'dos attacks-goldeneye', 'benign', 'dos attacks-slowloris', 'benign', 'benign', 'benign', 'benign', 'dos attacks-slowloris', 'benign', 'ssh-bruteforce', 'benign', 'dos attacks-hulk', 'ddos attack-hoic', 'benign', 'dos attacks-hulk', 'benign', 'dos attacks-goldeneye', 'benign', 'dos attacks-goldeneye', 'dos attacks-slowhttptest', 'dos attacks-goldeneye', 'benign', 'benign', 'dos attacks-hulk', 'benign', 'dos attacks-goldeneye', 'dos attacks-slowhttptest', 'benign', 'benign', 'benign', 'benign', 'benign', 'dos attacks-goldeneye', 'dos attacks-slowhttptest', 'benign', 'dos attacks-slowhttptest', 'ftp-bruteforce', 'dos attacks-goldeneye', 'benign', 'benign', 'benign', 'dos attacks-slowhttptest', 'ssh-bruteforce', 'ddos attack-loic-udp', 'benign', 'benign', 'benign', 'ddos attack-loic-udp', 'ssh-bruteforce', 'benign', 'benign', 'dos attacks-goldeneye', 'benign', 'dos attacks-synflood', 'benign', 'benign', 'benign', 'ddos attack-hoic', 'benign', 'benign', 'benign', 'benign', 'dos attacks-goldeneye', 'dos attacks-hulk', 'benign', 'benign', 'benign', 'benign', 'benign', 'benign', 'benign', 'benign', 'benign', 'dos attacks-slowloris', 'dos attacks-slowhttptest', 'benign', 'benign', 'benign', 'dos attacks-goldeneye', 'benign', 'dos attacks-slowhttptest', 'ddos attack-hoic', 'ddos attack-hoic', 'dos attacks-slowhttptest', 'ddos attack-hoic', 'benign', 'benign', 'dos attacks-hulk', 'benign', 'benign', 'dos attacks-slowhttptest', 'benign', 'benign', 'benign', 'benign', 'dos attacks-hulk', 'benign', 'benign', 'ddos attack-loic-udp', 'dos attacks-goldeneye', 'ddos attack-loic-udp', 'benign', 'benign', 'benign', 'benign', 'benign', 'benign', 'dos attacks-goldeneye', 'benign', 'benign', 'benign', 'dos attacks-slowhttptest', 'benign', 'dos attacks-goldeneye', 'benign', 'benign', 'dos attacks-synflood', 'ssh-bruteforce', 'benign', 'dos attacks-goldeneye', 'dos attacks-slowloris', 'benign', 'benign', 'brute force -web', 'dos attacks-goldeneye', 'benign', 'benign', 'dos attacks-slowloris', 'benign', 'dos attacks-goldeneye', 'benign', 'benign', 'benign', 'benign', 'benign', 'brute force -web', 'dos attacks-goldeneye', 'benign', 'benign', 'benign', 'benign', 'dos attacks-slowhttptest', 'dos attacks-slowloris', 'dos attacks-goldeneye', 'benign', 'benign', 'dos attacks-slowhttptest', 'benign', 'benign', 'benign', 'dos attacks-slowloris', 'ftp-bruteforce', 'dos attacks-hulk', 'benign', 'dos attacks-slowloris', 'benign', 'benign', 'benign', 'benign', 'benign', 'dos attacks-goldeneye', 'benign', 'ssh-bruteforce', 'benign', 'dos attacks-goldeneye', 'benign', 'dos attacks-slowloris', 'benign', 'ssh-bruteforce', 'benign', 'benign', 'benign', 'benign', 'dos attacks-hulk', 'dos attacks-hulk', 'benign', 'benign', 'benign', 'benign', 'dos attacks-slowloris', 'benign', 'dos attacks-hulk', 'benign', 'dos attacks-goldeneye', 'dos attacks-synflood', 'benign', 'dos attacks-slowhttptest', 'dos attacks-goldeneye', 'benign', 'benign', 'benign', 'benign', 'ddos attack-hoic', 'ftp-bruteforce', 'brute force -web', 'ddos attack-hoic', 'benign', 'benign', 'dos attacks-slowloris', 'benign', 'benign', 'dos attacks-goldeneye', 'benign', 'ddos attack-hoic', 'dos attacks-goldeneye', 'benign', 'dos attacks-slowloris', 'dos attacks-hulk', 'benign', 'dos attacks-slowhttptest', 'benign', 'benign', 'benign', 'dos attacks-slowloris', 'benign', 'dos attacks-goldeneye', 'benign', 'benign', 'ssh-bruteforce', 'benign', 'benign', 'dos attacks-goldeneye', 'dos attacks-slowloris', 'benign', 'benign', 'benign', 'dos attacks-goldeneye', 'dos attacks-goldeneye', 'dos attacks-slowhttptest', 'benign', 'dos attacks-slowhttptest', 'ssh-bruteforce', 'ddos attack-loic-udp', 'dos attacks-slowloris', 'benign', 'benign', 'dos attacks-synflood', 'benign', 'dos attacks-slowhttptest', 'benign', 'dos attacks-slowloris', 'dos attacks-slowhttptest', 'benign', 'dos attacks-goldeneye', 'benign', 'benign', 'benign', 'benign', 'ftp-bruteforce', 'dos attacks-hulk', 'dos attacks-slowloris', 'benign', 'benign', 'ssh-bruteforce', 'dos attacks-slowloris', 'benign', 'dos attacks-slowloris', 'benign', 'benign', 'ddos attack-loic-udp', 'benign', 'ftp-bruteforce', 'benign', 'dos attacks-slowloris', 'dos attacks-synflood', 'benign', 'benign', 'benign', 'benign', 'ssh-bruteforce', 'benign', 'benign', 'benign', 'dos attacks-goldeneye', 'benign', 'benign', 'dos attacks-goldeneye', 'ssh-bruteforce', 'ssh-bruteforce', 'benign', 'benign', 'benign', 'benign', 'benign', 'dos attacks-slowhttptest', 'benign', 'benign', 'benign', 'dos attacks-goldeneye', 'benign', 'benign', 'ddos attack-loic-udp', 'benign', 'benign', 'benign', 'benign', 'benign', 'benign', 'benign', 'benign', 'ddos attack-loic-udp', 'benign', 'brute force -web', 'ddos attack-hoic', 'benign', 'dos attacks-slowhttptest', 'ddos attack-loic-udp', 'benign', 'dos attacks-hulk', 'ftp-bruteforce', 'benign', 'dos attacks-slowloris', 'benign', 'benign', 'benign', 'benign', 'benign', 'ssh-bruteforce', 'dos attacks-goldeneye', 'benign', 'benign', 'ssh-bruteforce', 'benign', 'ddos attack-hoic', 'benign', 'ddos attack-loic-udp', 'benign', 'benign', 'dos attacks-slowhttptest', 'benign', 'benign', 'benign', 'benign', 'benign', 'dos attacks-slowloris', 'dos attacks-slowhttptest', 'benign', 'benign', 'ddos attack-loic-udp', 'benign', 'benign', 'benign', 'benign', 'benign', 'benign', 'dos attacks-goldeneye', 'benign', 'dos attacks-slowloris', 'brute force -web', 'benign', 'benign', 'benign', 'dos attacks-slowloris', 'dos attacks-goldeneye', 'dos attacks-slowloris', 'benign', 'dos attacks-hulk', 'dos attacks-goldeneye', 'dos attacks-slowloris', 'benign', 'dos attacks-slowloris', 'ssh-bruteforce', 'benign', 'benign', 'ddos attack-loic-udp', 'brute force -web', 'dos attacks-synflood', 'dos attacks-goldeneye', 'dos attacks-goldeneye', 'benign', 'dos attacks-synflood', 'dos attacks-slowhttptest', 'benign', 'dos attacks-slowloris', 'dos attacks-goldeneye', 'ddos attack-hoic', 'benign', 'benign', 'benign', 'dos attacks-slowhttptest', 'benign', 'dos attacks-hulk', 'benign', 'ddos attack-loic-udp', 'dos attacks-goldeneye', 'benign', 'benign', 'benign', 'benign', 'dos attacks-synflood', 'ddos attack-loic-udp', 'benign', 'benign', 'ddos attack-loic-udp', 'benign', 'benign', 'benign', 'benign', 'dos attacks-goldeneye', 'benign', 'dos attacks-slowloris', 'dos attacks-hulk', 'benign', 'dos attacks-slowloris', 'benign', 'dos attacks-hulk', 'benign', 'dos attacks-slowhttptest', 'ddos attack-loic-udp', 'benign', 'benign', 'benign', 'benign', 'benign', 'benign', 'benign', 'dos attacks-slowhttptest', 'benign', 'benign', 'dos attacks-slowloris', 'dos attacks-hulk', 'benign', 'benign', 'benign', 'ftp-bruteforce', 'benign', 'ddos attack-loic-udp', 'benign', 'benign', 'dos attacks-slowloris', 'benign', 'dos attacks-hulk', 'benign', 'benign', 'benign', 'benign', 'dos attacks-goldeneye', 'dos attacks-synflood', 'dos attacks-goldeneye', 'ftp-bruteforce', 'ssh-bruteforce', 'brute force -web', 'dos attacks-hulk', 'benign', 'dos attacks-slowloris', 'dos attacks-slowloris', 'brute force -web', 'dos attacks-hulk', 'dos attacks-slowloris', 'dos attacks-slowhttptest', 'dos attacks-slowhttptest', 'benign', 'benign', 'benign', 'benign', 'benign', 'ddos attack-loic-udp', 'dos attacks-slowloris', 'dos attacks-slowhttptest', 'benign', 'benign', 'dos attacks-synflood', 'ssh-bruteforce', 'benign', 'benign', 'benign', 'benign', 'benign', 'benign', 'ddos attack-loic-udp', 'benign', 'dos attacks-slowloris', 'dos attacks-slowloris', 'benign', 'benign', 'dos attacks-synflood', 'benign', 'benign', 'dos attacks-slowloris', 'benign', 'dos attacks-slowloris', 'benign', 'dos attacks-slowloris', 'benign', 'dos attacks-slowloris', 'benign', 'ssh-bruteforce', 'ftp-bruteforce', 'dos attacks-goldeneye', 'dos attacks-slowloris', 'benign', 'benign', 'benign', 'dos attacks-goldeneye', 'benign', 'ftp-bruteforce', 'benign', 'dos attacks-hulk', 'benign', 'benign', 'benign', 'benign', 'benign', 'benign', 'benign', 'dos attacks-slowloris', 'dos attacks-slowhttptest', 'benign', 'dos attacks-goldeneye', 'benign', 'benign', 'dos attacks-slowloris', 'dos attacks-slowloris', 'benign', 'benign', 'benign', 'benign', 'benign', 'ddos attack-hoic', 'benign', 'dos attacks-slowloris', 'ddos attack-hoic', 'benign', 'benign', 'dos attacks-goldeneye', 'benign', 'ssh-bruteforce', 'benign', 'dos attacks-hulk', 'dos attacks-goldeneye', 'dos attacks-goldeneye', 'benign', 'benign', 'dos attacks-synflood', 'benign', 'dos attacks-goldeneye', 'benign', 'dos attacks-goldeneye', 'benign', 'benign', 'dos attacks-slowhttptest', 'dos attacks-goldeneye', 'dos attacks-hulk', 'benign', 'dos attacks-goldeneye', 'benign', 'dos attacks-hulk', 'benign', 'benign', 'benign', 'dos attacks-goldeneye', 'ddos attack-loic-udp', 'dos attacks-goldeneye', 'benign', 'benign', 'dos attacks-synflood', 'dos attacks-goldeneye', 'dos attacks-slowloris', 'benign', 'benign', 'benign', 'benign', 'benign', 'dos attacks-slowloris', 'dos attacks-synflood', 'benign', 'benign', 'benign', 'benign', 'ddos attack-loic-udp', 'benign', 'benign', 'benign', 'dos attacks-hulk', 'benign', 'benign', 'benign', 'benign', 'benign', 'benign', 'dos attacks-hulk', 'benign', 'dos attacks-goldeneye', 'dos attacks-synflood', 'dos attacks-slowloris', 'benign', 'benign', 'benign', 'benign', 'benign', 'dos attacks-goldeneye', 'benign', 'benign', 'benign', 'benign', 'benign', 'ddos attack-hoic', 'dos attacks-hulk', 'benign', 'benign', 'benign', 'benign', 'benign', 'benign', 'dos attacks-slowloris', 'benign', 'benign', 'benign', 'dos attacks-hulk', 'benign', 'benign', 'benign', 'benign', 'benign', 'benign', 'benign', 'benign', 'dos attacks-slowloris', 'benign', 'dos attacks-goldeneye', 'dos attacks-slowloris', 'benign', 'benign', 'benign', 'benign', 'dos attacks-synflood', 'benign', 'benign', 'benign', 'ssh-bruteforce', 'brute force -web', 'ddos attack-hoic', 'benign', 'benign', 'benign', 'benign', 'dos attacks-slowhttptest', 'benign', 'dos attacks-goldeneye', 'dos attacks-goldeneye', 'ssh-bruteforce', 'dos attacks-slowhttptest', 'benign', 'dos attacks-hulk', 'benign', 'benign', 'benign', 'benign', 'dos attacks-slowhttptest', 'benign', 'benign', 'benign', 'benign', 'benign', 'benign', 'ddos attack-loic-udp', 'ssh-bruteforce', 'ddos attack-hoic', 'benign', 'dos attacks-goldeneye', 'benign', 'benign', 'benign', 'benign', 'ddos attack-hoic', 'benign', 'dos attacks-hulk', 'dos attacks-slowhttptest', 'dos attacks-hulk', 'benign', 'benign', 'dos attacks-slowloris', 'ddos attack-hoic', 'benign', 'benign', 'ddos attack-loic-udp', 'dos attacks-synflood', 'ftp-bruteforce', 'dos attacks-goldeneye', 'benign', 'benign', 'benign', 'ssh-bruteforce', 'ddos attack-loic-udp', 'dos attacks-goldeneye', 'dos attacks-goldeneye', 'benign', 'benign', 'dos attacks-goldeneye', 'ddos attack-hoic', 'dos attacks-slowhttptest', 'benign', 'benign', 'ddos attack-hoic', 'benign', 'benign', 'benign', 'benign', 'dos attacks-hulk', 'dos attacks-slowloris', 'ssh-bruteforce', 'benign', 'benign', 'benign', 'dos attacks-synflood', 'benign', 'dos attacks-synflood', 'dos attacks-slowhttptest', 'benign', 'ddos attack-hoic', 'benign', 'benign', 'benign', 'benign', 'dos attacks-slowloris', 'benign', 'dos attacks-slowloris', 'dos attacks-slowhttptest', 'benign', 'dos attacks-slowloris', 'dos attacks-synflood', 'dos attacks-synflood', 'benign', 'benign', 'benign', 'dos attacks-goldeneye', 'benign', 'benign', 'benign', 'dos attacks-synflood', 'dos attacks-slowloris', 'brute force -web', 'dos attacks-goldeneye', 'dos attacks-slowloris', 'ddos attack-hoic', 'benign', 'benign', 'benign', 'benign', 'benign', 'dos attacks-slowhttptest', 'ddos attack-hoic', 'brute force -web', 'benign', 'benign', 'dos attacks-goldeneye', 'benign', 'ddos attack-hoic', 'benign', 'ddos attack-loic-udp', 'benign', 'dos attacks-slowloris', 'benign', 'dos attacks-slowhttptest', 'ddos attack-loic-udp', 'ssh-bruteforce', 'benign', 'dos attacks-goldeneye', 'benign', 'benign', 'dos attacks-synflood', 'benign', 'benign', 'benign', 'benign', 'benign', 'benign', 'benign', 'dos attacks-slowhttptest', 'dos attacks-goldeneye', 'benign', 'benign', 'benign', 'dos attacks-goldeneye', 'dos attacks-slowloris', 'dos attacks-goldeneye', 'benign', 'ddos attack-hoic', 'benign', 'benign', 'ddos attack-hoic', 'dos attacks-goldeneye', 'dos attacks-goldeneye', 'benign', 'dos attacks-goldeneye', 'dos attacks-goldeneye', 'benign', 'ddos attack-loic-udp', 'dos attacks-slowhttptest', 'benign', 'benign', 'ddos attack-hoic', 'benign', 'benign', 'benign', 'dos attacks-goldeneye', 'dos attacks-slowhttptest', 'benign', 'dos attacks-slowhttptest', 'benign', 'benign', 'benign', 'benign', 'dos attacks-slowloris', 'benign', 'benign', 'ddos attack-hoic', 'dos attacks-slowhttptest', 'ddos attack-hoic', 'benign', 'dos attacks-slowhttptest', 'benign', 'ddos attack-hoic', 'benign', 'benign', 'benign', 'benign', 'benign', 'benign', 'benign', 'benign', 'benign', 'benign', 'benign', 'dos attacks-goldeneye', 'benign', 'benign', 'benign', 'dos attacks-goldeneye', 'benign', 'ddos attack-hoic', 'dos attacks-slowhttptest', 'benign', 'ssh-bruteforce', 'ddos attack-hoic', 'benign', 'brute force -web', 'benign', 'benign', 'benign', 'benign', 'benign', 'benign', 'dos attacks-synflood', 'benign', 'benign', 'dos attacks-goldeneye', 'benign', 'benign', 'benign', 'benign', 'benign', 'benign', 'benign', 'benign', 'benign', 'benign', 'dos attacks-slowloris', 'benign', 'benign', 'benign', 'benign', 'ddos attack-hoic', 'ssh-bruteforce', 'dos attacks-hulk', 'benign', 'benign', 'dos attacks-goldeneye', 'dos attacks-goldeneye', 'dos attacks-slowloris', 'benign', 'benign', 'benign', 'benign', 'benign', 'benign', 'dos attacks-goldeneye', 'benign', 'benign', 'benign', 'brute force -web', 'benign', 'benign', 'benign', 'benign', 'benign', 'benign', 'benign', 'benign', 'benign', 'dos attacks-hulk', 'ssh-bruteforce', 'benign', 'dos attacks-slowloris', 'dos attacks-synflood', 'dos attacks-synflood', 'dos attacks-goldeneye', 'benign', 'dos attacks-synflood', 'benign', 'benign', 'benign', 'benign', 'benign', 'benign', 'ddos attack-loic-udp', 'dos attacks-slowloris', 'dos attacks-synflood', 'benign', 'benign', 'benign', 'benign', 'dos attacks-slowloris', 'ddos attack-loic-udp', 'ssh-bruteforce', 'benign', 'dos attacks-goldeneye', 'ssh-bruteforce', 'benign', 'benign', 'benign', 'benign', 'benign']\n"
     ]
    }
   ],
   "source": [
    "class_name = [mapper[index.item()+1] for index in class_idx]\n",
    "print(class_name)"
   ]
  },
  {
   "cell_type": "code",
   "execution_count": 26,
   "metadata": {},
   "outputs": [],
   "source": [
    "import os\n",
    "\n",
    "\n",
    "save_path = os.path.join('./model/model.pth')\n",
    "\n",
    "torch.save(\n",
    "                {\n",
    "                    'model_state_dict': model.state_dict(),\n",
    "                    'optimizer_state_dict': optimizer.state_dict(),\n",
    "                }\n",
    "                , save_path)"
   ]
  }
 ],
 "metadata": {
  "kaggle": {
   "accelerator": "none",
   "dataSources": [
    {
     "datasetId": 902298,
     "sourceId": 1530359,
     "sourceType": "datasetVersion"
    },
    {
     "datasetId": 6195988,
     "sourceId": 10055420,
     "sourceType": "datasetVersion"
    }
   ],
   "dockerImageVersionId": 30786,
   "isGpuEnabled": false,
   "isInternetEnabled": false,
   "language": "python",
   "sourceType": "notebook"
  },
  "kernelspec": {
   "display_name": "Python 3",
   "language": "python",
   "name": "python3"
  },
  "language_info": {
   "codemirror_mode": {
    "name": "ipython",
    "version": 3
   },
   "file_extension": ".py",
   "mimetype": "text/x-python",
   "name": "python",
   "nbconvert_exporter": "python",
   "pygments_lexer": "ipython3",
   "version": "3.11.3"
  }
 },
 "nbformat": 4,
 "nbformat_minor": 4
}
